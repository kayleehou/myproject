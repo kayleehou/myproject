{
 "cells": [
  {
   "cell_type": "markdown",
   "metadata": {},
   "source": [
    "# Python Identifying and Correcting Errors\n",
    "> Practice with identifying and correcting code blocks\n",
    "\n",
    "- layout: default\n",
    "- categories: [python]\n",
    "- comments: true "
   ]
  },
  {
   "cell_type": "markdown",
   "metadata": {},
   "source": [
    "[College Board Big Idea 1](https://apclassroom.collegeboard.org/103/home?unit=1)\n",
    "\n",
    "## Identifying and Correcting Errors (Unit 1.4)\n",
    "> Become familiar with types of errors and strategies to fixing them\n",
    "- Lightly Review Videos and take notes on topics with Blog\n",
    "- Complete assigned MCQ questions"
   ]
  },
  {
   "cell_type": "markdown",
   "metadata": {},
   "source": [
    "# Here are some code segments you can practice fixing:"
   ]
  },
  {
   "cell_type": "code",
   "execution_count": 1,
   "metadata": {},
   "outputs": [
    {
     "name": "stdout",
     "output_type": "stream",
     "text": [
      "['a', 'b', 'c', 'd', 'e', 'f', 'g', 'h', 'i', 'j', 'k', 'l', 'm', 'n', 'o', 'p', 'q', 'r', 's', 't', 'u', 'v', 'w', 'x', 'y', 'z']\n"
     ]
    }
   ],
   "source": [
    "#Create a list of the alphabet\n",
    "\n",
    "alphabet = \"abcdefghijklmnopqrstuvwxyz\"\n",
    "\n",
    "alphabetList = []\n",
    "\n",
    "for i in alphabet:\n",
    "    alphabetList.append(i)\n",
    "\n",
    "print(alphabetList)"
   ]
  },
  {
   "cell_type": "markdown",
   "metadata": {},
   "source": [
    "The intended outcome is to determine where the letter is in the alphabet using a while loop\n",
    "- What is a good test case to check the current outcome? Why?\n",
    "- Make changes to get the intended outcome."
   ]
  },
  {
   "cell_type": "code",
   "execution_count": 8,
   "metadata": {},
   "outputs": [
    {
     "name": "stdout",
     "output_type": "stream",
     "text": [
      "The letter h is the 8 letter in the alphabet\n"
     ]
    }
   ],
   "source": [
    "\n",
    "\n",
    "letter = input(\"What letter would you like to check?\")\n",
    "\n",
    "i = 0\n",
    "\n",
    "while i < 26:\n",
    "    if alphabetList[i] == letter:\n",
    "        print(\"The letter \" + letter + \" is the \" + str(i+1) + \" letter in the alphabet\")\n",
    "    i += 1\n",
    "\n"
   ]
  },
  {
   "cell_type": "markdown",
   "metadata": {},
   "source": [
    "The intended outcome is to determine where the letter is in the alphabet using a for loop\n",
    "- What is a good test case to check the current outcome? Why?\n",
    "- Make changes to get the intended outcome."
   ]
  },
  {
   "cell_type": "code",
   "execution_count": 12,
   "metadata": {},
   "outputs": [
    {
     "name": "stdout",
     "output_type": "stream",
     "text": [
      "The letter z is the 26 letter in the alphabet\n"
     ]
    }
   ],
   "source": [
    "\n",
    "\n",
    "letter = input(\"What letter would you like to check?\")\n",
    "\n",
    "count = 1\n",
    "\n",
    "for i in alphabetList:\n",
    "    if i == letter:\n",
    "        print(\"The letter \" + letter + \" is the \" + str(count) + \" letter in the alphabet\")\n",
    "    count += 1\n",
    "\n"
   ]
  },
  {
   "cell_type": "markdown",
   "metadata": {},
   "source": [
    "This code outputs the even numbers from 0 - 10 using a while loop.\n",
    "- Analyze this code to determine what can be changed to get the outcome to be odd numbers. (Code block below)\n"
   ]
  },
  {
   "cell_type": "code",
   "execution_count": 13,
   "metadata": {},
   "outputs": [
    {
     "name": "stdout",
     "output_type": "stream",
     "text": [
      "[0, 2, 4, 6, 8, 10]\n"
     ]
    }
   ],
   "source": [
    "\n",
    "evens = []\n",
    "i = 0\n",
    "\n",
    "while i <= 10:\n",
    "    evens.append(i)\n",
    "    i += 2\n",
    "\n",
    "print(evens)    \n",
    "\n"
   ]
  },
  {
   "cell_type": "markdown",
   "metadata": {},
   "source": [
    "This code should output the odd numbers from 0 - 10 using a while loop."
   ]
  },
  {
   "cell_type": "code",
   "execution_count": 15,
   "metadata": {},
   "outputs": [
    {
     "name": "stdout",
     "output_type": "stream",
     "text": [
      "[1, 3, 5, 7, 9]\n"
     ]
    }
   ],
   "source": [
    "\n",
    "odds = []\n",
    "i = 1\n",
    "\n",
    "while i <= 10:\n",
    "    odds.append(i)\n",
    "    i += 2\n",
    "\n",
    "print(odds)"
   ]
  },
  {
   "cell_type": "markdown",
   "metadata": {},
   "source": [
    "This code outputs the even numbers from 0 - 10 using a for loop.\n",
    "- Analyze this code to determine what can be changed to get the outcome to be odd numbers. (Code block below)"
   ]
  },
  {
   "cell_type": "code",
   "execution_count": 16,
   "metadata": {},
   "outputs": [
    {
     "name": "stdout",
     "output_type": "stream",
     "text": [
      "[0, 2, 4, 6, 8, 10]\n"
     ]
    }
   ],
   "source": [
    "\n",
    "numbers = [0,1,2,3,4,5,6,7,8,9,10]\n",
    "evens = []\n",
    "\n",
    "for i in numbers:\n",
    "    if (numbers[i] % 2 == 0): # % is modulus that returns remainder\n",
    "        evens.append(numbers[i])\n",
    "\n",
    "print(evens)\n",
    "\n"
   ]
  },
  {
   "cell_type": "markdown",
   "metadata": {},
   "source": [
    "This code should output the odd numbers from 0 - 10 using a for loop."
   ]
  },
  {
   "cell_type": "code",
   "execution_count": 17,
   "metadata": {},
   "outputs": [
    {
     "name": "stdout",
     "output_type": "stream",
     "text": [
      "[1, 3, 5, 7, 9]\n"
     ]
    }
   ],
   "source": [
    "\n",
    "numbers = [0,1,2,3,4,5,6,7,8,9,10]\n",
    "odds = []\n",
    "\n",
    "for i in numbers:\n",
    "    if (numbers[i] % 2 == 1):\n",
    "        odds.append(numbers[i])\n",
    "\n",
    "print(odds)"
   ]
  },
  {
   "cell_type": "markdown",
   "metadata": {},
   "source": [
    "The intended outcome is printing a number between 1 and 100 once, if it is a multiple of 2 or 5 \n",
    "- What values are outputted incorrectly. Why?\n",
    "- Make changes to get the intended outcome."
   ]
  },
  {
   "cell_type": "code",
   "execution_count": 35,
   "metadata": {},
   "outputs": [
    {
     "name": "stdout",
     "output_type": "stream",
     "text": [
      "[2, 4, 5, 6, 8, 10, 12, 14, 15, 16, 18, 20, 22, 24, 25, 26, 28, 30, 32, 34, 35, 36, 38, 40, 42, 44, 45, 46, 48, 50, 52, 54, 55, 56, 58, 60, 62, 64, 65, 66, 68, 70, 72, 74, 75, 76, 78, 80, 82, 84, 85, 86, 88, 90, 92, 94, 95, 96, 98, 100]\n"
     ]
    }
   ],
   "source": [
    "\n",
    "numbers = []\n",
    "\n",
    "newNumbers = []\n",
    "i = 0\n",
    "\n",
    "while i <= 100:\n",
    "    numbers.append(i)\n",
    "    i += 1\n",
    "\n",
    "for i in numbers:\n",
    "    if numbers[i] == 0:\n",
    "        pass   # if it's zero, do nothing, you can also use continue, if it's equal to zero, skip to loop and bypass the code and do the same thing\n",
    "    elif numbers[i] % 5 == 0:\n",
    "        newNumbers.append(numbers[i])\n",
    "    elif numbers[i] % 2 == 0:   # if it doesn't do first one, it does this, otherwise, nothing happens\n",
    "        newNumbers.append(numbers[i])\n",
    "\n",
    "print(newNumbers) \n",
    "\n"
   ]
  },
  {
   "cell_type": "markdown",
   "metadata": {},
   "source": [
    "# Challenge\n",
    "\n",
    "This code segment is at a very early stage of implementation.\n",
    "- What are some ways to (user) error proof this code?\n",
    "- The code should be able to calculate the cost of the meal of the user\n",
    "\n",
    "Hint:\n",
    "- write a “single” test describing an expectation of the program of the program\n",
    "- test - input burger, expect output of burger price\n",
    "- run the test, which should fail because the program lacks that feature\n",
    "- write “just enough” code, the simplest possible, to make the test pass\n",
    "\n",
    "Then repeat this process until you get program working like you want it to work."
   ]
  },
  {
   "cell_type": "code",
   "execution_count": 106,
   "metadata": {},
   "outputs": [
    {
     "name": "stdout",
     "output_type": "stream",
     "text": [
      "======================\n",
      "~~~ Kaylee's Menu ~~~\n",
      "pasta :  $ 7.08\n",
      "pizza :  $ 11.53\n",
      "breadstick :  $ 0.99\n",
      "drink :  $ 1.09\n",
      "======================\n",
      "Welcome to Kaylee's Italian Food Truck, what would you like to order from our menu?\n",
      "Your order is:  pasta 7.08\n",
      "How many pastas would you like to order?\n",
      "Your total for 2 pasta(s) is $14.16. Enjoy!\n"
     ]
    }
   ],
   "source": [
    "my_Menu =  {\"pasta\": 7.08,\n",
    "            \"pizza\": 11.53,\n",
    "            \"breadstick\": 0.99,\n",
    "            \"drink\": 1.09}  # define my menu as a dictionary data type, key is the name of food, value is the price \n",
    "\n",
    "price_total = 0  #set initial value, default value means function argument will take this value if no argument value is passed during function call\n",
    "\n",
    "print(\"======================\") #print menu decoration line on top\n",
    "print(\"~~~ Kaylee's Menu ~~~\")\n",
    "# print a nice menu that allows user to choose from \n",
    "for x,y in my_Menu.items():\n",
    "    print(x,\": \",\"$\",y)\n",
    "print(\"======================\") #print menu decoration line at bottom\n",
    "\n",
    "print(\"Welcome to Kaylee's Italian Food Truck, what would you like to order from our menu?\")\n",
    "myUserInput = \"pasta\"  #define and set initial value\n",
    "myUserInput = input() #define variable to hold user input\n",
    "myUserOrderKey = myUserInput  #define and set initial value-- used to print out user's selected key and value\n",
    "myCounter = 0 #count through the loop \n",
    "myTotalOrderQuestion = \"How many \" + myUserInput + \"s would you like to order?\"\n",
    "myError = \"Sorry, we don't have '\" + myUserInput + \"' in our menu\"\n",
    "totalUserInput = 0 #define variable\n",
    "\n",
    "\n",
    "for x,y in my_Menu.items(): #loop through my menu\n",
    "    if x == myUserInput: #if the user input matches a key in my menu4\n",
    "        print(\"Your order is: \",x,y) #then print the key and value \n",
    "        break #stop looping when you get result \n",
    "    else:\n",
    "       myCounter += 1 \n",
    "       if myCounter == 4: # if loop four times, it means we don't have the item in the menu \n",
    "            print(myError)\n",
    "if myCounter != 4:   \n",
    "    print(myTotalOrderQuestion) \n",
    "    totalUserInput = int(input())   #only get user input when you need it, otherwise it will always prompt\n",
    "    myUserTotal = \"Your total\" + \" for \" + str(totalUserInput) + \" \"+ x +\"(s) is $\" + str(y*totalUserInput)+ \". Enjoy!\"\n",
    "    if totalUserInput >= 1:\n",
    "        print(myUserTotal)\n",
    "    else:\n",
    "        print(\"Please give a number of at least one.\")\n",
    "    "
   ]
  },
  {
   "cell_type": "markdown",
   "metadata": {},
   "source": [
    "## Hacks\n",
    "> Now is a good time to think about Testing of your teams final project...\n",
    "- What errors may arise in your project?\n",
    "- What are some test cases that can be used?\n",
    "- Make sure to document any bugs you encounter and how you solved the problem.\n",
    "- What are “single” tests that you will perform on your project? Or, your part of the project?\n",
    "    * As Hack Design and Test plan action … Divide these “single” tests into Issues for Scrum Board prior to coding. FYI, related tests could be in same Issue by using markdown checkboxes to separate tests."
   ]
  }
 ],
 "metadata": {
  "kernelspec": {
   "display_name": "Python 3.9.12 ('base')",
   "language": "python",
   "name": "python3"
  },
  "language_info": {
   "codemirror_mode": {
    "name": "ipython",
    "version": 3
   },
   "file_extension": ".py",
   "mimetype": "text/x-python",
   "name": "python",
   "nbconvert_exporter": "python",
   "pygments_lexer": "ipython3",
   "version": "3.9.12"
  },
  "orig_nbformat": 4,
  "vscode": {
   "interpreter": {
    "hash": "d1e630f086fdc2c4485cd3472dbc38e15291e251b78da1fca784a44d4839495c"
   }
  }
 },
 "nbformat": 4,
 "nbformat_minor": 2
}
