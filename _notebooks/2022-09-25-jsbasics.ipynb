{
 "cells": [
  {
   "cell_type": "markdown",
   "metadata": {},
   "source": [
    "# JavaScript Basics \n",
    "> playing around with different javascript variables \n",
    "\n",
    "- toc: true\n",
    "- comments: true\n",
    "- image: /images/js.png\n",
    "- categories: [Javascript]\n"
   ]
  },
  {
   "cell_type": "markdown",
   "metadata": {},
   "source": [
    "## Variables to Store Data \n",
    "### Var\n",
    "- var is function scoped- can only be accessible within the function, you can also redeclare variables \n",
    "- generally, don't use var-  if a variable is defined in a loop or in an if statement it can be accessed outside the block and accidentally redefined, can lead to bugs "
   ]
  },
  {
   "cell_type": "code",
   "execution_count": 21,
   "metadata": {},
   "outputs": [
    {
     "name": "stdout",
     "output_type": "stream",
     "text": [
      "20\n"
     ]
    }
   ],
   "source": [
    "var x = 16;\n",
    "var y = 4;  // variables are x y z and are declared with var keyword \n",
    "var z = x + y;\n",
    "console.log(z)"
   ]
  },
  {
   "cell_type": "markdown",
   "metadata": {},
   "source": [
    "## Const\n",
    "- const values cannot be changed \n",
    "- general rule, always declare variables with const unless you think the variable will change \n",
    "- block-scoped so we can access const only within the block where it was declared. "
   ]
  },
  {
   "cell_type": "code",
   "execution_count": 22,
   "metadata": {},
   "outputs": [
    {
     "name": "stdout",
     "output_type": "stream",
     "text": [
      "3.14\n"
     ]
    }
   ],
   "source": [
    "const pi = 3.14;\n",
    "console.log(pi)"
   ]
  },
  {
   "cell_type": "markdown",
   "metadata": {},
   "source": [
    "## let \n",
    "- use if you think variable will change \n",
    "- block scoped"
   ]
  },
  {
   "cell_type": "code",
   "execution_count": 23,
   "metadata": {},
   "outputs": [
    {
     "name": "stdout",
     "output_type": "stream",
     "text": [
      "Fluffy\n"
     ]
    }
   ],
   "source": [
    "let dog_name = \"Fluffy\";\n",
    "console.log(dog_name)"
   ]
  }
 ],
 "metadata": {
  "kernelspec": {
   "display_name": "JavaScript (Node.js)",
   "language": "javascript",
   "name": "javascript"
  },
  "language_info": {
   "file_extension": ".js",
   "mimetype": "application/javascript",
   "name": "javascript",
   "version": "6.11.2"
  },
  "orig_nbformat": 4
 },
 "nbformat": 4,
 "nbformat_minor": 2
}
