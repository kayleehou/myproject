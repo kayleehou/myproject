{
 "cells": [
  {
   "cell_type": "markdown",
   "metadata": {},
   "source": [
    "# Fundamental Vocab Definitions Blog\n",
    "\n",
    "- toc: true \n",
    "- categories: [Student Teaching]\n",
    "- badges: true\n",
    "- comments: true"
   ]
  },
  {
   "cell_type": "markdown",
   "metadata": {},
   "source": [
    "## Unit 2… Binary/Data Terms\n",
    "- bits: the minimum unit of binary information stored in a computer system. A bit can have only two states, on or off, which are commonly represented as ones and zeros. In our binary markdown we used {% assign BITS = 24 %} to change the number of bits. \n",
    "- bytes: A group of eight bits put together is known as a byte. A byte consists of 256 different combinations if you include the number 00000000 — all the binary numbers between 00000000 and 11111111.\n",
    "- hexadecimal/nibbles: Hexadecimal is a numbering system with base 16. It can be used to represent large numbers with fewer digits. In this system there are 16 symbols or possible digit values from 0 to 9, followed by six alphabetic characters -- A, B, C, D, E and F. For example, when we use Javascript to change the color of the background on our blogs, we use hexadecimals like #eb4034, which would give us a red color. Here's an example of it in our fastpages: \n",
    "\n",
    ".post-content p, .post-content li {\n",
    "   font-size: 20px;\n",
    "   color: #515151;\n",
    "}\n",
    "- RGB- Hexadecimal is basically a short code for RGB color, they are simply different ways of communicating the same thing – a red, green, and blue color value. For example, (235, 64, 52) is the RGB for RED. Here's an example of how it is implemented in our fastpages: \n",
    "\n",
    "a {\n",
    "   color: rgb(255,255, 255) !important;\n",
    "}\n",
    "- boolean- value that is either true or false"
   ]
  },
  {
   "cell_type": "code",
   "execution_count": 1,
   "metadata": {},
   "outputs": [
    {
     "name": "stdout",
     "output_type": "stream",
     "text": [
      "False\n"
     ]
    }
   ],
   "source": [
    "# Boolean example \n",
    "x = 5\n",
    "y = 4\n",
    "z = 4 > 5\n",
    "print(z) # value of z is false "
   ]
  },
  {
   "cell_type": "code",
   "execution_count": 8,
   "metadata": {},
   "outputs": [
    {
     "name": "stdout",
     "output_type": "stream",
     "text": [
      "True\n",
      "False\n",
      "True\n"
     ]
    }
   ],
   "source": [
    "print(30 > 19) # Will output true, since is 30 is larger than 19\n",
    "\n",
    "# Using variables and strings\n",
    "a = \"Yes\"\n",
    "b = \"No\"\n",
    "print(a == b) # Will output false, not the same\n",
    "\n",
    "# Renaming b\n",
    "b = \"Yes\"\n",
    "print(a == b) # Will output true, since both variables match"
   ]
  },
  {
   "cell_type": "markdown",
   "metadata": {},
   "source": [
    "## Unit 3… Algorithm/Programming Terms\n",
    "- variables- A variable is an abstraction inside a program that can hold a value. Each variable has associated data storage that represents one value at a time, but that value can be a list or other collection that in turn contains multiple values. Using meaningful variable names helps with readability of program code and understanding of what values are represented by the variables. Some programming languages provide types to represent data, which are referenced using variables. \n",
    "- data types- integer, string, float, boolean, lists, dictionaries, arrays, etc.\n",
    "- lists- Lists are used to store multiple items in a single variable.\n",
    "- dictionaries- A dictionary consists of a collection of key-value pairs. Each key-value pair maps the key to its associated value."
   ]
  },
  {
   "cell_type": "code",
   "execution_count": null,
   "metadata": {},
   "outputs": [],
   "source": [
    "x = 2 #integer\n",
    "y = \"school\" #string\n",
    "z = True #boolean\n",
    "a = 2.7 #float\n",
    "list = [\"apple\", \"banana\", \"cherry\"] #list\n",
    "dict = {\"name\" : \"John\", \"age\" : 36} # dictionary"
   ]
  },
  {
   "cell_type": "markdown",
   "metadata": {},
   "source": [
    "- assignment operators: \n",
    "\n",
    "A plus sign indicates addition: a + b\n",
    "\n",
    "A subtraction sign indicates subtraction: a - b\n",
    "\n",
    "An asterisk/star indicates multiplication: a * b\n",
    "\n",
    "A slash indicates division: a / b\n",
    "\n",
    "MOD represent the Modulus operator. Returns the value after division: a MOD b"
   ]
  },
  {
   "cell_type": "code",
   "execution_count": 2,
   "metadata": {},
   "outputs": [
    {
     "name": "stdout",
     "output_type": "stream",
     "text": [
      "18\n",
      "1\n"
     ]
    }
   ],
   "source": [
    "result = 9 * 2 #multiplication operator \n",
    "print(result)\n",
    "answer = 4-3 #subtraction operator \n",
    "print(answer)"
   ]
  },
  {
   "cell_type": "markdown",
   "metadata": {},
   "source": [
    "- algorithms- finite set of instructions that accomplish a specific task, composed of sequencing, selection, and iteration.\n",
    "- sequence- a section of code is run only if a condition is met. (ex: if statements)\n",
    "- selection- repeating steps or instructions over and over again (ex: loops)\n",
    "- iteration- outline or set of steps that we do and follow in order that they are given\n",
    "\n",
    "Example: \n",
    "Set largestNumber to 0\n",
    "Get next number in list\n",
    "If number is larger than largestNumber then set largestNumber to number\n",
    "If there are more numbers in list, go back to Step 2\n",
    "Display largestNumber\n",
    "Sequencing: Steps 1-5 in order\n",
    "\n",
    "Selection: Step 3\n",
    "\n",
    "Iteration: Step 4"
   ]
  },
  {
   "cell_type": "markdown",
   "metadata": {},
   "source": [
    "- strings- a sequence of characters \n",
    "- concatenation- combines two or more strings into one\n",
    "- length- len function finds the number of characters in a string\n",
    "- substring- a part of a existing string\n",
    "\n",
    "Ex: \n",
    "substring(“APCSPrinciples”, 3, 6)\n",
    "\n",
    "Result: “CSPrin”\n",
    "\n",
    "Starts at the 3rd character (“C”) and takes 6 characters after that (“SPrin), then in all (“CSPrin”)"
   ]
  },
  {
   "cell_type": "code",
   "execution_count": 6,
   "metadata": {},
   "outputs": [
    {
     "name": "stdout",
     "output_type": "stream",
     "text": [
      "this is an example of a string!\n",
      "31\n"
     ]
    }
   ],
   "source": [
    "stringExample = \"this is an example of a string!\" #strings are in quotations \n",
    "print(stringExample)\n",
    "print(len(stringExample)) # this will find the number of characters in the string "
   ]
  },
  {
   "cell_type": "code",
   "execution_count": 7,
   "metadata": {},
   "outputs": [
    {
     "name": "stdout",
     "output_type": "stream",
     "text": [
      "I am 17 years old.\n",
      "hello there\n"
     ]
    }
   ],
   "source": [
    "# concatenation example\n",
    "age  = 17\n",
    "print(\"I am\", str(age), \"years old.\") #concatenation example, combining a string and integer together\n",
    "str1 = \"hello\"\n",
    "str2 = \"there\"\n",
    "print(str1, str2) # putting the strings together "
   ]
  },
  {
   "cell_type": "markdown",
   "metadata": {},
   "source": [
    "- upper- upper() method returns the uppercase string from the given string. It converts all lowercase characters to uppercase.\n",
    "- lower- lower() method returns the lowercase string from the given string. It converts all uppercase characters to lowercase. "
   ]
  },
  {
   "cell_type": "code",
   "execution_count": 10,
   "metadata": {},
   "outputs": [
    {
     "name": "stdout",
     "output_type": "stream",
     "text": [
      "THIS IS ALL LOWERCASE\n",
      "this is all uppercase\n"
     ]
    }
   ],
   "source": [
    "lowerCase = \"this is all lowercase\"\n",
    "upperCase = \"THIS IS ALL UPPERCASE\"\n",
    "print(lowerCase.upper()) # this will print the lower case in all upper case\n",
    "print(upperCase.lower()) # this will print the upper case in all lower case "
   ]
  },
  {
   "cell_type": "markdown",
   "metadata": {},
   "source": [
    "- comparison operators- Logical operators allow for boolean values to be evaluated. Pseudocode uses the logical operators NOT, AND, and OR."
   ]
  },
  {
   "cell_type": "code",
   "execution_count": 9,
   "metadata": {},
   "outputs": [
    {
     "name": "stdout",
     "output_type": "stream",
     "text": [
      "True\n",
      "There is enough dessert\n",
      "True\n",
      "False\n"
     ]
    }
   ],
   "source": [
    "print(1 == 1 and 10 >= 0) # Returns true because both statements are true\n",
    "\n",
    "cookies = 25\n",
    "brownies = 30\n",
    "print(\"There is enough dessert\") # First condition is false, but second condition is true\n",
    "print(cookies == 50 or cookies + brownies >= 35) # Ends up returning true since at least one condition is true\n",
    "\n",
    "# The expression \"Blue\" != \"Green\" is false\n",
    "print(not \"Blue\" != \"Green\") # Not operator changes statement to not false, printing true"
   ]
  },
  {
   "cell_type": "markdown",
   "metadata": {},
   "source": [
    "- Truth tables- A truth table is a way of summarizing and checking the logic of a circuit. The table shows all possible combinations of inputs and, for each combination, the output that the circuit will produce. \n",
    "<html>\n",
    "<style>\n",
    "    table, th, td { \n",
    "        border:2px solid white;\n",
    "    }\n",
    "</style>\n",
    "    <div>AND Operator</div>\n",
    "    <div>\n",
    "        <table>\n",
    "            <tr>\n",
    "                <th>Value 1</th>\n",
    "                <th>Value 2</th>\n",
    "                <th>Result</th>\n",
    "            </tr>\n",
    "            <tr>\n",
    "                <td>1</td>\n",
    "                <td>1</td>\n",
    "                <td>1</td>\n",
    "            </tr>\n",
    "            <tr>\n",
    "                <td>1</td>\n",
    "                <td>0</td>\n",
    "                <td>0</td>\n",
    "            </tr>\n",
    "            <tr>\n",
    "                <td>0</td>\n",
    "                <td>1</td>\n",
    "                <td>0</td>\n",
    "            </tr>\n",
    "            <tr>\n",
    "                <td>0</td>\n",
    "                <td>0</td>\n",
    "                <td>0</td>\n",
    "            </tr>\n",
    "        </table>\n",
    "    </div>\n",
    "    <div>OR Operator</div>\n",
    "    <div>\n",
    "        <table>\n",
    "            <tr>\n",
    "                <th>Value 1</th>\n",
    "                <th>Value 2</th>\n",
    "                <th>Result</th>\n",
    "            </tr>\n",
    "            <tr>\n",
    "                <td>1</td>\n",
    "                <td>1</td>\n",
    "                <td>1</td>\n",
    "            </tr>\n",
    "            <tr>\n",
    "                <td>1</td>\n",
    "                <td>0</td>\n",
    "                <td>1</td>\n",
    "            </tr>\n",
    "            <tr>\n",
    "                <td>0</td>\n",
    "                <td>1</td>\n",
    "                <td>1</td>\n",
    "            </tr>\n",
    "            <tr>\n",
    "                <td>0</td>\n",
    "                <td>0</td>\n",
    "                <td>0</td>\n",
    "            </tr>\n",
    "        </table>\n",
    "    </div>\n",
    "    <div>Not operator</div>\n",
    "    <div>\n",
    "        <table>\n",
    "            <tr>\n",
    "                <th>Not</th>\n",
    "                <th>Value</th>\n",
    "                <th>Result</th>\n",
    "            </tr>\n",
    "            <tr>\n",
    "                <td>Not</td>\n",
    "                <td>1</td>\n",
    "                <td>0</td>\n",
    "            </tr>\n",
    "            <tr>\n",
    "                <td>Not</td>\n",
    "                <td>0</td>\n",
    "                <td>1</td>\n",
    "            </tr>\n",
    "        </table>\n",
    "    </div>\n",
    "</html>"
   ]
  },
  {
   "cell_type": "markdown",
   "metadata": {},
   "source": [
    "- if statement- will go through certain statements if the if expression is true\n",
    "- if-else- will go through a statement no matter what, but the statement which is run depends on the if expression is true or false \n",
    "- elif- elif is short for \"else if\" and is used when the first if statement isn't true, but you want to check for another condition. Meaning, if statements pair up with elif and else statements to perform a series of checks.\n",
    "- nested selection statements- Nested selection structures are used when more than one decision must be made before carrying out a task. Nesting is a programming activity, in which one program block is placed inside other program block of the same operation type. Nesting processes are mostly used implemented in the selection control structures."
   ]
  },
  {
   "cell_type": "code",
   "execution_count": 11,
   "metadata": {},
   "outputs": [
    {
     "name": "stdout",
     "output_type": "stream",
     "text": [
      "12\n"
     ]
    }
   ],
   "source": [
    "# if else example \n",
    "S = 12\n",
    "if S % 2 == 0:\n",
    "    print(S)\n",
    "else:\n",
    "    print(\"This number is not even.\")"
   ]
  },
  {
   "cell_type": "code",
   "execution_count": 12,
   "metadata": {},
   "outputs": [
    {
     "name": "stdout",
     "output_type": "stream",
     "text": [
      "28\n"
     ]
    }
   ],
   "source": [
    "number1 = 28\n",
    "number2 = 43\n",
    "def lessthan30(num):\n",
    "    # Example of if statement\n",
    "    if num < 30: # If this condition is true(variable is less than 30)\n",
    "        print(num) # Then the value of the variable will be printed\n",
    "\n",
    "lessthan30(number1) # The if statement is true, so it will print the value of 28\n",
    "lessthan30(number2) # The if statement is false, nothing will be printed."
   ]
  },
  {
   "cell_type": "code",
   "execution_count": 13,
   "metadata": {},
   "outputs": [
    {
     "name": "stdout",
     "output_type": "stream",
     "text": [
      "price is 100\n"
     ]
    }
   ],
   "source": [
    "price = 100\n",
    "\n",
    "if price > 100:\n",
    "    print(\"price is greater than 100\")\n",
    "elif price == 100: #elif use \n",
    "    print(\"price is 100\")\n",
    "elif price < 100:\n",
    "    print(\"price is less than 100\")"
   ]
  },
  {
   "cell_type": "code",
   "execution_count": 14,
   "metadata": {},
   "outputs": [
    {
     "name": "stdout",
     "output_type": "stream",
     "text": [
      "['lion', 'tiger', 'wildebeest', 'shark', 'jellyfish', 'blobfish', 'raven']\n",
      "lion\n",
      "tiger\n",
      "wildebeest\n",
      "Fun Fact: The smallest shark is the dwarf lantern shark, and it is small enough to hold in your hand!\n",
      "jellyfish\n",
      "blobfish\n",
      "raven\n"
     ]
    }
   ],
   "source": [
    "# nested conditionals\n",
    "animals = [\"lion\", \"tiger\", \"wildebeest\", \"shark\", \"jellyfish\", \"blobfish\", \"raven\"]\n",
    " \n",
    "print(animals)\n",
    "for i in animals: # if else statement nested in for loop \n",
    "    if i == \"shark\": # What boolean value does this statement cause? Answer: True\n",
    "        print(\"Fun Fact: The smallest shark is the dwarf lantern shark, and it is small enough to hold in your hand!\")\n",
    "    else:\n",
    "        print(i)"
   ]
  },
  {
   "cell_type": "markdown",
   "metadata": {},
   "source": [
    "- For Loop: repeats a function for a set number of times; I is the number of times repeated. With the for loop we can execute a set of statements, once for each item in a list, tuple, set etc.\n",
    "- While Loop: the while loop is used to repeat a section of code an unknown number of times until a specific condition is met. A while loop will execute a set of statements as long as a condition is true.\n",
    "- return values: The value that a function returns to the caller is generally known as the function's return value. All Python functions have a return value, either explicit or implicit.\n",
    "- continue: With the continue statement we can stop the current iteration, and continue with the next:"
   ]
  },
  {
   "cell_type": "code",
   "execution_count": 16,
   "metadata": {},
   "outputs": [
    {
     "name": "stdout",
     "output_type": "stream",
     "text": [
      "apple\n",
      "banana\n",
      "cherry\n"
     ]
    }
   ],
   "source": [
    "#for loop \n",
    "fruits = [\"apple\", \"banana\", \"cherry\"]\n",
    "for x in fruits: # loops through the entire list \n",
    "  print(x)"
   ]
  },
  {
   "cell_type": "code",
   "execution_count": 17,
   "metadata": {},
   "outputs": [
    {
     "name": "stdout",
     "output_type": "stream",
     "text": [
      "1\n",
      "2\n",
      "3\n",
      "4\n",
      "5\n"
     ]
    }
   ],
   "source": [
    "# while loop \n",
    "i = 1\n",
    "while i < 6:\n",
    "  print(i) # i will keep printing as long as the statement is true \n",
    "  i += 1"
   ]
  },
  {
   "cell_type": "code",
   "execution_count": 18,
   "metadata": {},
   "outputs": [
    {
     "name": "stdout",
     "output_type": "stream",
     "text": [
      "1\n",
      "2\n",
      "4\n",
      "5\n",
      "6\n"
     ]
    }
   ],
   "source": [
    "#continue \n",
    "i = 0\n",
    "while i < 6:\n",
    "  i += 1\n",
    "  if i == 3:\n",
    "    continue\n",
    "  print(i)"
   ]
  },
  {
   "cell_type": "code",
   "execution_count": 15,
   "metadata": {},
   "outputs": [
    {
     "name": "stdout",
     "output_type": "stream",
     "text": [
      "15\n",
      "25\n"
     ]
    }
   ],
   "source": [
    "# return function \n",
    "def my_function(x):\n",
    "  return 5 * x\n",
    "\n",
    "print(my_function(3))\n",
    "print(my_function(5))"
   ]
  },
  {
   "cell_type": "markdown",
   "metadata": {},
   "source": [
    "- range: The range() function returns a sequence of numbers, starting from 0 by default, and increments by 1 (by default), and stops before a specified number."
   ]
  },
  {
   "cell_type": "code",
   "execution_count": 19,
   "metadata": {},
   "outputs": [
    {
     "name": "stdout",
     "output_type": "stream",
     "text": [
      "3\n",
      "4\n",
      "5\n"
     ]
    }
   ],
   "source": [
    "# Examples: \n",
    "x = range(3, 6)\n",
    "for n in x:\n",
    "  print(n)"
   ]
  },
  {
   "cell_type": "markdown",
   "metadata": {},
   "source": [
    "- class- A class creates a new local namespace where all its attributes are defined. Attributes may be data or functions. Like function definitions begin with the def keyword in Python, class definitions begin with a class keyword.\n",
    "- parameters- Parameters are the variables that appear between the brackets in the \"def\" line of a Python function definition. Parameters are input values of a procedure.\n",
    "- Procedure: is a named group of programming instructions that may have parameters and return values. Procedures can be reffered to as method or function depending on the programing language. A procedrure call interrupts an execution of statements and makes the program execute the statements in the procedure.\n",
    "- procedural abstraction- One good use of a procedure is to eliminate duplicate code. In addition to improving the readability of the app, the use of a procedure will make it easier to modify that chunk of code because it only occurs once in the program. Use of parameters and complexity."
   ]
  },
  {
   "cell_type": "code",
   "execution_count": 20,
   "metadata": {},
   "outputs": [
    {
     "name": "stdout",
     "output_type": "stream",
     "text": [
      "10\n"
     ]
    }
   ],
   "source": [
    "#class \n",
    "class Person:\n",
    "    \"This is a person class\"\n",
    "    age = 10\n",
    "\n",
    "    def greet(self):  #parameters \n",
    "        print('Hello')\n",
    "\n",
    "# Output: 10\n",
    "print(Person.age)"
   ]
  }
 ],
 "metadata": {
  "kernelspec": {
   "display_name": "Python 3.9.12 ('base')",
   "language": "python",
   "name": "python3"
  },
  "language_info": {
   "codemirror_mode": {
    "name": "ipython",
    "version": 3
   },
   "file_extension": ".py",
   "mimetype": "text/x-python",
   "name": "python",
   "nbconvert_exporter": "python",
   "pygments_lexer": "ipython3",
   "version": "3.9.12"
  },
  "orig_nbformat": 4,
  "vscode": {
   "interpreter": {
    "hash": "d1e630f086fdc2c4485cd3472dbc38e15291e251b78da1fca784a44d4839495c"
   }
  }
 },
 "nbformat": 4,
 "nbformat_minor": 2
}
