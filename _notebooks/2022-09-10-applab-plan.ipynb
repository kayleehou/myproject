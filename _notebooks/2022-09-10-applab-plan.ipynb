{
 "cells": [
  {
   "cell_type": "markdown",
   "metadata": {},
   "source": [
    "# My AppLab Plan\n",
    "- title: AppLab Outline\n",
    "- toc: true\n",
    "- image: /images/codeorg.png\n",
    "- tags: [markdown]"
   ]
  },
  {
   "cell_type": "markdown",
   "metadata": {},
   "source": [
    "## Brainstorming \n",
    "- trivia quiz with different types of elements: slider, checkbox, text input \n",
    "- buzzfeed quiz\n",
    "- get to know you quiz  \n",
    "- IQ quiz \n"
   ]
  },
  {
   "cell_type": "markdown",
   "metadata": {},
   "source": [
    "## Plan Outline\n",
    "![](https://github.com/kayleehou/myproject/blob/master/images/codeorgplan.PNG?raw=true)\n",
    "\n",
    "I decided to do a Buzzfeed style quiz, I made a simple outline through Google Drawings. I also looked at how other companies do their personality quizzes so I could get inspired. "
   ]
  },
  {
   "cell_type": "markdown",
   "metadata": {},
   "source": [
    "## What Went Well\n",
    "- I think my quiz looks aesthetically pleasing as I follow a theme \n",
    "- Planning and having drawings ready really helped me stay organized and made it easier to create \n",
    "- I like how I incorporated different elements in my quiz like a slier, radio buttons, and regular buttons \n",
    "- Adding in go back buttons helps make the UX better \n",
    "- I tried a lot of elements before I started making my project so that I could know what I wanted to use. "
   ]
  },
  {
   "cell_type": "markdown",
   "metadata": {},
   "source": [
    "## What Didn't Go Well/What I learned\n",
    "![](https://github.com/kayleehou/myproject/blob/master/images/codelab.PNG?raw=true)\n",
    "Although it doesn't matter as much with images, when it came to buttons, it was very difficult to find what I needed\n",
    "- Initially, I didn't name my pictures or buttons clearly, so it was difficult to find what I needed when coding, changing the names helped me easily find what I need next \n",
    "- Adding in the console.log(message) variable also helped me make sure my code is running smoothly, I added this in later. This shows up in the debug console. The viewer cannot see this, which is helpful because you can know if your code is running, without the user getting the notification.\n",
    "- I also wonder how I could use a loop so that I don't have to add every UI control individually. "
   ]
  },
  {
   "cell_type": "markdown",
   "metadata": {},
   "source": [
    "## Link to my Quiz: \n",
    "[AppLab](https://studio.code.org/projects/applab/Mq58uu_Yt76xlyJJn7An_TlpIsAUUUZAiubh_-At73w)"
   ]
  }
 ],
 "metadata": {
  "kernelspec": {
   "display_name": "Python 3.8.10 64-bit",
   "language": "python",
   "name": "python3"
  },
  "language_info": {
   "codemirror_mode": {
    "name": "ipython",
    "version": 3
   },
   "file_extension": ".py",
   "mimetype": "text/x-python",
   "name": "python",
   "nbconvert_exporter": "python",
   "pygments_lexer": "ipython3",
   "version": "3.8.10"
  },
  "varInspector": {
   "cols": {
    "lenName": 16,
    "lenType": 16,
    "lenVar": 40
   },
   "kernels_config": {
    "python": {
     "delete_cmd_postfix": "",
     "delete_cmd_prefix": "del ",
     "library": "var_list.py",
     "varRefreshCmd": "print(var_dic_list())"
    },
    "r": {
     "delete_cmd_postfix": ") ",
     "delete_cmd_prefix": "rm(",
     "library": "var_list.r",
     "varRefreshCmd": "cat(var_dic_list()) "
    }
   },
   "types_to_exclude": [
    "module",
    "function",
    "builtin_function_or_method",
    "instance",
    "_Feature"
   ],
   "window_display": false
  },
  "vscode": {
   "interpreter": {
    "hash": "916dbcbb3f70747c44a77c7bcd40155683ae19c65e1c03b4aa3499c5328201f1"
   }
  }
 },
 "nbformat": 4,
 "nbformat_minor": 4
}
