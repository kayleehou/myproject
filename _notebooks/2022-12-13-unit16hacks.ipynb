{
 "cells": [
  {
   "cell_type": "markdown",
   "metadata": {},
   "source": [
    "# Unit 3 Sections 16 Hacks  \n",
    "\n",
    "- toc: true \n",
    "- categories: [Student Teaching]\n",
    "- badges: true\n",
    "- comments: true"
   ]
  },
  {
   "cell_type": "markdown",
   "metadata": {},
   "source": [
    "# Answer Table "
   ]
  },
  {
   "cell_type": "markdown",
   "metadata": {},
   "source": [
    "| Question    |    Answer   |\n",
    "| ----------- | ----------- |\n",
    "| Name(First+Last)   | Kaylee Hou       |\n",
    "| 1   | n/a     |\n",
    "| 2      | n/a      |\n",
    "| 3  | A- To mock imperfections from the real world  |\n",
    "| 4      | C-  Imperfections on aircraft  |\n",
    "| 5   | C  Situation considered    |\n",
    "| 6    | A- simulation, because it's too dangerous to have this be an experiment       |\n",
    "| 7  | A- simulation, we don't want to experiment with this because it could cause great harm on the environment       |\n",
    "| 8    | n/a      |\n",
    "| 9  | B- experiment/calculation because there is no need to simulate anything, this will only be a simple calculation of the average   |"
   ]
  },
  {
   "cell_type": "markdown",
   "metadata": {},
   "source": [
    "# Extra "
   ]
  },
  {
   "cell_type": "code",
   "execution_count": 7,
   "metadata": {},
   "outputs": [
    {
     "name": "stdout",
     "output_type": "stream",
     "text": [
      "Welcome to a coin flip simulation!\n",
      "----------------------------------\n",
      "Number of heads: 5024\n",
      "Number of tails: 4976\n"
     ]
    }
   ],
   "source": [
    "import random\n",
    "\n",
    "print(\"Welcome to a coin flip simulation!\")\n",
    "print(\"----------------------------------\")\n",
    "\n",
    "n = 10000 #this value can easily be changed to change the sample size\n",
    "heads = 0\n",
    "tails = 0\n",
    " \n",
    "for i in range(n):\n",
    "    flip = random.randint(1,2) # get a random number between 1 and 2\n",
    "    if flip == 1: # head\n",
    "        heads = heads + 1\n",
    "    else:         # tail\n",
    "        tails = tails + 1\n",
    " \n",
    "print('Number of heads:', heads)\n",
    "print('Number of tails:', tails)\n",
    " "
   ]
  },
  {
   "cell_type": "markdown",
   "metadata": {},
   "source": [
    "Here is a simulation of a coin toss, which accurately simulates how many heads or tails you get if you were to flip a coin 10,000 times. Using a simulation is much more efficient and better than actually running an experiment because it saves a lot of time and effort. It would take forever to flip a coin 10,000 times. I set n equal to the sample size and heads and tails to 0 which is the default value. Then using a for loop, with each flip, the procedure will either give heads or tails until the coin has been flipped 10000 times in the simulation. "
   ]
  }
 ],
 "metadata": {
  "kernelspec": {
   "display_name": "Python 3.9.12 ('base')",
   "language": "python",
   "name": "python3"
  },
  "language_info": {
   "codemirror_mode": {
    "name": "ipython",
    "version": 3
   },
   "file_extension": ".py",
   "mimetype": "text/x-python",
   "name": "python",
   "nbconvert_exporter": "python",
   "pygments_lexer": "ipython3",
   "version": "3.9.12"
  },
  "orig_nbformat": 4,
  "vscode": {
   "interpreter": {
    "hash": "d1e630f086fdc2c4485cd3472dbc38e15291e251b78da1fca784a44d4839495c"
   }
  }
 },
 "nbformat": 4,
 "nbformat_minor": 2
}
