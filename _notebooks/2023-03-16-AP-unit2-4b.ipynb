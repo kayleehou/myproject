{
 "cells": [
  {
   "attachments": {},
   "cell_type": "markdown",
   "metadata": {},
   "source": [
    "#  Unit 2.4b Using Programs with Data, SQL\n",
    "> Using Programs with Data is focused on SQL and database actions.  Part B focuses on learning SQL commands, connections, and curses using an Imperative programming style,\n",
    "- toc: true\n",
    "- categories: [python]"
   ]
  },
  {
   "attachments": {},
   "cell_type": "markdown",
   "metadata": {},
   "source": [
    "# Database Programming is Program with Data\n",
    "> The Tri 2 Final Project is an example of a Program with Data. \n",
    "\n",
    ">  Prepare to use SQLite in common Imperative Technique\n",
    "- Explore [SQLite Connect object](https://www.tutorialspoint.com/python_data_access/python_sqlite_establishing_connection.htm) to establish database connection\n",
    "- Explore [SQLite Cursor Object](https://www.tutorialspoint.com/python_data_access/python_sqlite_cursor_object.htm) to fetch data from a table within a database\n"
   ]
  },
  {
   "attachments": {},
   "cell_type": "markdown",
   "metadata": {},
   "source": [
    "## Schema of Users table in Sqlite.db\n",
    "> Uses PRAGMA statement to read schema.\n",
    "\n",
    "Describe Schema, here is resource [Resource](https://www.sqlite.org/index.html)\n",
    "- What is a database schema?\n",
    "\n",
    "describes the organization of data within a database. It defines how the data is organized and how it can be accessed and manipulated by users or applications. define the structure of the database, including the types of data that can be stored, the relationships between different tables, and the rules that govern how data can be added, updated, and deleted.\n",
    "- What is the purpose of identity Column in SQL database?\n",
    "\n",
    "unique value for each row inserted into the table. The purpose of an identity column is to provide a unique identifier for each row in the table, which can be useful for a variety of reasons\n",
    "- What is the purpose of a primary key in SQL database?\n",
    "\n",
    "a primary key is a column or set of columns that uniquely identifies each row in a table. The purpose of a primary key is to provide a reliable and efficient way to identify and access specific rows in a table. \n",
    "- What are the Data Types in SQL table?\n",
    "booleans, integers, strings, blog \n",
    "\n",
    "imperative programming- series of functions you make \n",
    "\n",
    "OOP- you have a class and working with objects and methods in that same class "
   ]
  },
  {
   "cell_type": "code",
   "execution_count": 10,
   "metadata": {},
   "outputs": [
    {
     "name": "stdout",
     "output_type": "stream",
     "text": [
      "(0, 'id', 'INTEGER', 1, None, 1)\n",
      "(1, '_image', 'VARCHAR(255)', 1, None, 0)\n",
      "(2, '_link', 'VARCHAR(255)', 1, None, 0)\n",
      "(3, '_name', 'VARCHAR(255)', 1, None, 0)\n",
      "(4, '_uid', 'VARCHAR(255)', 1, None, 0)\n",
      "(5, '_breed', 'VARCHAR(255)', 1, None, 0)\n",
      "(6, '_sex', 'VARCHAR(255)', 1, None, 0)\n",
      "(7, '_dob', 'DATE', 0, None, 0)\n",
      "(8, '_price', 'VARCHAR(255)', 1, None, 0)\n"
     ]
    }
   ],
   "source": [
    "import sqlite3\n",
    "\n",
    "database = 'instance/sqlite.db' # this is location of database\n",
    "\n",
    "def schema():\n",
    "    \n",
    "    # Connect to the database file\n",
    "    conn = sqlite3.connect(database)\n",
    "\n",
    "    # Create a cursor object to execute SQL queries\n",
    "    cursor = conn.cursor()\n",
    "    \n",
    "    # Fetch results of Schema\n",
    "    results = cursor.execute(\"PRAGMA table_info('dogs')\").fetchall()\n",
    "\n",
    "    # Print the results\n",
    "    for row in results:\n",
    "        print(row)\n",
    "\n",
    "    # Close the database connection\n",
    "    conn.close()\n",
    "    \n",
    "schema()\n"
   ]
  },
  {
   "attachments": {},
   "cell_type": "markdown",
   "metadata": {},
   "source": [
    "## Reading Users table in Sqlite.db\n",
    "> Uses SQL SELECT statement to read data\n",
    "\n",
    "- What is a connection object?  After you google it, what do you think it does?\n",
    "\n",
    "object that represents a connection between an application and a database management system. Sends commands to database and receives results. \n",
    "- Same for cursor object?\n",
    "\n",
    "a cursor object is an object that allows an application to traverse the records or rows returned by a SQL query. The cursor provides a way to access the results of a query one row at a time, and to perform operations on each row as it is accessed.\n",
    "- Look at conn object and cursor object in VSCode debugger.  What attributes are in the object?\n",
    "\n",
    "execute(sql[, parameters]): Executes an SQL statement. The optional parameters argument is a sequence or mapping containing the values to be bound to placeholders in the SQL statement.\n",
    "executemany(sql, seq_of_parameters): Executes an SQL statement multiple times with different parameter sets. The seq_of_parameters argument is a sequence of sequences or mappings containing the values to be bound to placeholders in the SQL statement.\n",
    "fetchone(): Fetches the next row of a query result set, returning a single sequence or None if there are no more rows.\n",
    "fetchmany([size=cursor.arraysize]): Fetches the next set of rows of a query result set, returning a list of sequences or an empty list if there are no more rows.\n",
    "fetchall(): Fetches all remaining rows of a query result set, returning a list of sequences or an empty list if there are no rows.\n",
    "close(): Closes the cursor object.\n",
    "- Is \"results\" an object?  How do you know?\n",
    "\n",
    "yes because it is set equal to cursor.execute..."
   ]
  },
  {
   "cell_type": "code",
   "execution_count": 11,
   "metadata": {},
   "outputs": [
    {
     "name": "stdout",
     "output_type": "stream",
     "text": [
      "(1, 'https://do31x39459kz9.cloudfront.net/storage/image/cc7c5dd6a09649e3bf5c6bca96b21daa-1670625496-1670625511-jpg/1024-0-', 'https://haeryny.github.io/teamteam/doginfo/', 'Joe', '81729', 'Labrador Retriever Blend', 'male', '2022-02-11', '215')\n",
      "(2, 'https://do31x39459kz9.cloudfront.net/storage/image/672cb9b41e7548f68316d4a328c772d2-1673989499-1673989524-jpg/1024-0-', 'https://haeryny.github.io/teamteam/doginfo/', 'Bean', '83792', 'Shepherd-Rottweiler Blend', 'male', '2019-01-31', '180')\n",
      "(3, 'https://do31x39459kz9.cloudfront.net/storage/image/9f57a9ccb04d489c8e0faeb7a6aaecc1-1671755085-1671755107-jpg/1024-0-', 'https://haeryny.github.io/teamteam/doginfo/', 'Harry', '80032', 'Hound-Terrier Blend', 'male', '2020-04-29', '160')\n",
      "(4, 'https://do31x39459kz9.cloudfront.net/storage/image/7a0fd8c5107f469a8b6e3ec6db1bc48a-1671827148-1671827194-jpg/1024-0-', 'https://haeryny.github.io/teamteam/doginfo/', 'Honey', '90276', 'Retriever Blend', 'female', '2021-11-01', '200')\n",
      "(5, 'https://do31x39459kz9.cloudfront.net/storage/image/3b17d9a97b4e41ff984e54467d122820-1670895829-1670895970-jpg/1024-0-', 'https://haeryny.github.io/teamteam/doginfo/', 'George', '90277', 'Retriever Blend', 'male', '2021-11-01', '200')\n"
     ]
    }
   ],
   "source": [
    "import sqlite3\n",
    "\n",
    "def read():\n",
    "    # Connect to the database file\n",
    "    conn = sqlite3.connect(database)\n",
    "\n",
    "    # Create a cursor object to execute SQL queries\n",
    "    cursor = conn.cursor()   # open connection object: contains methods and attributes you need to alter data \n",
    "    \n",
    "    # Execute a SELECT statement to retrieve data from a table\n",
    "    results = cursor.execute('SELECT * FROM dogs').fetchall()  #results is an object \n",
    "\n",
    "    # Print the results\n",
    "    if len(results) == 0:\n",
    "        print(\"Table is empty\")\n",
    "    else:\n",
    "        for row in results:\n",
    "            print(row)\n",
    "\n",
    "    # Close the cursor and connection objects\n",
    "    cursor.close()\n",
    "    conn.close()\n",
    "    \n",
    "read()\n"
   ]
  },
  {
   "attachments": {},
   "cell_type": "markdown",
   "metadata": {},
   "source": [
    "## Create a new User in table in Sqlite.db\n",
    "> Uses SQL INSERT to add row\n",
    "-  Compare create() in both SQL lessons.  What is better or worse in the two implementations?\n",
    "\n",
    "4a lesson create function uses the SQLite database and takes user inputs to create a new record in the \"dogs\" table. It prompts the user to enter their name, user id, password, and date of birth, and then inserts the data into the database using a SQL query. this create function uses SQLAlchemy, a Python SQL toolkit, and an ORM (Object-Relational Mapping) to create a new record in a dog table. The first code block might be more suitable for simple projects where there are no complex relationships between tables, and the data to be inserted is minimal. In contrast, the second code block, which uses ORM, can help simplify complex database operations by mapping database tables to Python classes, making it more intuitive and easy to work with. However, it may be more challenging to set up, particularly for beginners.\n",
    "-  Explain purpose of SQL INSERT.   Is this the same as User __init__?\n",
    "\n",
    "The SQL INSERT statement is used to insert new rows or records into a database table. The User __init__ method is used to create a new instance of the User class, which represents a user record in the database. It sets the initial values for the instance attributes of the User class. They are different. "
   ]
  },
  {
   "cell_type": "code",
   "execution_count": 18,
   "metadata": {},
   "outputs": [
    {
     "name": "stdout",
     "output_type": "stream",
     "text": [
      "A new user record 91236 has been created\n"
     ]
    }
   ],
   "source": [
    "import sqlite3\n",
    "\n",
    "def create():\n",
    "    image = input(\"Enter image link:\")\n",
    "    link = input(\"Enter link to dog info:\")\n",
    "    name = input(\"Enter dog name:\")\n",
    "    uid = input(\"Enter UID:\")\n",
    "    breed = input(\"Enter dog breed:\")\n",
    "    sex = input(\"Enter dog sex:\")\n",
    "    dob = input(\"Enter dog date of birth:\")\n",
    "    price = input(\"Enter dog price:\")\n",
    "    \n",
    "    # Connect to the database file\n",
    "    conn = sqlite3.connect(database)\n",
    "\n",
    "    # Create a cursor object to execute SQL commands\n",
    "    cursor = conn.cursor()\n",
    "\n",
    "    try:\n",
    "        # Execute an SQL command to insert data into a table\n",
    "        cursor.execute(\"INSERT INTO dogs (_image, _link, _name, _uid, _breed, _sex, _dob, _price) VALUES (?, ?, ?, ?, ?, ?, ?)\", (image, link, name, uid, breed, sex, price))\n",
    "        \n",
    "        # Commit the changes to the database\n",
    "        conn.commit()\n",
    "        print(f\"A new user record {uid} has been created\")\n",
    "                \n",
    "    except sqlite3.Error as error:\n",
    "        print(\"Error while executing the INSERT:\", error)\n",
    "\n",
    "\n",
    "    # Close the cursor and connection objects\n",
    "    cursor.close()\n",
    "    conn.close()\n",
    "    \n",
    "create()"
   ]
  },
  {
   "attachments": {},
   "cell_type": "markdown",
   "metadata": {},
   "source": [
    "## Updating a User in table in Sqlite.db\n",
    "> Uses SQL UPDATE to modify password\n",
    "- What does the hacked part do?\n",
    "\n",
    "The hacked part in the code is checking if the length of the new password entered by the user is less than 2 characters. If the length is less than 2, it sets the message variable to \"hacked\" and sets the password variable to \"gothackednewpassword123\". This means that if someone tries to set a weak or short password, they will be assigned a stronger password automatically.\n",
    "- Explain try/except, when would except occur?\n",
    "\n",
    "try/except is a control flow statement used for error handling. The code within the try block is executed, and if an error occurs, the execution is immediately transferred to the except block. The except block catches the error and handles it appropriately, allowing the program to continue executing. try/except is useful when you know that a certain piece of code may cause an error, but you don't want the program to crash when that error occurs. Instead, you want to handle the error gracefully and continue executing the rest of the program.\n",
    "- What code seems to be repeated in each of these examples to point, why is it repeated?\n",
    "\n",
    "try/except is repeated so that the code can continue running even if there is a user input error. "
   ]
  },
  {
   "cell_type": "code",
   "execution_count": 5,
   "metadata": {},
   "outputs": [
    {
     "name": "stdout",
     "output_type": "stream",
     "text": [
      "The row with user id 90276 the price has been successfully updated\n"
     ]
    }
   ],
   "source": [
    "import sqlite3\n",
    "\n",
    "def update():\n",
    "    uid = input(\"Enter UID to update\")\n",
    "    price = input(\"Enter updated price\")\n",
    "    if len(price) > 500:\n",
    "        message = \"price is too expensive\"\n",
    "    else:\n",
    "        message = \"successfully updated\"\n",
    "\n",
    "    # Connect to the database file\n",
    "    conn = sqlite3.connect(database)\n",
    "\n",
    "    # Create a cursor object to execute SQL commands\n",
    "    cursor = conn.cursor()\n",
    "\n",
    "    try:\n",
    "        # Execute an SQL command to update data in a table\n",
    "        cursor.execute(\"UPDATE dogs SET _price = ? WHERE _uid = ?\", (price, uid))\n",
    "        if cursor.rowcount == 0:\n",
    "            # The uid was not found in the table\n",
    "            print(f\"No uid {uid} was found in the table\")\n",
    "        else:\n",
    "            print(f\"The row with user id {uid} the price has been {message}\")\n",
    "            conn.commit()\n",
    "    except sqlite3.Error as error:\n",
    "        print(\"Error while executing the UPDATE:\", error)\n",
    "        \n",
    "    \n",
    "    # Close the cursor and connection objects\n",
    "    cursor.close()\n",
    "    conn.close()\n",
    "    \n",
    "update()\n"
   ]
  },
  {
   "cell_type": "code",
   "execution_count": null,
   "metadata": {},
   "outputs": [],
   "source": [
    "import sqlite3\n",
    "\n",
    "def update():\n",
    "    uid = input(\"Enter user id to update\")\n",
    "    password = input(\"Enter updated password\")\n",
    "    if len(password) < 2:\n",
    "        message = \"hacked\"\n",
    "        password = 'gothackednewpassword123'\n",
    "    else:\n",
    "        message = \"successfully updated\"\n",
    "\n",
    "    # Connect to the database file\n",
    "    conn = sqlite3.connect(database)\n",
    "\n",
    "    # Create a cursor object to execute SQL commands\n",
    "    cursor = conn.cursor()\n",
    "\n",
    "    try:\n",
    "        # Execute an SQL command to update data in a table\n",
    "        cursor.execute(\"UPDATE users SET _password = ? WHERE _uid = ?\", (password, uid))\n",
    "        if cursor.rowcount == 0:\n",
    "            # The uid was not found in the table\n",
    "            print(f\"No uid {uid} was not found in the table\")\n",
    "        else:\n",
    "            print(f\"The row with user id {uid} the password has been {message}\")\n",
    "            conn.commit()\n",
    "    except sqlite3.Error as error:\n",
    "        print(\"Error while executing the UPDATE:\", error)\n",
    "        \n",
    "    \n",
    "    # Close the cursor and connection objects\n",
    "    cursor.close()\n",
    "    conn.close()\n",
    "    \n",
    "#update()"
   ]
  },
  {
   "attachments": {},
   "cell_type": "markdown",
   "metadata": {},
   "source": [
    "## Delete a User in table in Sqlite.db\n",
    "> Uses a delete function to remove a user based on a user input of the id.\n",
    "- Is DELETE a dangerous operation?  Why?\n",
    "\n",
    "yes, if you are not careful you can permanently all the data in that row if you don't have a backup. \n",
    "- What is the \"f\" and {uid} do?\n",
    "\n",
    "An f-string is a way to embed expressions inside string literals, making it easier to build strings with dynamic content. {uid} is an expression that evaluates to the value of the uid variable. "
   ]
  },
  {
   "cell_type": "code",
   "execution_count": 26,
   "metadata": {},
   "outputs": [
    {
     "name": "stdout",
     "output_type": "stream",
     "text": [
      "Row with ID 6 has been deleted.\n"
     ]
    }
   ],
   "source": [
    "import sqlite3\n",
    "\n",
    "def delete(id):\n",
    "    # Validate the input\n",
    "    try:\n",
    "        id = int(id)\n",
    "    except ValueError:\n",
    "        print(\"Invalid input: ID must be an integer.\")\n",
    "        return\n",
    "\n",
    "    # Connect to the database\n",
    "    conn = sqlite3.connect('instance/sqlite.db')\n",
    "\n",
    "    try:\n",
    "        # Use a parameterized query to prevent SQL injection\n",
    "        c = conn.cursor()\n",
    "        c.execute(\"DELETE FROM dogs WHERE id=?\", (id,))\n",
    "        conn.commit()\n",
    "        print(f\"Row with ID {id} has been deleted.\")\n",
    "    except sqlite3.Error as e:\n",
    "        print(f\"Error deleting row with ID {id}: {e}\")\n",
    "    finally:\n",
    "        # Close the connection\n",
    "        conn.close()\n",
    "\n",
    "id = input(\"Select the ID of the dog you want to remove from our database: \")\n",
    "delete(id)"
   ]
  },
  {
   "attachments": {},
   "cell_type": "markdown",
   "metadata": {},
   "source": [
    "# Menu Interface to CRUD operations\n",
    "> CRUD and Schema interactions from one location by running menu. Observe input at the top of VSCode, observe output underneath code cell.\n",
    "- Why does the menu repeat?\n",
    "Because it is a recursion, so it calls upon itself until a condition is met \n",
    "\n",
    "- Could you refactor this menu?  Make it work with a List?\n",
    "\n",
    "Yes,you can use a list so that you don't have to use so many elifs, which would make the code more efficient. therefore, you can use a list to store \"c,r,u,d,s\""
   ]
  },
  {
   "cell_type": "code",
   "execution_count": 7,
   "metadata": {},
   "outputs": [
    {
     "name": "stdout",
     "output_type": "stream",
     "text": [
      "(0, 'id', 'INTEGER', 1, None, 1)\n",
      "(1, '_image', 'VARCHAR(255)', 1, None, 0)\n",
      "(2, '_link', 'VARCHAR(255)', 1, None, 0)\n",
      "(3, '_name', 'VARCHAR(255)', 1, None, 0)\n",
      "(4, '_uid', 'VARCHAR(255)', 1, None, 0)\n",
      "(5, '_breed', 'VARCHAR(255)', 1, None, 0)\n",
      "(6, '_sex', 'VARCHAR(255)', 1, None, 0)\n",
      "(7, '_dob', 'DATE', 0, None, 0)\n",
      "(8, '_price', 'VARCHAR(255)', 1, None, 0)\n"
     ]
    }
   ],
   "source": [
    "# Menu, to run other cells from one control point\n",
    "def menu():\n",
    "    operation = input(\"Enter: (C)reate (R)ead (U)pdate or (D)elete or (S)chema\")\n",
    "    if operation.lower() == 'c':\n",
    "        create()\n",
    "    elif operation.lower() == 'r':\n",
    "        read()\n",
    "    elif operation.lower() == 'u':\n",
    "        update()\n",
    "    elif operation.lower() == 'd':\n",
    "        delete()\n",
    "    elif operation.lower() == 's':\n",
    "        schema()\n",
    "    elif len(operation)==0: # Escape Key\n",
    "        return\n",
    "    else:\n",
    "        print(\"Please enter c, r, u, or d\") \n",
    "    menu() # recursion, repeat menu\n",
    "        \n",
    "try:\n",
    "    menu() # start menu\n",
    "except:\n",
    "    print(\"Perform Jupyter 'Run All' prior to starting menu\")\n"
   ]
  },
  {
   "attachments": {},
   "cell_type": "markdown",
   "metadata": {},
   "source": [
    "## using list- refactored version "
   ]
  },
  {
   "cell_type": "code",
   "execution_count": 19,
   "metadata": {},
   "outputs": [
    {
     "name": "stdout",
     "output_type": "stream",
     "text": [
      "(0, 'id', 'INTEGER', 1, None, 1)\n",
      "(1, '_image', 'VARCHAR(255)', 1, None, 0)\n",
      "(2, '_link', 'VARCHAR(255)', 1, None, 0)\n",
      "(3, '_name', 'VARCHAR(255)', 1, None, 0)\n",
      "(4, '_uid', 'VARCHAR(255)', 1, None, 0)\n",
      "(5, '_breed', 'VARCHAR(255)', 1, None, 0)\n",
      "(6, '_sex', 'VARCHAR(255)', 1, None, 0)\n",
      "(7, '_dob', 'DATE', 0, None, 0)\n",
      "(8, '_price', 'VARCHAR(255)', 1, None, 0)\n"
     ]
    }
   ],
   "source": [
    "def menu():\n",
    "    operations = [ # cruds placed into a dictionary, keys \n",
    "        ('c', create),\n",
    "        ('r', read),\n",
    "        ('u', update),\n",
    "        ('d', delete),\n",
    "        ('s', schema)\n",
    "    ]\n",
    "    while True:\n",
    "        operation = input(\"Enter: (C)reate (R)ead (U)pdate or (D)elete or (S)chema\")\n",
    "        if len(operation) == 0: # Escape Key\n",
    "            return #\n",
    "        for op in operations:\n",
    "            if operation.lower() == op[0]: # checks whether the user's input matches the current option being considered in the loop. \n",
    "                op[1]()\n",
    "                break\n",
    "        else:\n",
    "            print(\"Please enter c, r, u, d, or s\") # if no match, print prompt \n",
    "        \n",
    "menu()"
   ]
  },
  {
   "attachments": {},
   "cell_type": "markdown",
   "metadata": {},
   "source": [
    "# Hacks\n",
    "- Add this Blog to you own Blogging site.  In the Blog add notes and observations on each code cell.\n",
    "- Create a new Table or do something new, [sqlite documentation](https://www.sqlitetutorial.net/sqlite-python/creating-tables/)\n",
    "- In implementation in previous bullet, do you see procedural abstraction?\n",
    "\n",
    "You can create functions like create, update, read, and delete which can be reused whenever you need to create a new table in the database."
   ]
  },
  {
   "cell_type": "code",
   "execution_count": 27,
   "metadata": {},
   "outputs": [
    {
     "name": "stdout",
     "output_type": "stream",
     "text": [
      "  ID  Name      UID  Breed                      Sex     DOB           Price\n",
      "----  ------  -----  -------------------------  ------  ----------  -------\n",
      "   1  Joe     81729  Labrador Retriever Blend   male    2022-02-11      215\n",
      "   2  Bean    83792  Shepherd-Rottweiler Blend  male    2019-01-31      180\n",
      "   3  Harry   80032  Hound-Terrier Blend        male    2020-04-29      160\n",
      "   4  Honey   90276  Retriever Blend            female  2021-11-01      200\n",
      "   5  George  90277  Retriever Blend            male    2021-11-01      200\n"
     ]
    }
   ],
   "source": [
    "import sqlite3\n",
    "from tabulate import tabulate\n",
    "\n",
    "# Connect to the SQLite database\n",
    "conn = sqlite3.connect('instance/sqlite.db')\n",
    "cursor = conn.cursor()\n",
    "\n",
    "# Select all rows from the \"dogs\" table\n",
    "cursor.execute(\"SELECT id, _name, _uid, _breed, _sex, _dob, _price FROM dogs\")\n",
    "rows = cursor.fetchall()\n",
    "\n",
    "# Use tabulate to format the rows as a table\n",
    "table = tabulate(rows, headers=[\"ID\", \"Name\", \"UID\", \"Breed\", \"Sex\", \"DOB\", \"Price\"])\n",
    "\n",
    "# Print the table\n",
    "print(table)"
   ]
  }
 ],
 "metadata": {
  "kernelspec": {
   "display_name": "base",
   "language": "python",
   "name": "python3"
  },
  "language_info": {
   "codemirror_mode": {
    "name": "ipython",
    "version": 3
   },
   "file_extension": ".py",
   "mimetype": "text/x-python",
   "name": "python",
   "nbconvert_exporter": "python",
   "pygments_lexer": "ipython3",
   "version": "3.9.12"
  },
  "orig_nbformat": 4,
  "vscode": {
   "interpreter": {
    "hash": "8b82d5009c68ba5675978267e2b13a671f2a7143d61273c5a3813c97e0b2493d"
   }
  }
 },
 "nbformat": 4,
 "nbformat_minor": 2
}
