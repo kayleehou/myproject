{
 "cells": [
  {
   "cell_type": "markdown",
   "metadata": {},
   "source": [
    "# My Create Task Plan\n",
    "- title: CB Create Task Rough Draft\n",
    "- description: following College Board's requirements for the create task project to create a rough draft for what I want to do\n",
    "- toc: true\n",
    "- image: /images/CB.png\n",
    "- tags: [markdown]\n",
    "- comments: true"
   ]
  },
  {
   "cell_type": "markdown",
   "metadata": {},
   "source": [
    "## Human Prep\n",
    "- After thoroughly reading Bria's guide on how to be successful on the AP Exam and Create Task project, I looked over past examples that got high scores and read over the instructions. \n",
    "- From the examples, I noticed that in the high scoring examples, they used more complex code while the lower scoring ones incorporated some sort of block code which wasn't as sophisticated. The higher scoring examples also explained their answers by specifically tying back into their code while the lower scoring ones gave more general answers. \n",
    "- I also need to start keeping a google doc or a post on vscode that cites my sources, I haven't done this before, but if I use another source for help, I need to record it down \n",
    "- Once I start coding, I should also write comments which will help the grader as well as demonstrate my organization abilities. "
   ]
  },
  {
   "cell_type": "markdown",
   "metadata": {},
   "source": [
    "## Things I Know How to Do on the CB Requirements\n",
    "- input\n",
    "- output\n",
    "- I can explain program purpose and function \n",
    "- show how data has been stored in a list \n",
    "- sequencing- code runs in order, iteration- loops\n",
    "- I know how to test each cell\n",
    "- selection- if/else statements \n"
   ]
  },
  {
   "cell_type": "markdown",
   "metadata": {},
   "source": [
    "## Things I Don't Know How to Do: \n",
    "- I need to work on managing my complexity better, I don't always use the most efficient way to code \n",
    "- student-developed procedure with at least one parameter "
   ]
  },
  {
   "cell_type": "markdown",
   "metadata": {},
   "source": [
    "## Create Task Ideas\n",
    "- disease diagnoser --> user inputs or checks off the list of symptoms they have, given the symptoms selected, the computer will tell you what disease you most likely have \n",
    "- given three words from a list, the quiz will tell you what disney movie it's from \n",
    "- song randomizer, when the user clicks what type of songs or artists they like, the computer will randomly reccomend a new song. \n",
    "- Interactive game, where the user has to fix a computer software"
   ]
  },
  {
   "cell_type": "markdown",
   "metadata": {},
   "source": [
    "## CB Creative Project Req: \n",
    "- Program Purpose and Function- explain how a code segment or program functions, include input, program functionality, output, overall purpose\n",
    "- data abstraction- use abstraction to manage complexity in a program--> show how data is stored in list and how the list contributes to purpose, identify name of variable, describe what data in list represents \n",
    "- managing complexity- program code segment shows list being used to manage complexity, explain how code would be written differently without using the list \n",
    "- procedural abstraction- show procedure with a parameter that effects functionality, show where the procedure is being called, describe what the procedure does and how it contributes to program. \n",
    "- algorithm implementation- code includes sequencing, selection, and iteration, explains in detailed steps how the algorithm works in detail \n",
    "- testing- describe two calls to procedure, each call must pass different arguments that causes a different segment of code to execute, describe the conditions being tested by each call, identify the result of the call"
   ]
  },
  {
   "cell_type": "markdown",
   "metadata": {},
   "source": [
    "## Resources\n",
    "- I can code on VSCode or use Code.org AppLab to create my project!"
   ]
  }
 ],
 "metadata": {
  "kernelspec": {
   "display_name": "Python 3.8.10 64-bit",
   "language": "python",
   "name": "python3"
  },
  "language_info": {
   "codemirror_mode": {
    "name": "ipython",
    "version": 3
   },
   "file_extension": ".py",
   "mimetype": "text/x-python",
   "name": "python",
   "nbconvert_exporter": "python",
   "pygments_lexer": "ipython3",
   "version": "3.8.10"
  },
  "varInspector": {
   "cols": {
    "lenName": 16,
    "lenType": 16,
    "lenVar": 40
   },
   "kernels_config": {
    "python": {
     "delete_cmd_postfix": "",
     "delete_cmd_prefix": "del ",
     "library": "var_list.py",
     "varRefreshCmd": "print(var_dic_list())"
    },
    "r": {
     "delete_cmd_postfix": ") ",
     "delete_cmd_prefix": "rm(",
     "library": "var_list.r",
     "varRefreshCmd": "cat(var_dic_list()) "
    }
   },
   "types_to_exclude": [
    "module",
    "function",
    "builtin_function_or_method",
    "instance",
    "_Feature"
   ],
   "window_display": false
  },
  "vscode": {
   "interpreter": {
    "hash": "916dbcbb3f70747c44a77c7bcd40155683ae19c65e1c03b4aa3499c5328201f1"
   }
  }
 },
 "nbformat": 4,
 "nbformat_minor": 4
}
