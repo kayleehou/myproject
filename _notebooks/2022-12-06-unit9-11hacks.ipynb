{
 "cells": [
  {
   "cell_type": "markdown",
   "metadata": {},
   "source": [
    "# Unit 3 Sections 9-11 Hacks  \n",
    "\n",
    "- toc: true \n",
    "- categories: [Student Teaching]\n",
    "- badges: true\n",
    "- comments: true"
   ]
  },
  {
   "cell_type": "markdown",
   "metadata": {},
   "source": [
    "# 1 \n",
    "Write this Boolean statement in the form of a conditional (if/else) statement: stayInside⟵((isCold) OR (isRaining))"
   ]
  },
  {
   "cell_type": "code",
   "execution_count": null,
   "metadata": {},
   "outputs": [],
   "source": [
    "IF (isCold or isRaining) {\n",
    "    stayInside ⟵ True\n",
    "}\n",
    "ELSE {\n",
    "    stayInside ⟵ False\n",
    "}"
   ]
  },
  {
   "cell_type": "markdown",
   "metadata": {},
   "source": [
    "# 2\n",
    "Create an algorithm that uses selection and/or iteration that will represent one player’s complete turn.\n",
    "- During a turn, each player gets 4 attempts/chances to get the greatest number possible.\n",
    "- During each attempt, the player will use a random number generator to select a random number from 1 to 10.\n",
    "- After they have had 4 chances, their score is the greatest number they received from the random number generator, and their turn is over."
   ]
  },
  {
   "cell_type": "code",
   "execution_count": 16,
   "metadata": {},
   "outputs": [
    {
     "name": "stdout",
     "output_type": "stream",
     "text": [
      "Attempts: [5, 10, 7, 2]\n",
      "----------------------------------\n",
      "Maximum number from player\n",
      "10\n"
     ]
    }
   ],
   "source": [
    "import random\n",
    "numAttempts = []\n",
    "\n",
    "i = 1 \n",
    "while i <= 4:\n",
    "    numAttempts.append(random.randint(1,10))\n",
    "    i = i +1 \n",
    "    \n",
    "print(\"Attempts:\", numAttempts)\n",
    "print (\"----------------------------------\")\n",
    "print(\"Maximum number from player:\")\n",
    "print(max(numAttempts))\n",
    "\n"
   ]
  },
  {
   "cell_type": "markdown",
   "metadata": {},
   "source": [
    "# 3. \n",
    "Create an algorithm that will allow the arrow to reach the gray square:"
   ]
  },
  {
   "cell_type": "code",
   "execution_count": null,
   "metadata": {},
   "outputs": [],
   "source": [
    "for x in range(0, 3):\n",
    "    move forward \n",
    "turn right \n",
    "for x in range(0, 5):\n",
    "    move forward \n",
    "turn right\n",
    "for x in range(0, 2):\n",
    "    move forward "
   ]
  },
  {
   "cell_type": "markdown",
   "metadata": {},
   "source": [
    "# 4\n",
    "Make a binary search tree of different the list [1,2,3,4,6,9,11,69]"
   ]
  },
  {
   "cell_type": "markdown",
   "metadata": {},
   "source": [
    "\n",
    "\n",
    "5. Explain thoroughly how to find the number 69 in the list above (use key words)\n",
    "\n",
    "6. Make a diagram explaining how you found the list (not tree, include equation)\n",
    "\n",
    "7. Put this list of strings in a order that can be used for binary search [“store”,”Market”,”Walmart”,Target”,”Ralphs”]\n",
    "\n",
    "8. Explain why Binary Search is more efficient than Sequential Search\n",
    "\n",
    "9. [64,36,16,11,9] Explain which number you are finding, how many check it would take, and make a binary search tree\n"
   ]
  }
 ],
 "metadata": {
  "kernelspec": {
   "display_name": "Python 3.9.12 ('base')",
   "language": "python",
   "name": "python3"
  },
  "language_info": {
   "codemirror_mode": {
    "name": "ipython",
    "version": 3
   },
   "file_extension": ".py",
   "mimetype": "text/x-python",
   "name": "python",
   "nbconvert_exporter": "python",
   "pygments_lexer": "ipython3",
   "version": "3.9.12"
  },
  "orig_nbformat": 4,
  "vscode": {
   "interpreter": {
    "hash": "d1e630f086fdc2c4485cd3472dbc38e15291e251b78da1fca784a44d4839495c"
   }
  }
 },
 "nbformat": 4,
 "nbformat_minor": 2
}
