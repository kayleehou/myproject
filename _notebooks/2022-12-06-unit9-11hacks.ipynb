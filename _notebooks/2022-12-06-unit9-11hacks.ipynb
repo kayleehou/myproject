{
 "cells": [
  {
   "cell_type": "markdown",
   "metadata": {},
   "source": [
    "# Unit 3 Sections 9-11 Hacks  \n",
    "\n",
    "- toc: true \n",
    "- categories: [Student Teaching]\n",
    "- badges: true\n",
    "- comments: true"
   ]
  },
  {
   "cell_type": "markdown",
   "metadata": {},
   "source": [
    "# 1 \n",
    "Write this Boolean statement in the form of a conditional (if/else) statement: stayInside⟵((isCold) OR (isRaining))"
   ]
  },
  {
   "cell_type": "code",
   "execution_count": null,
   "metadata": {},
   "outputs": [],
   "source": [
    "IF (isCold or isRaining) {\n",
    "    stayInside ⟵ True\n",
    "}\n",
    "ELSE {\n",
    "    stayInside ⟵ False\n",
    "}"
   ]
  },
  {
   "cell_type": "markdown",
   "metadata": {},
   "source": [
    "# 2\n",
    "Create an algorithm that uses selection and/or iteration that will represent one player’s complete turn.\n",
    "- During a turn, each player gets 4 attempts/chances to get the greatest number possible.\n",
    "- During each attempt, the player will use a random number generator to select a random number from 1 to 10.\n",
    "- After they have had 4 chances, their score is the greatest number they received from the random number generator, and their turn is over."
   ]
  },
  {
   "cell_type": "code",
   "execution_count": 16,
   "metadata": {},
   "outputs": [
    {
     "name": "stdout",
     "output_type": "stream",
     "text": [
      "Attempts: [5, 10, 7, 2]\n",
      "----------------------------------\n",
      "Maximum number from player\n",
      "10\n"
     ]
    }
   ],
   "source": [
    "import random\n",
    "numAttempts = []\n",
    "\n",
    "i = 1 \n",
    "while i <= 4:\n",
    "    numAttempts.append(random.randint(1,10))\n",
    "    i = i +1 \n",
    "    \n",
    "print(\"Attempts:\", numAttempts)\n",
    "print (\"----------------------------------\")\n",
    "print(\"Maximum number from player:\")\n",
    "print(max(numAttempts))\n",
    "\n"
   ]
  },
  {
   "cell_type": "markdown",
   "metadata": {},
   "source": [
    "# 3. \n",
    "Create an algorithm that will allow the arrow to reach the gray square:"
   ]
  },
  {
   "cell_type": "code",
   "execution_count": null,
   "metadata": {},
   "outputs": [],
   "source": [
    "# I'm not sure if this is right, there is probably a more efficient way to do this \n",
    "for x in range(0, 3):\n",
    "    move forward \n",
    "turn right \n",
    "for x in range(0, 5):\n",
    "    move forward \n",
    "turn right\n",
    "for x in range(0, 2):\n",
    "    move forward "
   ]
  },
  {
   "cell_type": "code",
   "execution_count": null,
   "metadata": {},
   "outputs": [],
   "source": [
    "# I looked at other people's and they did this method, \n",
    "# this wouldn't be the fastest way for the robot to get to the other side but\n",
    "# it is much more efficient coding wise\n",
    "{\n",
    "if CANMOVEFORWARD{\n",
    "    moveForwards\n",
    "}\n",
    "else{\n",
    "    if CANTURNRIGHT{\n",
    "        turnright\n",
    "    }\n",
    "    if CANTURNLEFT{\n",
    "        turnleft\n",
    "    }\n",
    "}\n",
    "}"
   ]
  },
  {
   "cell_type": "markdown",
   "metadata": {},
   "source": [
    "# 4\n",
    "Make a binary search tree of different the list [1,2,3,4,6,9,11,69]\n",
    "\n",
    "![](https://github.com/kayleehou/myproject/blob/master/images/binarysearchtree.PNG?raw=true)"
   ]
  },
  {
   "cell_type": "markdown",
   "metadata": {},
   "source": [
    "# 5\n",
    "Explain thoroughly how to find the number 69 in the list above (use key words)\n",
    "- Using sequential search we would iterate through the list and compare each number until the number 69 matches, this would take 7 iterations so a binary search would be a faster way to do this\n",
    "- using binary search, you would start from the middle index, then you continue to the next numbers by looking at the first and last index, and dividing by two. You keep following through until you get 69. "
   ]
  },
  {
   "cell_type": "markdown",
   "metadata": {},
   "source": [
    "# 6\n",
    "Make a diagram explaining how you found the list (not tree, include equation)\n",
    "![](https://github.com/kayleehou/myproject/blob/master/images/binarydiagram3.PNG?raw=true)"
   ]
  },
  {
   "cell_type": "markdown",
   "metadata": {},
   "source": [
    "# 7\n",
    "Put this list of strings in a order that can be used for binary search [“store”,”Market”,”Walmart”,Target”,”Ralphs”]\n",
    "\n",
    "[”Market”,”Walmart”,“store”,Target”,”Ralphs”]\n"
   ]
  },
  {
   "cell_type": "markdown",
   "metadata": {},
   "source": [
    "# 8\n",
    "Explain why Binary Search is more efficient than Sequential Search\n",
    "- Binary search is more efficient because it moves exponentially while sequential search moves through the list one by one.In big data sets, binary search would rule out half the numbers in one iterations, while sequential search has to go through every possibility. Therefore, binary search is far faster and efficient. \n",
    "\n",
    "# 9\n",
    "[64,36,16,11,9] Explain which number you are finding, how many check it would take, and make a binary search tree\n",
    "- I am searching for the number 11, which would take two iterations. You would start at 16, the middle index. Then you would do 3+5/2 to get 4, so the next middle index would be 11, which is the number we want to find. \n",
    "\n",
    "![](https://github.com/kayleehou/myproject/blob/master/images/binarytree2.PNG?raw=true)\n"
   ]
  }
 ],
 "metadata": {
  "kernelspec": {
   "display_name": "Python 3.9.12 ('base')",
   "language": "python",
   "name": "python3"
  },
  "language_info": {
   "codemirror_mode": {
    "name": "ipython",
    "version": 3
   },
   "file_extension": ".py",
   "mimetype": "text/x-python",
   "name": "python",
   "nbconvert_exporter": "python",
   "pygments_lexer": "ipython3",
   "version": "3.9.12"
  },
  "orig_nbformat": 4,
  "vscode": {
   "interpreter": {
    "hash": "d1e630f086fdc2c4485cd3472dbc38e15291e251b78da1fca784a44d4839495c"
   }
  }
 },
 "nbformat": 4,
 "nbformat_minor": 2
}
