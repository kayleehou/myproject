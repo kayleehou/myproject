{
 "cells": [
  {
   "cell_type": "markdown",
   "metadata": {},
   "source": [
    "# Unit 3 Sections 9-11 Hacks  \n",
    "\n",
    "- toc: true \n",
    "- categories: [Student Teaching]\n",
    "- badges: true\n",
    "- comments: true"
   ]
  },
  {
   "cell_type": "markdown",
   "metadata": {},
   "source": [
    "1. Write this Boolean statement in the form of a conditional (if/else) statement: stayInside⟵((isCold) OR (isRaining))\n",
    "\n",
    "2. Create an algorithm that uses selection and/or iteration that will represent one player’s complete turn.\n",
    "- During a turn, each player gets 4 attempts/chances to get the greatest number possible.\n",
    "- During each attempt, the player will use a random number generator to select a random number from 1 to 10.\n",
    "- After they have had 4 chances, their score is the greatest number they received from the random number generator, and their turn is over.\n",
    "\n",
    "3. Create an algorithm that will allow the arrow to reach the gray square:\n",
    "\n",
    "4. Make a binary search tree of different the list [1,2,3,4,6,9,11,69]\n",
    "\n",
    "5. Explain thoroughly how to find the number 69 in the list above (use key words)\n",
    "\n",
    "6. Make a diagram explaining how you found the list (not tree, include equation)\n",
    "\n",
    "7. Put this list of strings in a order that can be used for binary search [“store”,”Market”,”Walmart”,Target”,”Ralphs”]\n",
    "\n",
    "8. Explain why Binary Search is more efficient than Sequential Search\n",
    "\n",
    "9. [64,36,16,11,9] Explain which number you are finding, how many check it would take, and make a binary search tree\n"
   ]
  }
 ],
 "metadata": {
  "kernelspec": {
   "display_name": "Python 3.9.12 ('base')",
   "language": "python",
   "name": "python3"
  },
  "language_info": {
   "codemirror_mode": {
    "name": "ipython",
    "version": 3
   },
   "file_extension": ".py",
   "mimetype": "text/x-python",
   "name": "python",
   "nbconvert_exporter": "python",
   "pygments_lexer": "ipython3",
   "version": "3.9.12"
  },
  "orig_nbformat": 4,
  "vscode": {
   "interpreter": {
    "hash": "d1e630f086fdc2c4485cd3472dbc38e15291e251b78da1fca784a44d4839495c"
   }
  }
 },
 "nbformat": 4,
 "nbformat_minor": 2
}
