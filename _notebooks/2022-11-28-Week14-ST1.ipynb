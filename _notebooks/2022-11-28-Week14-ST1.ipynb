{
 "cells": [
  {
   "cell_type": "markdown",
   "metadata": {},
   "source": [
    "# Unit 3 Sections 1-2 Notes and Hacks \n",
    "- title: Week 14 Student Teaching Notes Group 1\n",
    "- categories: [Student Teaching]\n",
    "- toc: true\n",
    "- image: images/students.png"
   ]
  },
  {
   "cell_type": "markdown",
   "metadata": {},
   "source": [
    "## Unit 3.1\n",
    "### Unit 3.1 Variables and Assignment 1 Hacks\n",
    "- You want to store the number of apples in a shop. What is the best variable name and data type? \n",
    "    - 1. numApples, integer (correct!)\n",
    "- You are storing true or false in a variable that asks if the classroom is cold. What is the best variable name and data type?\n",
    "    - 3. isCold, boolean (correct!)\n",
    "- Is itisRainingtodayinsandiego a better option than isRaining?\n",
    "    - 2. No (correct!)\n",
    "- Which of the following types of data is best for a true or false question?\n",
    "    - 1. boolean (correct!)\n",
    "- What is the difference between an integer and string of numbers?\n",
    "    - 4. An integer can be changed with addition and subtraction and a string is a set number or string of letters. (correct!)\n",
    "My Own 3 Questions: \n",
    "1. Mr. Yeung and Mr. Mortensen want to keep track of all their students grade levels: sophomore, junior, senior. What is the best variable name and data type?\n",
    "\n",
    "    a. GradeLevel, integer\n",
    "\n",
    "    b. gradeLevel, string\n",
    "\n",
    "    c. gradelevelofmortandyeungsstudents, string\n",
    "\n",
    "    d. gradeLevel, float\n",
    "\n",
    "answer: b. gradeLevel, string\n",
    "\n",
    "2. I want to create code that displays whether the answer is correct or not correct for a math test, what is the best variable name and data type for this?\n",
    "\n",
    "    a. isRight, integer \n",
    "\n",
    "    b. correctAnswer, string\n",
    "\n",
    "    c. isCorrect, float\n",
    "\n",
    "    d. isCorrect, boolean\n",
    "  \n",
    "answer: d. isCorrect, boolean  \n",
    "      \n",
    "3. I want to find out the number of books in the library, what is the best variable name and data type for this?\n",
    "\n",
    "    a. numBooks, integer\n",
    "\n",
    "    b. numbBooks, string\n",
    "\n",
    "    c. numberofbooksinlibrary, integer\n",
    "\n",
    "    d. numBooks, boolean\n",
    "\n",
    "answer: a. numBooks, integer"
   ]
  },
  {
   "cell_type": "markdown",
   "metadata": {},
   "source": [
    "### Unit 3.1 Variables and Assignment 2 Hacks\n",
    "1. 7\n",
    "2. 10\n",
    "3. 6 6 \n",
    "4. 30 30 25\n",
    "5. 20 \n",
    "6. The value of first is true, and the value of second is true.\n",
    "7. I think this problem had a typo because I got, 21 40 30 2.75, I looked at the answer key and it says \"Since c is 30 and d / 2 is 20, d is assigned the value 50.\" but the original problem is written as \"d ⟵ c / d + 2\"\n",
    "\n",
    "My Own Problems:\n",
    "1. given the following code segment \n",
    "\n",
    "key ⟵ true\n",
    "\n",
    "board ⟵ false\n",
    "\n",
    "board ⟵ key \n",
    "\n",
    "key ⟵ board \n",
    "\n",
    "what is the value of key? \n",
    "\n",
    "A: true \n",
    "\n",
    "2. given the following code segment\n",
    "\n",
    "a ⟵ 7\n",
    "\n",
    "b ⟵ 1\n",
    "\n",
    "c ⟵ 3\n",
    "\n",
    "b ⟵ c\n",
    "\n",
    "d ⟵ a + b + c\n",
    "\n",
    "find the value of d\n",
    "\n",
    "A: 13\n",
    "\n",
    "3. given the code segment: \n",
    "\n",
    "a ⟵ 7\n",
    "\n",
    "b ⟵ 1\n",
    "\n",
    "a ⟵ b\n",
    "\n",
    "find the value of a and b:\n",
    "\n",
    "A. a = 1, b = 1\n",
    "\n",
    "4. given the code segment: \n",
    "\n",
    "num1 ⟵ 5\n",
    "\n",
    "num2 ⟵ 8\n",
    "\n",
    "num3 ⟵ 10\n",
    "\n",
    "nums ⟵ num1 + num2 + num3\n",
    "\n",
    "find nums value:\n",
    "\n",
    "A: 23\n",
    "\n",
    "5. given the code segment: \n",
    "\n",
    "a ⟵ 2\n",
    "\n",
    "b ⟵ 3\n",
    "\n",
    "c ⟵ 6\n",
    "\n",
    "b ⟵ c\n",
    "\n",
    "a ⟵ c\n",
    "\n",
    "c ⟵ a\n",
    "\n",
    "find the value of a, b, and c:\n",
    "\n",
    "A. a = 6, b = 6, c = 6\n",
    "\n",
    "6. given the code segment: \n",
    "\n",
    "first ⟵ yes\n",
    "\n",
    "second ⟵ no \n",
    "\n",
    "first ⟵ second\n",
    "\n",
    "second ⟵ first\n",
    "\n",
    "what is the value of first and second? \n",
    "\n",
    "A: first = no, second = no "
   ]
  },
  {
   "cell_type": "markdown",
   "metadata": {},
   "source": [
    "### Unit 3.2 Variables and Assignment 2 Hacks\n",
    "Binary Hacks: I used my binary math to help :) \n",
    "1. 7\n",
    "2. 11\n",
    "3. 107\n",
    "4. 1100\n",
    "5. 101100\n",
    "6. 11111110\n",
    "Extra Hacks: \n",
    "1. 1110000000000001\n",
    "2. 111111111111111111111111\n",
    "3. 101010101010101010101010\n",
    "4. 2794\n",
    "5. 1248\n",
    "6. 53800\n",
    "\n",
    "Homework/Hacks: \n",
    "1. [92, 79, 97, 63]\n",
    "2. [\"Jamal\", \"Tamara\"] \n",
    "    - incorrect! [\"Sam\", \"Ann\"] is the right answer because listB's new value is now [\"Sam\", \"Ann\"], so list A is [\"Sam\", \"Ann\"]. \n",
    "3. 6\n",
    "4. 5\n",
    "5. all of the above \n",
    "6. -106.2\n",
    "7. 16\n",
    "8. false \n",
    "9. 1 and 4"
   ]
  },
  {
   "cell_type": "markdown",
   "metadata": {},
   "source": [
    "## 3.2 Video 2 classwork follow along "
   ]
  },
  {
   "cell_type": "code",
   "execution_count": 1,
   "metadata": {},
   "outputs": [
    {
     "name": "stdout",
     "output_type": "stream",
     "text": [
      "Python\n"
     ]
    }
   ],
   "source": [
    "languages_list = []\n",
    "languages_list = [\"Python\", \"C++\", \"JavaScript\"]\n",
    "print(languages_list[0])"
   ]
  },
  {
   "cell_type": "code",
   "execution_count": 2,
   "metadata": {},
   "outputs": [
    {
     "name": "stdout",
     "output_type": "stream",
     "text": [
      "[1, 55, 8, 2, 76, 22, 7, 13]\n"
     ]
    }
   ],
   "source": [
    "listA = []\n",
    "listA = [1, 55, 8, 2, 76]\n",
    "listB = []\n",
    "listB = [22, 7, 13]\n",
    "listA.extend(listB)\n",
    "print(listA)\n",
    "# listA = listB\n",
    "# print(listA)"
   ]
  },
  {
   "cell_type": "code",
   "execution_count": 3,
   "metadata": {},
   "outputs": [
    {
     "name": "stdout",
     "output_type": "stream",
     "text": [
      "['purple', 'yellow', 'red', 'blue']\n",
      "[39, 3, 5, 8]\n"
     ]
    }
   ],
   "source": [
    "colorsYay = [\"purple\", \"yellow\", \"red\", \"blue\"]\n",
    "numbersYay = [39, 3, 5, 8]\n",
    "\n",
    "print(colorsYay)\n",
    "print(numbersYay)"
   ]
  },
  {
   "cell_type": "code",
   "execution_count": 4,
   "metadata": {},
   "outputs": [
    {
     "name": "stdout",
     "output_type": "stream",
     "text": [
      "[[39, 3, 5, 8], \"['purple', 'yellow', 'red', 'blue']\"]\n"
     ]
    }
   ],
   "source": [
    "colorsYay = [\"purple\", \"yellow\", \"red\", \"blue\"]\n",
    "numbersYay = [39, 3, 5, 8]\n",
    "combineYay = [numbersYay, str(colorsYay)]\n",
    "print(combineYay)"
   ]
  }
 ],
 "metadata": {
  "kernelspec": {
   "display_name": "Python 3.8.10 64-bit",
   "language": "python",
   "name": "python3"
  },
  "language_info": {
   "codemirror_mode": {
    "name": "ipython",
    "version": 3
   },
   "file_extension": ".py",
   "mimetype": "text/x-python",
   "name": "python",
   "nbconvert_exporter": "python",
   "pygments_lexer": "ipython3",
   "version": "3.8.10"
  },
  "varInspector": {
   "cols": {
    "lenName": 16,
    "lenType": 16,
    "lenVar": 40
   },
   "kernels_config": {
    "python": {
     "delete_cmd_postfix": "",
     "delete_cmd_prefix": "del ",
     "library": "var_list.py",
     "varRefreshCmd": "print(var_dic_list())"
    },
    "r": {
     "delete_cmd_postfix": ") ",
     "delete_cmd_prefix": "rm(",
     "library": "var_list.r",
     "varRefreshCmd": "cat(var_dic_list()) "
    }
   },
   "types_to_exclude": [
    "module",
    "function",
    "builtin_function_or_method",
    "instance",
    "_Feature"
   ],
   "window_display": false
  },
  "vscode": {
   "interpreter": {
    "hash": "916dbcbb3f70747c44a77c7bcd40155683ae19c65e1c03b4aa3499c5328201f1"
   }
  }
 },
 "nbformat": 4,
 "nbformat_minor": 4
}
