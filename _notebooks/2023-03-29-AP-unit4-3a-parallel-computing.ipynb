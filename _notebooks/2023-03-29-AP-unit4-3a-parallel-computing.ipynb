{
 "cells": [
  {
   "attachments": {},
   "cell_type": "markdown",
   "metadata": {},
   "source": [
    "#  Unit 4.3a Parallel Computing\n",
    "> Observe an algorithm using parallel computing in Python Code.  Monitor processes on host.\n",
    "- toc: true"
   ]
  },
  {
   "attachments": {},
   "cell_type": "markdown",
   "metadata": {},
   "source": [
    "## Analyzing Parallel Computing\n",
    "> Once again we will use image lab, this time to review Parallel Computing.\n",
    "- Change baseWidth in this line in code to increase computation requirements: ```def process_image(image, baseWidth=512):```  For instance 320, 512, 1024, 2048, 4096.\n",
    "- Compare Sequential and Parallel computing code and time to achieve outputs"
   ]
  },
  {
   "cell_type": "code",
   "execution_count": null,
   "metadata": {},
   "outputs": [],
   "source": [
    "from IPython.display import HTML, display\n",
    "from pathlib import Path  # https://medium.com/@ageitgey/python-3-quick-tip-the-easy-way-to-deal-with-file-paths-on-windows-mac-and-linux-11a072b58d5f\n",
    "from PIL import Image as pilImage # as PIL Image is used to avoid conflicts\n",
    "from io import BytesIO\n",
    "import base64\n",
    "import numpy as np\n",
    "\n",
    "\n",
    "# prepares a series of images\n",
    "def image_data(path=Path(\"images/\"), images=None):  # path of static images is defaulted\n",
    "    if images is None:  # default image\n",
    "        images = [\n",
    "            {'source': \"Internet\", 'label': \"Green Square\", 'file': \"green-square-16.png\"},\n",
    "            {'source': \"Peter Carolin\", 'label': \"Clouds Impression\", 'file': \"clouds-impression.png\"},\n",
    "            {'source': \"Peter Carolin\", 'label': \"Lassen Volcano\", 'file': \"lassen-volcano.jpg\"}\n",
    "        ]\n",
    "    for image in images:\n",
    "        # File to open\n",
    "        image['filename'] = path / image['file']  # file with path\n",
    "    return images\n",
    "\n",
    "# Scale to baseWidth\n",
    "def scale_image(img, baseWidth):\n",
    "    scalePercent = (baseWidth/float(img.size[0]))\n",
    "    scaleHeight = int((float(img.size[1])*float(scalePercent)))\n",
    "    scale = (baseWidth, scaleHeight)\n",
    "    return img.resize(scale)\n",
    "\n",
    "# PIL image converted to base64\n",
    "def image_to_base64(img, format):\n",
    "    with BytesIO() as buffer:\n",
    "        img.save(buffer, format)\n",
    "        return base64.b64encode(buffer.getvalue()).decode()\n",
    "    \n",
    "# Convert pixels to Grey Scale\n",
    "def grey_pixel(pixel):\n",
    "    average = (pixel[0] + pixel[1] + pixel[2]) // 3  # average pixel values and use // for integer division\n",
    "    if len(pixel) > 3:\n",
    "        return( (average, average, average, pixel[3]) ) # PNG format\n",
    "    else:\n",
    "        return( (average, average, average) )\n",
    "    \n",
    "# Convert pixels to Red Scale\n",
    "def red_pixel(pixel):\n",
    "    if len(pixel) > 3:\n",
    "        return( (pixel[0], 0, 0, pixel[3]) ) # PNG format\n",
    "    else:\n",
    "        return( (pixel[0], 0, 0) )\n",
    "    \n",
    "# Convert pixels to Red Scale\n",
    "def green_pixel(pixel):\n",
    "    if len(pixel) > 3:\n",
    "        return( (0, pixel[1], 0, pixel[3]) ) # PNG format\n",
    "    else:\n",
    "        return( (0, pixel[1], 0) )\n",
    "    \n",
    "# Convert pixels to Red Scale\n",
    "def blue_pixel(pixel):\n",
    "    if len(pixel) > 3:\n",
    "        return( (0, 0, pixel[2], pixel[3]) ) # PNG format\n",
    "    else:\n",
    "        return( (0, 0, pixel[2]) )\n",
    "        \n",
    "# Set Properties of Image, Scale, and convert to Base64\n",
    "def image_management(image, baseWidth):  # path of static images is defaulted        \n",
    "    # Image open return PIL image object\n",
    "    img = pilImage.open(image['filename'])\n",
    "    \n",
    "    # Python Image Library operations\n",
    "    image['format'] = img.format\n",
    "    image['mode'] = img.mode\n",
    "    image['size'] = img.size\n",
    "    # Scale the Image\n",
    "    img = scale_image(img, baseWidth)\n",
    "    image['pil'] = img\n",
    "    image['scaled_size'] = img.size\n",
    "    image['numpy'] = np.array(img.getdata())\n",
    "    # Scaled HTML\n",
    "    image['html'] = '<img src=\"data:image/png;base64,%s\">' % image_to_base64(image['pil'], image['format'])\n",
    "    \n",
    "    # Grey HTML\n",
    "    # each pixel in numpy array is turned to grey \n",
    "    # then resulting list, using List Comprehension, is put back into img    \n",
    "    img.putdata([grey_pixel(pixel) for pixel in image['numpy']]) # list comprehension- building a list with a for loop in a list construct \n",
    "    image['html_grey'] =  '<img src=\"data:image/png;base64,%s\">' % image_to_base64(img, image['format'])\n",
    "    # Red HTML\n",
    "    img.putdata([red_pixel(pixel) for pixel in image['numpy']])\n",
    "    image['html_red'] =  '<img src=\"data:image/png;base64,%s\">' % image_to_base64(img, image['format'])\n",
    "    \n",
    "    # Green HTML\n",
    "    img.putdata([green_pixel(pixel) for pixel in image['numpy']])\n",
    "    image['html_green'] =  '<img src=\"data:image/png;base64,%s\">' % image_to_base64(img, image['format'])\n",
    "    \n",
    "    # Blue HTML\n",
    "    img.putdata([blue_pixel(pixel) for pixel in image['numpy']])\n",
    "    image['html_blue'] =  '<img src=\"data:image/png;base64,%s\">' % image_to_base64(img, image['format'])\n",
    "    \n",
    "    \n",
    "def process_image(image, baseWidth=320):\n",
    "    image_management(image, baseWidth)\n",
    "    print(\"---- meta data -----\")\n",
    "    print(image['label'])\n",
    "    print(image['source'])\n",
    "    print(image['format'])\n",
    "    print(image['mode'])\n",
    "    print(\"Original size: \", image['size'])\n",
    "    print(\"Scaled size: \", image['scaled_size'])\n",
    "    \n",
    "    print(\"-- images --\")\n",
    "    display(HTML(image['html'])) \n",
    "    display(HTML(image['html_grey'])) \n",
    "    display(HTML(image['html_red'])) \n",
    "    display(HTML(image['html_green'])) \n",
    "    display(HTML(image['html_blue'])) \n"
   ]
  },
  {
   "attachments": {},
   "cell_type": "markdown",
   "metadata": {},
   "source": [
    "## Sequential Processing \n",
    "> The for loop iterates over the list of images and processes them one at a time, in order."
   ]
  },
  {
   "cell_type": "code",
   "execution_count": null,
   "metadata": {},
   "outputs": [],
   "source": [
    "# Jupyter Notebook Visualization of Images\n",
    "if __name__ == \"__main__\":\n",
    "    # setup default images\n",
    "    images = image_data()\n",
    "\n",
    "    # Sequential Processing    \n",
    "    for image in images:\n",
    "        process_image(image)\n",
    "        \n",
    "    print()"
   ]
  },
  {
   "attachments": {},
   "cell_type": "markdown",
   "metadata": {},
   "source": [
    "## Parallel Computing\n",
    "\n",
    " > In parallel or concurrent mode, the ThreadPoolExecutor is used to submit each image to a separate worker thread, allowing multiple images to be processed simultaneously. Multithreading allows multiple concurrent tasks of a process at the same time. The executor.map() method is used to apply the process_image function to each image in the images list.  \n",
    " - The order in which the images are processed is not guaranteed, as threads are performed simultaneously."
   ]
  },
  {
   "cell_type": "code",
   "execution_count": null,
   "metadata": {},
   "outputs": [],
   "source": [
    "import concurrent.futures\n",
    "\n",
    "# Jupyter Notebook Visualization of Images\n",
    "if __name__ == \"__main__\":\n",
    "    # setup default images\n",
    "    images = image_data()\n",
    "    \n",
    "    # Parallel Processsing\n",
    "    # executor allocates threads, it considers core execution capability of machine\n",
    "    with concurrent.futures.ThreadPoolExecutor() as executor: # run processing for each image using executer map\n",
    "        executor.map(process_image, images)  # order is not predictable\n",
    "        \n",
    "    print()"
   ]
  },
  {
   "attachments": {},
   "cell_type": "markdown",
   "metadata": {},
   "source": [
    "## Observing Parallel Computing and Threads\n",
    "> You can observe Processes, CPU Percentage, and Threads with Tools on your machine. Common tools to monitor performance are Activity Monitor on MacOS or Task Manager on Windows.   \n",
    "\n",
    "- This example is using ```top``` launched in VSCode Terminal.\n",
    "\n",
    "    - PID is Process ID.  \n",
    "    - COMMAND is task running on machine.  Python is activated when running this Jupyter notebook.\n",
    "    - #TH is number of threads.   This increases from 15/1 to 18/1 on my machine when running python parallel computing example.\n"
   ]
  },
  {
   "attachments": {},
   "cell_type": "markdown",
   "metadata": {},
   "source": [
    "## Hacks\n",
    "> AP Classroom. Provide answers and thoughts on theoretical question form college board Video in section 4.3.  They start at about the 9 minute mark.\n",
    "- Example 1\n",
    "\n",
    "50 seconds\n",
    "process y and z will be done in 40 but x is 50, so total minimum time is still 50. \n",
    "- Example 2\n",
    "\n",
    "running in parallel will run much faster because it will take a total of 45 seconds. In contrast, running one after the other will take 70 seconds because you run the 25 second process first and then the 45 second next. It will run 25 seconds faster with parallel\n",
    "\n",
    "> Data Structures.  Build a List Comprehension example\n",
    "- list = [calc(item) for item in items]"
   ]
  },
  {
   "attachments": {},
   "cell_type": "markdown",
   "metadata": {},
   "source": [
    "# Building List Comprehension"
   ]
  },
  {
   "cell_type": "code",
   "execution_count": 7,
   "metadata": {},
   "outputs": [
    {
     "name": "stdout",
     "output_type": "stream",
     "text": [
      "[1, 8, 27, 64, 125]\n"
     ]
    }
   ],
   "source": [
    "numbers = [1, 2, 3, 4, 5]\n",
    "new_numbers = [num**3 for num in numbers]\n",
    "print(new_numbers)"
   ]
  },
  {
   "cell_type": "code",
   "execution_count": 8,
   "metadata": {},
   "outputs": [
    {
     "name": "stdout",
     "output_type": "stream",
     "text": [
      "[2, 6, 8, 10, 22]\n"
     ]
    }
   ],
   "source": [
    "nested_list = [[10, 8, 3], [7, 2, 19], [13, 6, 22]]\n",
    "even_numbers = [num for sublist in nested_list for num in sublist if num % 2 == 0]\n",
    "\n",
    "even_numbers.sort()\n",
    "print(even_numbers)"
   ]
  }
 ],
 "metadata": {
  "kernelspec": {
   "display_name": "base",
   "language": "python",
   "name": "python3"
  },
  "language_info": {
   "codemirror_mode": {
    "name": "ipython",
    "version": 3
   },
   "file_extension": ".py",
   "mimetype": "text/x-python",
   "name": "python",
   "nbconvert_exporter": "python",
   "pygments_lexer": "ipython3",
   "version": "3.9.12"
  },
  "orig_nbformat": 4
 },
 "nbformat": 4,
 "nbformat_minor": 2
}
