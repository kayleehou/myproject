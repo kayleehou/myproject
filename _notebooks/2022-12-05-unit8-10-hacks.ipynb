{
 "cells": [
  {
   "cell_type": "markdown",
   "metadata": {},
   "source": [
    "# Unit 3 Sections 8-10 Hacks\n",
    "\n",
    "- toc: true \n",
    "- categories: [Student Teaching]\n",
    "- badges: true\n",
    "- comments: true"
   ]
  },
  {
   "cell_type": "markdown",
   "metadata": {},
   "source": [
    "## Lists and Iteration Exercises:\n",
    "1. print in reversed order using lists and iteration"
   ]
  },
  {
   "cell_type": "code",
   "execution_count": 8,
   "metadata": {},
   "outputs": [
    {
     "name": "stdout",
     "output_type": "stream",
     "text": [
      "[5, 4, 3, 2, 1]\n"
     ]
    }
   ],
   "source": [
    "list = [1, 2, 3, 4, 5]\n",
    "reversedList = []\n",
    "\n",
    "for value in list:\n",
    "    reversedList = [value] + reversedList\n",
    "\n",
    "print(reversedList)"
   ]
  },
  {
   "cell_type": "markdown",
   "metadata": {},
   "source": [
    "Faster Way to do it without iteration:"
   ]
  },
  {
   "cell_type": "code",
   "execution_count": 18,
   "metadata": {},
   "outputs": [
    {
     "name": "stdout",
     "output_type": "stream",
     "text": [
      "[5, 4, 3, 2, 1]\n"
     ]
    }
   ],
   "source": [
    "list = [1, 2, 3, 4, 5]\n",
    "list.reverse()\n",
    "print(list)\n"
   ]
  },
  {
   "cell_type": "markdown",
   "metadata": {},
   "source": [
    "2. Sort array using bubble sort "
   ]
  },
  {
   "cell_type": "code",
   "execution_count": 20,
   "metadata": {},
   "outputs": [
    {
     "name": "stdout",
     "output_type": "stream",
     "text": [
      "[0, 1, 2, 3, 4, 5, 6, 7, 8, 9]\n"
     ]
    }
   ],
   "source": [
    "list = [9, 8, 4, 3, 5, 2, 6, 7, 1, 0]\n",
    "def sort(list):\n",
    "    for index in range(1,len(list)): # repeats through length of the array\n",
    "        value = list[index]\n",
    "        i = index - 1\n",
    "        while i >= 0:\n",
    "            if value < list[i]:\n",
    "                list[i+1] = list[i] # shift number in slot i to the right\n",
    "                list[i] = value # shift value left into slot i\n",
    "                i = i - 1\n",
    "            else:\n",
    "                break\n",
    "\n",
    "x = sort(list)\n",
    "print(list)"
   ]
  },
  {
   "cell_type": "markdown",
   "metadata": {},
   "source": [
    "Faster Way to do it without algorithm:"
   ]
  },
  {
   "cell_type": "code",
   "execution_count": 19,
   "metadata": {},
   "outputs": [
    {
     "name": "stdout",
     "output_type": "stream",
     "text": [
      "[0, 1, 2, 3, 4, 5, 6, 7, 8, 9]\n"
     ]
    }
   ],
   "source": [
    "list = [9, 8, 4, 3, 5, 2, 6, 7, 1, 0]\n",
    "list.sort()\n",
    "print(list)"
   ]
  },
  {
   "cell_type": "markdown",
   "metadata": {},
   "source": [
    "### Learning Points\n",
    "- While there may be functions that quickly allow for reversing or sorting, using algorithms or loops may be better for the long run, because once you start getting to more complex problems, algorithms allow for the most efficient and best way to solve a problem \n",
    "- how to use the sort() and reverse() function\n",
    "- how to use the range() function \n",
    "- The Python index() method helps you find the index position of an element or an item in a string of characters or a list of items.\n",
    "- Indexing/List Index: position of an element in a list, starting from 0."
   ]
  },
  {
   "cell_type": "markdown",
   "metadata": {},
   "source": [
    "## Multiple Choice Quiz Results \n",
    "SCORE: 9/10\n",
    "![](https://github.com/kayleehou/myproject/blob/master/images/hacksinc8.PNG?raw=true)\n",
    "- A is wrong because it is not always for a set amount of time, this would be the condition for a for loop. A while loop can repeat forever if the condition is always true. Since you are testing if the condition is true, this would be a comparison to another conditional, so c is the correct answer. I thought this would be the wrong answer at first because I didn't think it was a comparison, but after doing some extra research using this resource, it made more sense:\n",
    "<a href=\"https://www.cs.utah.edu/~germain/PPS/Topics/while_loops.html#:~:text=A%20%22While%22%20Loop%20is%20used,not%20between%201%20and%2010%22.\" rel=\"nofollow\">RESOURCE</a>"
   ]
  },
  {
   "cell_type": "markdown",
   "metadata": {},
   "source": [
    "## Notes: \n",
    "- Iteration: the repitition of a process. \n",
    "- For Loop: repeats a function for a set number of times; I is the number of times repeated. With the for loop we can execute a set of statements, once for each item in a list, tuple, set etc.\n",
    "- While Loop: the while loop is used to repeat a section of code an unknown number of times until a specific condition is met. A while loop will execute a set of statements as long as a condition is true.\n",
    "- Initialization: whatever sets the counter variable to a starting value.\n",
    "- Condition: allows the computer to know whether or not to keep repeating the loop.\n",
    "- Increment/Decrement: modifies the counter variable after each repetition.\n",
    "- Append, Remove, Pop: append adds an element to the end, removes an index or selected index, and pop removes the last item of an index.\n",
    "- Elements: an item in a list.\n",
    "- Nesting: having one data type or function inside another data type or function.\n",
    "- Array - alternate name for a list.\n",
    "- A MASSIVE NOTE: Lists methods Mutate, meaning they actively change the list, but they don’t return anything. This means that return a None-type, which you cannot manipulate"
   ]
  }
 ],
 "metadata": {
  "kernelspec": {
   "display_name": "Python 3.9.12 ('base')",
   "language": "python",
   "name": "python3"
  },
  "language_info": {
   "codemirror_mode": {
    "name": "ipython",
    "version": 3
   },
   "file_extension": ".py",
   "mimetype": "text/x-python",
   "name": "python",
   "nbconvert_exporter": "python",
   "pygments_lexer": "ipython3",
   "version": "3.9.12"
  },
  "orig_nbformat": 4,
  "vscode": {
   "interpreter": {
    "hash": "d1e630f086fdc2c4485cd3472dbc38e15291e251b78da1fca784a44d4839495c"
   }
  }
 },
 "nbformat": 4,
 "nbformat_minor": 2
}
