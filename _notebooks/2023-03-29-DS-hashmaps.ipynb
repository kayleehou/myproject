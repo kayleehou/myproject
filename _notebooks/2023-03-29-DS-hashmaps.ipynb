{
 "cells": [
  {
   "attachments": {},
   "cell_type": "markdown",
   "metadata": {},
   "source": [
    "#  Data Structures- Hashmaps, Sets, Hash Tables, Hashing and Collisions\n",
    "> Observing hashmaps with python dictionaries\n",
    "- toc: true"
   ]
  },
  {
   "attachments": {},
   "cell_type": "markdown",
   "metadata": {},
   "source": [
    "## What is a Hashtable/Hashmap?\n",
    "\n",
    "A hashtable is a data structure that with a collection of key-value pairs, where each key maps to a value, and the keys must be unique and hashable.\n",
    "\n",
    "- In Python there is a built in hashtable known as a __dictionary_____________.\n",
    "\n",
    "The primary purpose of a hashtable is to provide efficient lookup, insertion, and deletion operations. When an element is to be inserted into the hashtable, a hash function is used to map the key to a specific index in the underlying array that is used to store the key-value pairs. The value is then stored at that index. When searching for a value, the hash function is used again to find the index where the value is stored.\n",
    "\n",
    "The key advantage of a hashtable over other data structures like arrays and linked lists is its average-case time complexity for lookup, insertion, and deletion operations.\n",
    "\n",
    "- The typical time complexity of a hashtable is _____O(1)__________. \n"
   ]
  },
  {
   "attachments": {},
   "cell_type": "markdown",
   "metadata": {},
   "source": [
    "## What is Hashing and Collision?\n",
    "\n",
    "Hashing is the process of mapping a given key to a value in a hash table or hashmap, using a hash function. The hash function takes the key as input and produces a hash value or hash code, which is then used to determine the index in the underlying array where the value is stored. The purpose of hashing is to provide a quick and efficient way to access data, by eliminating the need to search through an entire data structure to find a value.\n",
    "\n",
    "However, it is possible for two different keys to map to the same hash value, resulting in a collision. When a collision occurs, there are different ways to resolve it, depending on the collision resolution strategy used.\n",
    "\n",
    "Python's dictionary implementation is optimized to handle collisions efficiently, and the performance of the dictionary is generally very good, even in the presence of collisions. However, if the number of collisions is very high, the performance of the dictionary can degrade, so it is important to choose a good hash function that minimizes collisions when designing a Python dictionary.\n",
    "\n",
    "## What is a Set?"
   ]
  },
  {
   "cell_type": "code",
   "execution_count": 1,
   "metadata": {},
   "outputs": [
    {
     "name": "stdout",
     "output_type": "stream",
     "text": [
      "{1, 2, 3}\n"
     ]
    }
   ],
   "source": [
    "# Creating a set using set() function\n",
    "my_set = set([1, 2, 3, 2, 1])\n",
    "print(my_set)  \n",
    "\n",
    "# What do you notice in the output?\n",
    "# the output prints out 1,2,3, and doesn't print out the other 2 and 1 in the dictionary\n",
    "# the numbers are printed in a dictionary \n",
    "\n",
    "# Why do you think Sets are in the same tech talk as Hashmaps/Hashtables?\n",
    "# keys must be unique and hashable, no duplicates \n",
    "# sets and hashmaps have unique values "
   ]
  },
  {
   "cell_type": "code",
   "execution_count": 11,
   "metadata": {},
   "outputs": [
    {
     "name": "stdout",
     "output_type": "stream",
     "text": [
      "{'title': 'Lover', 'artist': 'Taylor Swift', 'year': 2019, 'genre': ['Pop', 'Synth-pop'], 'tracks': {1: 'I Forgot That You Existed', 2: 'Cruel Summer', 3: 'Lover', 4: 'The Man', 5: 'The Archer', 6: 'I Think He Knows', 7: 'Miss Americana & The Heartbreak Prince', 8: 'Paper Rings', 9: 'Cornelia Street', 10: 'Death By A Thousand Cuts', 11: 'London Boy', 12: \"Soon You'll Get Better (feat. Dixie Chicks)\", 13: 'False God', 14: 'You Need To Calm Down', 15: 'Afterglow', 16: 'Me! (feat. Brendon Urie of Panic! At The Disco)', 17: \"It's Nice To Have A Friend\", 18: 'Daylight'}}\n"
     ]
    }
   ],
   "source": [
    "# Creating a dictionary with information about the album \"Lover\"\n",
    "lover_album = {\n",
    "    \"title\": \"Lover\",\n",
    "    \"artist\": \"Taylor Swift\",\n",
    "    \"year\": 2019,\n",
    "    \"genre\": [\"Pop\", \"Synth-pop\"],\n",
    "    \"tracks\": {\n",
    "        1: \"I Forgot That You Existed\",\n",
    "        2: \"Cruel Summer\",\n",
    "        3: \"Lover\",\n",
    "        4: \"The Man\",\n",
    "        5: \"The Archer\",\n",
    "        6: \"I Think He Knows\",\n",
    "        7: \"Miss Americana & The Heartbreak Prince\",\n",
    "        8: \"Paper Rings\",\n",
    "        9: \"Cornelia Street\",\n",
    "        10: \"Death By A Thousand Cuts\",\n",
    "        11: \"London Boy\",\n",
    "        12: \"Soon You'll Get Better (feat. Dixie Chicks)\",\n",
    "        13: \"False God\",\n",
    "        14: \"You Need To Calm Down\",\n",
    "        15: \"Afterglow\",\n",
    "        16: \"Me! (feat. Brendon Urie of Panic! At The Disco)\",\n",
    "        17: \"It's Nice To Have A Friend\",\n",
    "        18: \"Daylight\"\n",
    "    }\n",
    "}\n",
    "\n",
    "# What data structures do you see?\n",
    "# lists\n",
    "# dictionaries \n",
    "\n",
    "# Printing the dictionary\n",
    "print(lover_album)"
   ]
  },
  {
   "cell_type": "code",
   "execution_count": 12,
   "metadata": {},
   "outputs": [
    {
     "name": "stdout",
     "output_type": "stream",
     "text": [
      "{1: 'I Forgot That You Existed', 2: 'Cruel Summer', 3: 'Lover', 4: 'The Man', 5: 'The Archer', 6: 'I Think He Knows', 7: 'Miss Americana & The Heartbreak Prince', 8: 'Paper Rings', 9: 'Cornelia Street', 10: 'Death By A Thousand Cuts', 11: 'London Boy', 12: \"Soon You'll Get Better (feat. Dixie Chicks)\", 13: 'False God', 14: 'You Need To Calm Down', 15: 'Afterglow', 16: 'Me! (feat. Brendon Urie of Panic! At The Disco)', 17: \"It's Nice To Have A Friend\", 18: 'Daylight'}\n",
      "{1: 'I Forgot That You Existed', 2: 'Cruel Summer', 3: 'Lover', 4: 'The Man', 5: 'The Archer', 6: 'I Think He Knows', 7: 'Miss Americana & The Heartbreak Prince', 8: 'Paper Rings', 9: 'Cornelia Street', 10: 'Death By A Thousand Cuts', 11: 'London Boy', 12: \"Soon You'll Get Better (feat. Dixie Chicks)\", 13: 'False God', 14: 'You Need To Calm Down', 15: 'Afterglow', 16: 'Me! (feat. Brendon Urie of Panic! At The Disco)', 17: \"It's Nice To Have A Friend\", 18: 'Daylight'}\n"
     ]
    }
   ],
   "source": [
    "# Retrieve value from dictionary with key\n",
    "print(lover_album.get('tracks'))\n",
    "# or\n",
    "print(lover_album['tracks'])"
   ]
  },
  {
   "cell_type": "code",
   "execution_count": 13,
   "metadata": {},
   "outputs": [
    {
     "name": "stdout",
     "output_type": "stream",
     "text": [
      "The Man\n",
      "The Man\n"
     ]
    }
   ],
   "source": [
    "# Retrieve value from a dictionary inside a dictionary\n",
    "print(lover_album.get('tracks')[4]) # two types of calls \n",
    "# or\n",
    "print(lover_album['tracks'][4]) # index, name of key to retrieve the value "
   ]
  },
  {
   "cell_type": "code",
   "execution_count": 14,
   "metadata": {},
   "outputs": [
    {
     "name": "stdout",
     "output_type": "stream",
     "text": [
      "{'title': 'Lover', 'artist': 'Taylor Swift', 'year': 2019, 'genre': ['Pop', 'Synth-pop'], 'tracks': {1: 'I Forgot That You Existed', 2: 'Cruel Summer', 3: 'Lover', 4: 'The Man', 5: 'The Archer', 6: 'I Think He Knows', 7: 'Miss Americana & The Heartbreak Prince', 8: 'Paper Rings', 9: 'Cornelia Street', 10: 'Death By A Thousand Cuts', 11: 'London Boy', 12: \"Soon You'll Get Better (feat. Dixie Chicks)\", 13: 'False God', 14: 'You Need To Calm Down', 15: 'Afterglow', 16: 'Me! (feat. Brendon Urie of Panic! At The Disco)', 17: \"It's Nice To Have A Friend\", 18: 'Daylight'}, 'producer': {'Taylor Swift', 'Louis Bell', 'Joel Little', 'Jack Antonoff', 'Frank Dukes'}}\n"
     ]
    }
   ],
   "source": [
    "# adding a value with a new key\n",
    "lover_album[\"producer\"] = set(['Taylor Swift', 'Jack Antonoff', 'Joel Little', 'Taylor Swift', 'Louis Bell', 'Frank Dukes'])\n",
    "# Printing the dictionary\n",
    "print(lover_album)\n",
    "\n",
    "# What can you change to make sure there are no duplicate producers?\n",
    "# use set \n",
    "#"
   ]
  },
  {
   "cell_type": "code",
   "execution_count": 18,
   "metadata": {},
   "outputs": [
    {
     "name": "stdout",
     "output_type": "stream",
     "text": [
      "{'title': 'Lover', 'artist': 'Taylor Swift', 'year': 2019, 'genre': ['Pop', 'Synth-pop', 'Electropop'], 'tracks': {1: 'I Forgot That You Existed', 2: 'Cruel Summer', 3: 'Lover', 4: 'The Man', 5: 'The Archer', 6: 'I Think He Knows', 7: 'Miss Americana & The Heartbreak Prince', 8: 'Paper Rings', 9: 'Cornelia Street', 10: 'Death By A Thousand Cuts', 11: 'London Boy', 12: \"Soon You'll Get Better (feat. Dixie Chicks)\", 13: 'False God', 14: 'You Need To Calm Down', 15: 'Afterglow', 16: 'Me! (feat. Brendon Urie of Panic! At The Disco)', 17: \"It's Nice To Have A Friend\", 18: 'Daylight', 19: 'All Of The Girls You Loved Before'}, 'producer': {'Taylor Swift', 'Louis Bell', 'Joel Little', 'Jack Antonoff', 'Frank Dukes'}}\n"
     ]
    }
   ],
   "source": [
    "# Adding a 19th song to an album 4 years later \n",
    "lover_album[\"tracks\"].update({19: \"All Of The Girls You Loved Before\"})\n",
    "# Printing the dictionary\n",
    "\n",
    "# How would add an additional genre to the dictionary, like electropop? \n",
    "# add electropop to \"genre\": [\"Pop\", \"Synth-pop\"],\n",
    "# or i would append: \n",
    "# Access the genre list in the lover_album dictionary\n",
    "genres = lover_album[\"genre\"]\n",
    "\n",
    "# Append \"Electropop\" to the end of the list\n",
    "genres.append(\"Electropop\")\n",
    "\n",
    "print(lover_album)"
   ]
  },
  {
   "cell_type": "code",
   "execution_count": 9,
   "metadata": {},
   "outputs": [
    {
     "name": "stdout",
     "output_type": "stream",
     "text": [
      "title: Lover\n",
      "artist: Taylor Swift\n",
      "year: 2019\n",
      "genre: ['Pop', 'Synth-pop']\n",
      "tracks: {1: 'I Forgot That You Existed', 2: 'Cruel Summer', 3: 'Lover', 4: 'The Man', 5: 'The Archer', 6: 'I Think He Knows', 7: 'Miss Americana & The Heartbreak Prince', 8: 'Paper Rings', 9: 'Cornelia Street', 10: 'Death By A Thousand Cuts', 11: 'London Boy', 12: \"Soon You'll Get Better (feat. Dixie Chicks)\", 13: 'False God', 14: 'You Need To Calm Down', 15: 'Afterglow', 16: 'Me! (feat. Brendon Urie of Panic! At The Disco)', 17: \"It's Nice To Have A Friend\", 18: 'Daylight'}\n",
      "----------------\n",
      "Tracks in Lover:\n",
      "Track 1: I Forgot That You Existed\n",
      "Track 2: Cruel Summer\n",
      "Track 3: Lover\n",
      "Track 4: The Man\n",
      "Track 5: The Archer\n",
      "Track 6: I Think He Knows\n",
      "Track 7: Miss Americana & The Heartbreak Prince\n",
      "Track 8: Paper Rings\n",
      "Track 9: Cornelia Street\n",
      "Track 10: Death By A Thousand Cuts\n",
      "Track 11: London Boy\n",
      "Track 12: Soon You'll Get Better (feat. Dixie Chicks)\n",
      "Track 13: False God\n",
      "Track 14: You Need To Calm Down\n",
      "Track 15: Afterglow\n",
      "Track 16: Me! (feat. Brendon Urie of Panic! At The Disco)\n",
      "Track 17: It's Nice To Have A Friend\n",
      "Track 18: Daylight\n"
     ]
    }
   ],
   "source": [
    "for k,v in lover_album.items(): # iterate using a for loop for key and value\n",
    "    print(str(k) + \": \" + str(v))\n",
    "\n",
    "# Write your own code to print tracks in readable format\n",
    "\n",
    "tracks = lover_album['tracks']\n",
    "print(\"----------------\")\n",
    "print(\"Tracks in Lover:\")\n",
    "# Iterate over the tracks dictionary and print each track\n",
    "for track_number, track_title in tracks.items():\n",
    "    print(f\"Track {track_number}: {track_title}\")"
   ]
  },
  {
   "cell_type": "code",
   "execution_count": 11,
   "metadata": {},
   "outputs": [
    {
     "name": "stdout",
     "output_type": "stream",
     "text": [
      "['Pop', 'Synth-pop']\n"
     ]
    }
   ],
   "source": [
    "def search():\n",
    "    search = input(\"What would you like to know about the album?\")\n",
    "    if lover_album.get(search.lower()) == None:\n",
    "        print(\"Invalid Search\")\n",
    "    else:\n",
    "        print(lover_album.get(search.lower()))\n",
    "\n",
    "search()\n",
    "\n",
    "# This is a very basic code segment, how can you improve upon this code?\n",
    "# you can add a feature where the user can add another song to the dictionary\n",
    "# you can also add a feature where if the user types a typo, they can try again \n",
    "# the print messages are also not very specific or helpful, they could tell the user more clearly of a problem"
   ]
  },
  {
   "attachments": {},
   "cell_type": "markdown",
   "metadata": {},
   "source": [
    "# Hacks\n",
    "\n",
    "- Answer ALL questions in the code segments\n",
    "- Create a diagram or comparison illustration (Canva).\n",
    "    - What are the pro and cons of using this data structure?\n",
    "    - Dictionary vs List\n",
    "- Expand upon the code given to you, possible improvements in comments\n",
    "- Build your own album showing features of a python dictionary\n",
    "\n",
    "For Mr. Yeung's class: Justify your favorite Taylor Swift song, answer may effect seed"
   ]
  },
  {
   "attachments": {},
   "cell_type": "markdown",
   "metadata": {},
   "source": [
    "![](https://github.com/kayleehou/myproject/blob/master/images/dictionaryvlist.PNG?raw=true)"
   ]
  },
  {
   "attachments": {},
   "cell_type": "markdown",
   "metadata": {},
   "source": [
    "# Using My Own Album "
   ]
  },
  {
   "cell_type": "code",
   "execution_count": 1,
   "metadata": {},
   "outputs": [
    {
     "name": "stdout",
     "output_type": "stream",
     "text": [
      "{'title': 'Melodrama', 'artist': 'Lorde', 'year': 2017, 'genre': ['Pop', 'Alternative/Indie'], 'awards': ['2018 Grammy Award for Album of the Year', '2018 NME Award for Best Album', '2017 ARIA Music Award for Best International Artist'], 'tracks': {1: 'Green Light', 2: 'Sober', 3: 'Homemade Dynamite', 4: 'The Louvre', 5: 'Liability', 6: 'Hard Feelings/Loveless', 7: 'Sober II (Melodrama)', 8: 'Writer in The Dark', 9: 'Supercut', 10: 'Liability Reprise', 11: 'Perfect Places'}}\n"
     ]
    }
   ],
   "source": [
    "# Creating a dictionary with information about the album \"Lover\"\n",
    "melodramaAlbum = {\n",
    "    \"title\": \"Melodrama\",\n",
    "    \"artist\": \"Lorde\",\n",
    "    \"year\": 2017,\n",
    "    \"genre\": [\"Pop\", \"Alternative/Indie\"],\n",
    "    \"awards\": [\"2018 Grammy Award for Album of the Year\", \"2018 NME Award for Best Album\", \"2017 ARIA Music Award for Best International Artist\"],\n",
    "    \"tracks\": {\n",
    "        1: \"Green Light\",\n",
    "        2: \"Sober\",\n",
    "        3: \"Homemade Dynamite\",\n",
    "        4: \"The Louvre\",\n",
    "        5: \"Liability\",\n",
    "        6: \"Hard Feelings/Loveless\",\n",
    "        7: \"Sober II (Melodrama)\",\n",
    "        8: \"Writer in The Dark\",\n",
    "        9: \"Supercut\",\n",
    "        10: \"Liability Reprise\",\n",
    "        11: \"Perfect Places\"\n",
    "    }\n",
    "}\n",
    "\n",
    "print(melodramaAlbum)"
   ]
  },
  {
   "cell_type": "code",
   "execution_count": 3,
   "metadata": {},
   "outputs": [
    {
     "name": "stdout",
     "output_type": "stream",
     "text": [
      "Genre: \n",
      "['Pop', 'Alternative/Indie']\n",
      "Track 8\n",
      "Writer in The Dark\n"
     ]
    }
   ],
   "source": [
    "print(\"Genre: \")\n",
    "print(melodramaAlbum['genre'])\n",
    "\n",
    "print(\"Track 8: \")\n",
    "print(melodramaAlbum['tracks'][8])"
   ]
  },
  {
   "attachments": {},
   "cell_type": "markdown",
   "metadata": {},
   "source": [
    "## Search Function that allows for typos in album info\n",
    "- for example: if the user inputted genree or trackss, they would be able to try again \n",
    "- I installed fuzzywuzzy which is a python library for fuzzy string matching. It provides a set of functions and algorithms for comparing and measuring the similarity between two strings.\n",
    "- I think this would be a great addition to our final project because we also have a search function and if the user inputs a song that is spelled wrong, we could still locate what song they intended. "
   ]
  },
  {
   "cell_type": "code",
   "execution_count": 4,
   "metadata": {},
   "outputs": [
    {
     "name": "stdout",
     "output_type": "stream",
     "text": [
      "Genre: ['Pop', 'Alternative/Indie']\n"
     ]
    }
   ],
   "source": [
    "from fuzzywuzzy import fuzz, process\n",
    "\n",
    "def album_search():\n",
    "    max_attempts = 3\n",
    "    attempts = 0\n",
    "    while attempts < max_attempts:\n",
    "        search_key = input(\"What would you like to know about the album? \")\n",
    "        search_key = search_key.lower()\n",
    "\n",
    "        # Check for exact match\n",
    "        if search_key in melodramaAlbum:\n",
    "            print(f\"{search_key.capitalize()}: {melodramaAlbum[search_key]}\")\n",
    "            break\n",
    "        else:\n",
    "            # Perform fuzzy search\n",
    "            matches = process.extract(search_key, melodramaAlbum.keys(), limit=5)\n",
    "            match_names = [match[0] for match in matches]\n",
    "            print(f\"Did you mean one of these {', '.join(match_names)}?\")\n",
    "\n",
    "            # Prompt user to input what they actually mean\n",
    "            user_input = input(\"Please enter what you actually mean: \")\n",
    "            if user_input.lower() in melodramaAlbum:\n",
    "                print(f\"{user_input.capitalize()}: {melodramaAlbum[user_input.lower()]}\")\n",
    "                break\n",
    "            else:\n",
    "                attempts += 1\n",
    "                print(\"Unfortunately, we don't have that info.\")\n",
    "\n",
    "        if attempts == max_attempts:\n",
    "            print(\"You have exceeded the maximum number of attempts.\")\n",
    "            break\n",
    "\n",
    "album_search()\n"
   ]
  }
 ],
 "metadata": {
  "kernelspec": {
   "display_name": "base",
   "language": "python",
   "name": "python3"
  },
  "language_info": {
   "codemirror_mode": {
    "name": "ipython",
    "version": 3
   },
   "file_extension": ".py",
   "mimetype": "text/x-python",
   "name": "python",
   "nbconvert_exporter": "python",
   "pygments_lexer": "ipython3",
   "version": "3.9.12"
  },
  "orig_nbformat": 4
 },
 "nbformat": 4,
 "nbformat_minor": 2
}
