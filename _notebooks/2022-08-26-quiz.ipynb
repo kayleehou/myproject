{
 "cells": [
  {
   "cell_type": "markdown",
   "metadata": {},
   "source": [
    "# My Python Quiz \n",
    "- title: Python Quiz\n",
    "- toc: true\n",
    "- image: /images/python-pic.png\n",
    "- tags: [python]"
   ]
  },
  {
   "cell_type": "code",
   "execution_count": 1,
   "metadata": {},
   "outputs": [
    {
     "name": "stdout",
     "output_type": "stream",
     "text": [
      "welcome to my quiz :)\n",
      "okay! let's play:)\n",
      "yes, import is correct!\n",
      "yes, if is correct!\n",
      "yay! you are super smart, expression is correct\n",
      "YES WE WILL\n",
      "yippee you got 5 questions correct!\n",
      "you got 100.0%.\n"
     ]
    },
    {
     "ename": "",
     "evalue": "",
     "output_type": "error",
     "traceback": [
      "The Kernel crashed while executing code in the the current cell or a previous cell. Please review the code in the cell(s) to identify a possible cause of the failure. Click <a href='https://aka.ms/vscodeJupyterKernelCrash'>here</a> for more info. View Jupyter <a href='command:jupyter.viewOutput'>log</a> for further details."
     ]
    }
   ],
   "source": [
    "print('welcome to my quiz :)')\n",
    "playing = input('do you want to play? ')\n",
    "\n",
    "if playing.lower() != \"yes\":\n",
    "    quit()\n",
    "    \n",
    "print(\"okay! let's play:)\")\n",
    "score = 0\n",
    "\n",
    "answer = input(\"What command is used to include other functions that are developed? \")\n",
    "if answer.lower() == \"import\":\n",
    "    print(\"yes, import is correct!\")\n",
    "    score += 1\n",
    "else:\n",
    "    print(\"sorry, import was actually the correct answer.\")\n",
    "    \n",
    "answer = input('What command in this example is used to evaluate a response? ')\n",
    "if answer.lower() == \"if\":\n",
    "    print('yes, if is correct!')\n",
    "    score += 1\n",
    "else:\n",
    "    print('nope, if was the right answer.')\n",
    "\n",
    "answer = input('Each if command contains an _______ to determine a true or false condition? ')\n",
    "if answer.lower() == \"expression\":\n",
    "    print('yay! you are super smart, expression is correct')\n",
    "    score += 1\n",
    "else:\n",
    "    print(\"that is awkward... expression was the correct answer\")\n",
    "\n",
    "answer = input('This question is worth 2 points, is Kaylee going to get a 3/3 on this assignment? ')\n",
    "if answer.lower() == \"yes\":\n",
    "    print(\"YES WE WILL\")\n",
    "    score +=2\n",
    "else: \n",
    "    print('oh ye of little faith...')\n",
    "    \n",
    "print(\"yippee you got \" + str(score) + \" questions correct!\")\n",
    "print(\"you got \" +str((score / 5) *100) + \"%.\")"
   ]
  }
 ],
 "metadata": {
  "kernelspec": {
   "display_name": "Python 3.8.10 64-bit",
   "language": "python",
   "name": "python3"
  },
  "language_info": {
   "codemirror_mode": {
    "name": "ipython",
    "version": 3
   },
   "file_extension": ".py",
   "mimetype": "text/x-python",
   "name": "python",
   "nbconvert_exporter": "python",
   "pygments_lexer": "ipython3",
   "version": "3.8.10"
  },
  "varInspector": {
   "cols": {
    "lenName": 16,
    "lenType": 16,
    "lenVar": 40
   },
   "kernels_config": {
    "python": {
     "delete_cmd_postfix": "",
     "delete_cmd_prefix": "del ",
     "library": "var_list.py",
     "varRefreshCmd": "print(var_dic_list())"
    },
    "r": {
     "delete_cmd_postfix": ") ",
     "delete_cmd_prefix": "rm(",
     "library": "var_list.r",
     "varRefreshCmd": "cat(var_dic_list()) "
    }
   },
   "types_to_exclude": [
    "module",
    "function",
    "builtin_function_or_method",
    "instance",
    "_Feature"
   ],
   "window_display": false
  },
  "vscode": {
   "interpreter": {
    "hash": "916dbcbb3f70747c44a77c7bcd40155683ae19c65e1c03b4aa3499c5328201f1"
   }
  }
 },
 "nbformat": 4,
 "nbformat_minor": 4
}
