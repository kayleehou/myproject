{
 "cells": [
  {
   "cell_type": "markdown",
   "metadata": {},
   "source": [
    "# Unit 3 Sections 14-15 Hacks  \n",
    "\n",
    "- toc: true \n",
    "- categories: [Student Teaching]\n",
    "- badges: true\n",
    "- comments: true"
   ]
  },
  {
   "cell_type": "markdown",
   "metadata": {},
   "source": [
    "# 1. Reflection\n",
    "- I learned about documentation, libraries, and APIs. Documentation is a part of the AP Exam project part and it requires explaining what and how your code works. Libraries help make your coding experience more efficient because they are pre-written and you can reference them throughout your code. I researched one library that utilizes Python: numPy, which works with arrays."
   ]
  },
  {
   "cell_type": "code",
   "execution_count": 1,
   "metadata": {},
   "outputs": [
    {
     "name": "stdout",
     "output_type": "stream",
     "text": [
      "[1 2 3 4 5]\n",
      "<class 'numpy.ndarray'>\n"
     ]
    }
   ],
   "source": [
    "# here is an example of it being utilized \n",
    "import numpy as np\n",
    "\n",
    "arr = np.array([1, 2, 3, 4, 5])\n",
    "\n",
    "print(arr)\n",
    "\n",
    "print(type(arr))"
   ]
  },
  {
   "cell_type": "code",
   "execution_count": 2,
   "metadata": {},
   "outputs": [
    {
     "name": "stdout",
     "output_type": "stream",
     "text": [
      "0\n",
      "1\n",
      "2\n",
      "3\n"
     ]
    }
   ],
   "source": [
    "# here is another example that shows how it can be efficient, for example, if we needed\n",
    "# to calculate how many axes there were in a huge list, we wouldn't need to count. \n",
    "import numpy as np\n",
    "\n",
    "a = np.array(42)\n",
    "b = np.array([1, 2, 3, 4, 5])\n",
    "c = np.array([[1, 2, 3], [4, 5, 6]])\n",
    "d = np.array([[[1, 2, 3], [4, 5, 6]], [[1, 2, 3], [4, 5, 6]]])\n",
    "\n",
    "# dimensions are called axes in numpy \n",
    "print(a.ndim) # there are no axes in a, there are no [] \n",
    "print(b.ndim) # there is one axes, there is one []\n",
    "print(c.ndim) # there are two axes \n",
    "print(d.ndim) # there would only be 3 axes in this instance because one axes is repeated twice [1,2,3]"
   ]
  },
  {
   "cell_type": "markdown",
   "metadata": {},
   "source": [
    "- Finally, APIs are a type of software that allows computers to communicate with each other. We utilized APIs before last trimester, we used RapidAPI. \n",
    "- I also learned about the random function, which generates and returns a random integer from the parameters given, inclusive. Each integer in the range has an equal chance of occurring. We can also use random libraries like random.choice and random.shuffle\n",
    "- randrange can be written like randrange(start, stop, step) where start is the minimum value, stop is the maximum value (like the randint function), and step is the incriment the values can be"
   ]
  },
  {
   "cell_type": "markdown",
   "metadata": {},
   "source": [
    "# 2. Multiple Choice \n",
    "\n",
    "1. What does the random(a,b) function generate?\n",
    "\n",
    "A. A random integer from a to be exclusive\n",
    "\n",
    "<mark> B. A random integer from a to b inclusive. </mark>\n",
    "\n",
    "- Explanation: because the random function mean a random integer from the parameters set will be chosen. Because a,b is the parameters, a random integer from a to b will be given, including a and b. \n",
    "\n",
    "C. A random word from variable a to variable b exclusive.\n",
    "\n",
    "D. A random word from variable a to variable b inclusive.\n",
    "\n",
    "2. What is x, y, and z in random.randrange(x, y, z)?\n",
    "\n",
    "<mark>A. x = start, y = stop, z = step </mark>\n",
    "\n",
    "- the randrange function has the parameters so that the the start, x is the minimum value. Y is the stop and maximum value, and z is the step, or the increment the values can be. \n",
    "\n",
    "B. x = start, y = step, z = stop\n",
    "\n",
    "C. x = stop, y = start, z = step\n",
    "\n",
    "D. x = step, y = start, z = stop\n",
    "\n",
    "3. Which of the following is NOT part of the random library?\n",
    "\n",
    "<mark>A. random.item</mark>\n",
    "\n",
    "- the item() function is used in dictionaries to find an item in the dictionary, it does not have any parameters and therefore is not a part of the random library. You can use this function without the import random funcion. \n",
    "\n",
    "B. random.random\n",
    "\n",
    "C. random.shuffle\n",
    "\n",
    "D. random.randint"
   ]
  },
  {
   "cell_type": "code",
   "execution_count": 4,
   "metadata": {},
   "outputs": [
    {
     "name": "stdout",
     "output_type": "stream",
     "text": [
      "dict_items([('brand', 'Ford'), ('model', 'Mustang'), ('year', 2018)])\n"
     ]
    }
   ],
   "source": [
    "# random.item function \n",
    "random = {\n",
    "  \"brand\": \"Ford\",\n",
    "  \"model\": \"Mustang\",\n",
    "  \"year\": 1964\n",
    "}\n",
    "\n",
    "x = random.items()\n",
    "\n",
    "random[\"year\"] = 2018\n",
    "\n",
    "print(x)"
   ]
  },
  {
   "cell_type": "markdown",
   "metadata": {},
   "source": [
    "# Short Answer Questions \n",
    "\n",
    "1. What is the advantage of using libraries?\n",
    "- Using libraries is advantageous because it is more efficient and can reduce coding errors. You have reusable functions that can be used throughout the code without re-defining them, so you don't need to write code for complex functions. \n",
    "\n",
    "2. Write a thorough documentation of the following code.\n",
    "- Using the random library, based on the names inputted by the user, the procedure will randomly pick a name from the list of names given and return it. "
   ]
  },
  {
   "cell_type": "code",
   "execution_count": 6,
   "metadata": {},
   "outputs": [
    {
     "name": "stdout",
     "output_type": "stream",
     "text": [
      "bob is going to buy the meal today!\n"
     ]
    }
   ],
   "source": [
    "import random \n",
    "\n",
    "names_string = input(\"Give me everybody's names, separated by a comma.\")\n",
    "names = names_string.split(\",\")\n",
    "\n",
    "num_items = len(names)\n",
    "\n",
    "random_choice = random.randint(0, num_items - 1)\n",
    "\n",
    "person_who_will_pay = names[random_choice]\n",
    "\n",
    "print(f\"{person_who_will_pay} is going to buy the meal today!\")"
   ]
  },
  {
   "cell_type": "markdown",
   "metadata": {},
   "source": [
    "# 4 Coding Challenge \n",
    "1. Create a program to pick five random names from a list of at least 15 names"
   ]
  },
  {
   "cell_type": "code",
   "execution_count": 31,
   "metadata": {},
   "outputs": [
    {
     "name": "stdout",
     "output_type": "stream",
     "text": [
      "you got these random names: ['Galpin', 'Galpin', 'Enid', 'Galpin', 'Tyler']!\n"
     ]
    }
   ],
   "source": [
    "import random \n",
    "\n",
    "namesList = [\"Enid\", \"Tyler\", \"Gomez\", \"Wednesday\", \"Morticia\", \"Thornhill\", \"Weems\", \"Pugsley\", \"Thing\", \"Lurch\", \"Fester\", \"Xavier\", \"Bianca\", \"Kinbott\", \"Galpin\"]\n",
    "\n",
    "sample_namesList = random.choices(namesList, k=5) # here, k = number of items to select\n",
    "print(f\"you got these 5 random names: {sample_namesList}!\")\n"
   ]
  },
  {
   "cell_type": "markdown",
   "metadata": {},
   "source": [
    "2. Create a program to simulate a dice game where each player rolls two fair dice (6 sides); the player with the greater sum wins"
   ]
  },
  {
   "cell_type": "code",
   "execution_count": 22,
   "metadata": {},
   "outputs": [
    {
     "name": "stdout",
     "output_type": "stream",
     "text": [
      "Player 1 rolled a sum of: 6\n",
      "Player 2 rolled a sum of: 9\n",
      "Player 2 wins!\n"
     ]
    }
   ],
   "source": [
    "import random \n",
    "\n",
    "dice1 = random.randint(1,12)\n",
    "print(\"Player 1 rolled a sum of:\", dice1)\n",
    "\n",
    "dice2 = random.randint(1,12)\n",
    "print(\"Player 2 rolled a sum of:\", dice2)\n",
    "\n",
    "if dice1 > dice2:\n",
    "    print(\"Player 1 wins!\")\n",
    "elif dice1 == dice2:\n",
    "    print(\"Roll again! You both rolled the same sum.\")\n",
    "else: \n",
    "    print(\"Player 2 wins!\")"
   ]
  }
 ],
 "metadata": {
  "kernelspec": {
   "display_name": "Python 3.9.12 ('base')",
   "language": "python",
   "name": "python3"
  },
  "language_info": {
   "codemirror_mode": {
    "name": "ipython",
    "version": 3
   },
   "file_extension": ".py",
   "mimetype": "text/x-python",
   "name": "python",
   "nbconvert_exporter": "python",
   "pygments_lexer": "ipython3",
   "version": "3.9.12"
  },
  "orig_nbformat": 4,
  "vscode": {
   "interpreter": {
    "hash": "d1e630f086fdc2c4485cd3472dbc38e15291e251b78da1fca784a44d4839495c"
   }
  }
 },
 "nbformat": 4,
 "nbformat_minor": 2
}
