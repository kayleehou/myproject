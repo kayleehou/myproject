{
 "cells": [
  {
   "cell_type": "markdown",
   "metadata": {},
   "source": [
    "# Unit 3 Sections 14-15 Hacks  \n",
    "\n",
    "- toc: true \n",
    "- categories: [Student Teaching]\n",
    "- badges: true\n",
    "- comments: true"
   ]
  },
  {
   "cell_type": "markdown",
   "metadata": {},
   "source": [
    "# 1. Reflection\n",
    "- I learned about documentation, libraries, and APIs. Documentation is a part of the AP Exam project part and it requires explaining what and how your code works. Libraries help make your coding experience more efficient because they are pre-written and you can reference them throughout your code. I researched one library that utilizes Python: numPy, which works with arrays."
   ]
  },
  {
   "cell_type": "code",
   "execution_count": 1,
   "metadata": {},
   "outputs": [
    {
     "name": "stdout",
     "output_type": "stream",
     "text": [
      "[1 2 3 4 5]\n",
      "<class 'numpy.ndarray'>\n"
     ]
    }
   ],
   "source": [
    "# here is an example of it being utilized \n",
    "import numpy as np\n",
    "\n",
    "arr = np.array([1, 2, 3, 4, 5])\n",
    "\n",
    "print(arr)\n",
    "\n",
    "print(type(arr))"
   ]
  },
  {
   "cell_type": "code",
   "execution_count": 2,
   "metadata": {},
   "outputs": [
    {
     "name": "stdout",
     "output_type": "stream",
     "text": [
      "0\n",
      "1\n",
      "2\n",
      "3\n"
     ]
    }
   ],
   "source": [
    "# here is another example that shows how it can be efficient, for example, if we needed\n",
    "# to calculate how many axes there were in a huge list, we wouldn't need to count. \n",
    "import numpy as np\n",
    "\n",
    "a = np.array(42)\n",
    "b = np.array([1, 2, 3, 4, 5])\n",
    "c = np.array([[1, 2, 3], [4, 5, 6]])\n",
    "d = np.array([[[1, 2, 3], [4, 5, 6]], [[1, 2, 3], [4, 5, 6]]])\n",
    "\n",
    "# dimensions are called axes in numpy \n",
    "print(a.ndim) # there are no axes in a, there are no [] \n",
    "print(b.ndim) # there is one axes, there is one []\n",
    "print(c.ndim) # there are two axes \n",
    "print(d.ndim) # there would only be 3 axes in this instance because one axes is repeated twice [1,2,3]"
   ]
  },
  {
   "cell_type": "markdown",
   "metadata": {},
   "source": [
    "- Finally, APIs are a type of software that allows computers to communicate with each other. We utilized APIs before last trimester, we used RapidAPI. \n",
    "- I also learned about the random function, which generates and returns a random integer from the parameters given, inclusive. Each integer in the range has an equal chance of occurring. We can also use random libraries like random.choice and random.shuffle\n",
    "- randrange can be written like randrange(start, stop, step) where start is the minimum value, stop is the maximum value (like the randint function), and step is the incriment the values can be"
   ]
  },
  {
   "cell_type": "markdown",
   "metadata": {},
   "source": [
    "# 2. Multiple Choice \n",
    "\n",
    "1. What does the random(a,b) function generate?\n",
    "\n",
    "A. A random integer from a to be exclusive\n",
    "\n",
    "<mark> B. A random integer from a to b inclusive. </mark>\n",
    "\n",
    "- Explanation: because the random function mean a random integer from the parameters set will be chosen. Because a,b is the parameters, a random integer from a to b will be given, including a and b. \n",
    "\n",
    "C. A random word from variable a to variable b exclusive.\n",
    "\n",
    "D. A random word from variable a to variable b inclusive.\n",
    "\n",
    "2. What is x, y, and z in random.randrange(x, y, z)?\n",
    "\n",
    "<mark>A. x = start, y = stop, z = step </mark>\n",
    "\n",
    "- the randrange function has the parameters so that the the start, x is the minimum value. Y is the stop and maximum value, and z is the step, or the increment the values can be. \n",
    "\n",
    "B. x = start, y = step, z = stop\n",
    "\n",
    "C. x = stop, y = start, z = step\n",
    "\n",
    "D. x = step, y = start, z = stop\n",
    "\n",
    "3. Which of the following is NOT part of the random library?\n",
    "\n",
    "<mark>A. random.item</mark>\n",
    "\n",
    "- the item() function is used in dictionaries to find an item in the dictionary, it does not have any parameters and therefore is not a part of the random library. You can use this function without the import random funcion. \n",
    "\n",
    "B. random.random\n",
    "\n",
    "C. random.shuffle\n",
    "\n",
    "D. random.randint"
   ]
  },
  {
   "cell_type": "code",
   "execution_count": 4,
   "metadata": {},
   "outputs": [
    {
     "name": "stdout",
     "output_type": "stream",
     "text": [
      "dict_items([('brand', 'Ford'), ('model', 'Mustang'), ('year', 2018)])\n"
     ]
    }
   ],
   "source": [
    "# random.item function \n",
    "random = {\n",
    "  \"brand\": \"Ford\",\n",
    "  \"model\": \"Mustang\",\n",
    "  \"year\": 1964\n",
    "}\n",
    "\n",
    "x = random.items()\n",
    "\n",
    "random[\"year\"] = 2018\n",
    "\n",
    "print(x)"
   ]
  },
  {
   "cell_type": "markdown",
   "metadata": {},
   "source": [
    "# Short Answer Questions \n",
    "\n",
    "1.What is the advantage of using libraries?\n",
    "- Using libraries is advantageous because it is more efficient and can reduce coding errors. You have reusable functions that can be used throughout the code without re-defining them, so you don't need to write code for complex functions. \n",
    "\n",
    "2.Write a thorough documentation of the following code."
   ]
  },
  {
   "cell_type": "code",
   "execution_count": 6,
   "metadata": {},
   "outputs": [
    {
     "name": "stdout",
     "output_type": "stream",
     "text": [
      "bob is going to buy the meal today!\n"
     ]
    }
   ],
   "source": [
    "import random \n",
    "\n",
    "names_string = input(\"Give me everybody's names, separated by a comma.\")\n",
    "names = names_string.split(\",\")\n",
    "\n",
    "num_items = len(names)\n",
    "\n",
    "random_choice = random.randint(0, num_items - 1)\n",
    "\n",
    "person_who_will_pay = names[random_choice]\n",
    "\n",
    "print(f\"{person_who_will_pay} is going to buy the meal today!\")"
   ]
  },
  {
   "cell_type": "markdown",
   "metadata": {},
   "source": [
    "Documentation: Using the library random, I set the variable names_string equal to the the names the user inputs. the split function will separate the names with a comma. num_items will give each name given a number and using the random function randint, it randomly select a number that corresponds to a name. Finally, the procedure returns the name and the sentence. "
   ]
  },
  {
   "cell_type": "markdown",
   "metadata": {},
   "source": [
    "# 4 Coding Challenge \n",
    "1. Create a program to pick five random names from a list of at least 15 names"
   ]
  },
  {
   "cell_type": "code",
   "execution_count": 84,
   "metadata": {},
   "outputs": [
    {
     "name": "stdout",
     "output_type": "stream",
     "text": [
      "you got these 5 random names: ['Fester', 'Wednesday', 'Gomez', 'Morticia', 'Galpin']!\n"
     ]
    }
   ],
   "source": [
    "import random \n",
    "\n",
    "namesList = [\"Enid\", \"Tyler\", \"Gomez\", \"Wednesday\", \"Morticia\", \"Thornhill\", \"Weems\", \"Pugsley\", \"Thing\", \"Lurch\", \"Fester\", \"Xavier\", \"Bianca\", \"Kinbott\", \"Galpin\"]\n",
    "\n",
    "sample_namesList = random.sample(namesList, k=5) # here, k = number of items to select\n",
    "print(f\"you got these 5 random names: {sample_namesList}!\")\n"
   ]
  },
  {
   "cell_type": "markdown",
   "metadata": {},
   "source": [
    "First I created a list that had all the names I wanted to use, I chose to use characters from the show Wednesday. Then I set a variable equal to a function that would pick 5 different random names. I used the random library function choices and set k equal to 5 which would choose 5 options from the list. Finally, I printed the list. The random.sample function allows me to get 5 unique names. "
   ]
  },
  {
   "cell_type": "markdown",
   "metadata": {},
   "source": [
    "2. Create a program to simulate a dice game where each player rolls two fair dice (6 sides); the player with the greater sum wins"
   ]
  },
  {
   "cell_type": "code",
   "execution_count": 85,
   "metadata": {},
   "outputs": [
    {
     "name": "stdout",
     "output_type": "stream",
     "text": [
      "Player 1 rolled a 3 and 2 for a sum of: 5\n",
      "Player 2 rolled a 5 and 4 for a sum of: 9\n",
      "Yay! Player 2 wins!\n"
     ]
    }
   ],
   "source": [
    "import random \n",
    "\n",
    "p1dice1 = random.randrange(1,6)\n",
    "p1dice2 = random.randrange(1,6)\n",
    "print(\"Player 1 rolled a\", p1dice1, \"and\", p1dice2, \"for a sum of:\", p1dice1+p1dice2)\n",
    "\n",
    "p2dice1 = random.randrange(1,6)\n",
    "p2dice2 = random.randrange(1,6)\n",
    "print(\"Player 2 rolled a\", p2dice1, \"and\", p2dice2, \"for a sum of:\", p2dice1+p2dice2)\n",
    "\n",
    "p1sum = p1dice1 + p1dice2\n",
    "p2sum = p2dice1 + p2dice2\n",
    "\n",
    "if p1sum > p2sum:\n",
    "    print(\"Player 1 wins!\")\n",
    "elif p1sum == p2sum:\n",
    "    print(\"Roll again! You both rolled the same sum.\")\n",
    "else: \n",
    "    print(\"Yay! Player 2 wins!\")"
   ]
  },
  {
   "cell_type": "markdown",
   "metadata": {},
   "source": [
    "Code Explanation:\n",
    "\n",
    "I used the random library, then I set variables equal to a random number 1-6, which would mimic rolling the dice. I named the variables based on who rolled and what number they rolled it. Then I added the numbers together, whichever player had the higher sum wins. "
   ]
  },
  {
   "cell_type": "markdown",
   "metadata": {},
   "source": [
    "# Extra Credit Attempt\n",
    "\n",
    "1. Initial direction of the robot (up, down, left, right)\n",
    "2. Initial Position of the robot\n",
    "3. Goal position\n",
    "4. Positions of at least 12 wall/obstacle squares"
   ]
  },
  {
   "cell_type": "code",
   "execution_count": 83,
   "metadata": {},
   "outputs": [
    {
     "name": "stdout",
     "output_type": "stream",
     "text": [
      "Initial direction of the robot: ['up']\n",
      "the robot starts on square number 5\n",
      "goal position at square number 10\n",
      "obstacles are on these numbers:[22, 18, 15, 13, 9, 5, 23, 14, 6, 2, 12, 8]\n"
     ]
    }
   ],
   "source": [
    "#i couldn't figure out how to get have unique numbers \n",
    "import random \n",
    "\n",
    "directions = [\"up\", \"down\", \"left\", \"right\"]\n",
    "sample_directions = random.choices(directions)\n",
    "print(f\"Initial direction of the robot: {sample_directions}\")\n",
    "\n",
    "print(f\"the robot starts on square number {random.randrange(1,25)}\")\n",
    "\n",
    "print(f\"goal position at square number {random.randrange(1,25)}\")\n",
    "\n",
    "squareNumbers = [1,2,3,4,5,6,7,8,9,10,11,12,13,14,15,16,17,18,19,20,21,22,23,24,25]\n",
    "\n",
    "sample_namesList = random.sample(squareNumbers, k=12) \n",
    "print(f\"obstacles are on these numbers:{sample_namesList}\")"
   ]
  },
  {
   "cell_type": "markdown",
   "metadata": {},
   "source": [
    "![](https://github.com/kayleehou/myproject/blob/master/images/gridcode.PNG?raw=true)\n",
    "\n",
    "I tried but I couldn't figure out how to get the numbers to not overlap every time it's run. \n"
   ]
  }
 ],
 "metadata": {
  "kernelspec": {
   "display_name": "Python 3.9.12 ('base')",
   "language": "python",
   "name": "python3"
  },
  "language_info": {
   "codemirror_mode": {
    "name": "ipython",
    "version": 3
   },
   "file_extension": ".py",
   "mimetype": "text/x-python",
   "name": "python",
   "nbconvert_exporter": "python",
   "pygments_lexer": "ipython3",
   "version": "3.9.12 (main, Apr  5 2022, 06:56:58) \n[GCC 7.5.0]"
  },
  "orig_nbformat": 4,
  "vscode": {
   "interpreter": {
    "hash": "d1e630f086fdc2c4485cd3472dbc38e15291e251b78da1fca784a44d4839495c"
   }
  }
 },
 "nbformat": 4,
 "nbformat_minor": 2
}
