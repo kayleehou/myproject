{
 "cells": [
  {
   "cell_type": "markdown",
   "metadata": {},
   "source": [
    "# MCU Search Bar Test Code \n",
    "- title: Tri 1 Final Test Code\n",
    "- tags: [python]"
   ]
  },
  {
   "cell_type": "code",
   "execution_count": 27,
   "metadata": {},
   "outputs": [
    {
     "name": "stdout",
     "output_type": "stream",
     "text": [
      "Hello, welcome to our database, what MCU comic would you like to search for?\n",
      "h i there\n"
     ]
    }
   ],
   "source": [
    "\n",
    "# RapidAPI page https://rapidapi.com/gorlavasudeva/api/mcu-comics-and-characters/\n",
    "\n",
    "# Begin Rapid API Code\n",
    "import requests\n",
    "\n",
    "url = \"https://mcu-comics-and-characters.p.rapidapi.com/mcu/comics\"\n",
    "\n",
    "headers = {\n",
    "\t\"X-RapidAPI-Key\": \"40507ace9fmshcdcac9ccdd404c3p1d6853jsn21cc92ac2d5e\",\n",
    "\t\"X-RapidAPI-Host\": \"mcu-comics-and-characters.p.rapidapi.com\"\n",
    "}\n",
    "\n",
    "response = requests.request(\"GET\", url, headers=headers)\n",
    "\n",
    "print(\"Hello, welcome to our database, what MCU comic would you like to search for?\")\n",
    "\n",
    "myUserInput = input().lower() # doesn't matter whether or not user input is capitalized or not \n",
    "# myUserInput = \"Agents of S.H.I.E.L.D.: The Chase\" #set default variable\n",
    "myCounter = 0\n",
    "\n",
    "import re # importing regex \n",
    "def convert_into_uppercase(a): # capitalizes first letter of each word \n",
    "    return a.group(1) + a.group(2).upper()\n",
    "s = myUserInput\n",
    "result = re.sub(\"(^|\\s)(\\S)\", convert_into_uppercase, s)\n",
    "mySearchResult = \"You searched for: '\" + str(result) + \"'\\n\"+ \"\\t\" + \"Learn more at this link: \"\n",
    "\n",
    "movies = response.json()\n",
    "\n",
    "movies.pop(0)\n",
    "\n",
    "r = myUserInput\n",
    "r1 = r.replace(\".\", \"\")\n",
    "r2 = r1.replace(\"-\", \"\")\n",
    "r3 = r2.replace(\":\", \"\")\n",
    "r4 = r3.replace(\"!\", \"\")\n",
    "r5 = r4.replace(\"  \", \" \")\n",
    "\n",
    "print(r5)\n",
    "       \n",
    "# for movie in movies: #loop through my menu\n",
    "#     # print(movie[\"title\"])\n",
    "#     # print(movie[\"link\"])\n",
    "#     myLowercase = movie[\"title\"].lower()\n",
    "#     if r4 == myLowercase: \n",
    "#       #if the user input matches item in list, regardless of capitalization or punctuation\n",
    "#         print(mySearchResult + movie[\"link\"]) #then prints the key and value \n",
    "#         break #stop looping when you get result \n",
    "#     else:\n",
    "#        myCounter += 1 #increase through list by increment of 1 \n",
    "#        if myCounter == 70: # if loop 70 times, it means we don't have the item in the api\n",
    "#        \tprint(\"Sorry, we don't have '\" + str(myUserInput) + \"' in our database :(. Try searching a different comic!\") # print error if message isn't in list "
   ]
  },
  {
   "cell_type": "code",
   "execution_count": 71,
   "metadata": {},
   "outputs": [
    {
     "name": "stdout",
     "output_type": "stream",
     "text": [
      "70\n"
     ]
    }
   ],
   "source": [
    "import requests\n",
    "\n",
    "url = \"https://mcu-comics-and-characters.p.rapidapi.com/mcu/comics\"\n",
    "\n",
    "headers = {\n",
    "\t\"X-RapidAPI-Key\": \"40507ace9fmshcdcac9ccdd404c3p1d6853jsn21cc92ac2d5e\",\n",
    "\t\"X-RapidAPI-Host\": \"mcu-comics-and-characters.p.rapidapi.com\"\n",
    "}\n",
    "\n",
    "response = requests.request(\"GET\", url, headers=headers)\n",
    "\n",
    "movies = response.json()\n",
    "\n",
    "movies.pop(0)\n",
    "\n",
    "numberOfElements = len(movies)\n",
    "\n",
    "print(numberOfElements)"
   ]
  },
  {
   "cell_type": "code",
   "execution_count": 2,
   "metadata": {},
   "outputs": [
    {
     "name": "stdout",
     "output_type": "stream",
     "text": [
      "antman prelude\n"
     ]
    }
   ],
   "source": [
    "punc = '''!()-[]{};:'\"\\,<>./?@#$%^&*_~'''\n",
    "\n",
    "my_str = input()\n",
    "no_punct = \"\"\n",
    "for char in my_str:\n",
    "   if char not in punc:\n",
    "       no_punct = no_punct + char\n",
    "       \n",
    "print(no_punct)"
   ]
  },
  {
   "cell_type": "code",
   "execution_count": 26,
   "metadata": {},
   "outputs": [
    {
     "name": "stdout",
     "output_type": "stream",
     "text": [
      "AI\n"
     ]
    }
   ],
   "source": [
    "# s=\"A.I.\"\n",
    "# s1=s.replace(\".\",\"\")\n",
    "# print (s1)"
   ]
  },
  {
   "cell_type": "code",
   "execution_count": 4,
   "metadata": {},
   "outputs": [
    {
     "name": "stdout",
     "output_type": "stream",
     "text": [
      "Hello, welcome to our database, what MCU comic would you like to search for?\n",
      "You searched for: 'Ant-man Prelude'\n",
      "\tLearn more at this link: https://marvelcinematicuniverse.fandom.com/wiki/Ant-Man_Prelude\n"
     ]
    }
   ],
   "source": [
    "\n",
    "# RapidAPI page https://rapidapi.com/gorlavasudeva/api/mcu-comics-and-characters/\n",
    "\n",
    "# Begin Rapid API Code\n",
    "import requests\n",
    "\n",
    "url = \"https://mcu-comics-and-characters.p.rapidapi.com/mcu/comics\"\n",
    "\n",
    "headers = {\n",
    "\t\"X-RapidAPI-Key\": \"40507ace9fmshcdcac9ccdd404c3p1d6853jsn21cc92ac2d5e\",\n",
    "\t\"X-RapidAPI-Host\": \"mcu-comics-and-characters.p.rapidapi.com\"\n",
    "}\n",
    "\n",
    "response = requests.request(\"GET\", url, headers=headers)\n",
    "\n",
    "print(\"Hello, welcome to our database, what MCU comic would you like to search for?\")\n",
    "\n",
    "myUserInput = input().lower() # doesn't matter whether or not user input is capitalized or not \n",
    "# myUserInput = \"Agents of S.H.I.E.L.D.: The Chase\" #set default variable\n",
    "myCounter = 0\n",
    "\n",
    "import re # importing regex \n",
    "def convert_into_uppercase(a): # capitalizes first letter of each word \n",
    "    return a.group(1) + a.group(2).upper()\n",
    "s = myUserInput\n",
    "result = re.sub(\"(^|\\s)(\\S)\", convert_into_uppercase, s)\n",
    "mySearchResult = \"You searched for: '\" + str(result) + \"'\\n\"+ \"\\t\" + \"Learn more at this link: \"\n",
    "\n",
    "movies = response.json()\n",
    "\n",
    "movies.pop(0)\n",
    "       \n",
    "for movie in movies: #loop through my menu\n",
    "    if movie[\"title\"].lower() == myUserInput:\n",
    "      #if the user input matches item in list, regardless of capitalization or punctuation\n",
    "        print(mySearchResult + movie[\"link\"]) #then prints the key and value \n",
    "        break #stop looping when you get result \n",
    "    else:\n",
    "       myCounter += 1 #increase through list by increment of 1 \n",
    "       if myCounter == 70: # if loop 70 times, it means we don't have the item in the api\n",
    "       \tprint(\"Sorry, we don't have '\" + str(myUserInput) + \"' in our database :(. Try searching a different comic!\") # print error if message isn't in list "
   ]
  },
  {
   "cell_type": "code",
   "execution_count": null,
   "metadata": {},
   "outputs": [],
   "source": [
    "\n",
    "# RapidAPI page https://rapidapi.com/gorlavasudeva/api/mcu-comics-and-characters/\n",
    "\n",
    "# Begin Rapid API Code\n",
    "import requests\n",
    "\n",
    "url = \"https://mcu-comics-and-characters.p.rapidapi.com/mcu/comics\"\n",
    "\n",
    "headers = {\n",
    "\t\"X-RapidAPI-Key\": \"40507ace9fmshcdcac9ccdd404c3p1d6853jsn21cc92ac2d5e\",\n",
    "\t\"X-RapidAPI-Host\": \"mcu-comics-and-characters.p.rapidapi.com\"\n",
    "}\n",
    "\n",
    "response = requests.request(\"GET\", url, headers=headers)\n",
    "\n",
    "print(\"Hello, welcome to our database, what MCU comic would you like to search for?\")\n",
    "\n",
    "myUserInput = input()# doesn't matter whether or not user input is capitalized or not \n",
    "# myUserInput = \"Agents of S.H.I.E.L.D.: The Chase\" #set default variable\n",
    "\n",
    "movies = response.json()\n",
    "\n",
    "movies.pop(0)\n",
    "       \n",
    "for movie in movies: #loop through my menu\n",
    "    if movie[\"title\"].lower() == myUserInput.lower():\n",
    "      #if the user input matches item in list, regardless of capitalization or punctuation\n",
    "        print(mySearchResult + movie[\"link\"]) #then prints the key and value \n",
    "        break #stop looping when you get result \n",
    "    else:\n",
    "       myCounter += 1 #increase through list by increment of 1 \n",
    "       if myCounter == 70: # if loop 70 times, it means we don't have the item in the api\n",
    "       \tprint(\"Sorry, we don't have '\" + str(myUserInput) + \"' in our database :(. Try searching a different comic!\") # print error if message isn't in list "
   ]
  }
 ],
 "metadata": {
  "kernelspec": {
   "display_name": "Python 3.9.12 ('base')",
   "language": "python",
   "name": "python3"
  },
  "language_info": {
   "codemirror_mode": {
    "name": "ipython",
    "version": 3
   },
   "file_extension": ".py",
   "mimetype": "text/x-python",
   "name": "python",
   "nbconvert_exporter": "python",
   "pygments_lexer": "ipython3",
   "version": "3.9.12"
  },
  "orig_nbformat": 4,
  "vscode": {
   "interpreter": {
    "hash": "d1e630f086fdc2c4485cd3472dbc38e15291e251b78da1fca784a44d4839495c"
   }
  }
 },
 "nbformat": 4,
 "nbformat_minor": 2
}
