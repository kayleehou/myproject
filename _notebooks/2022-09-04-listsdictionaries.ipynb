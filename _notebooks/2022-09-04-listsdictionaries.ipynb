{
 "cells": [
  {
   "cell_type": "markdown",
   "metadata": {},
   "source": [
    "# Python Tech Talk\n",
    "\n",
    "- title: Python Tech Talk\n",
    "- description: lists, dictionaries, for loop, for loop with index, while loop, recursion, reversed list\n",
    "- toc: true\n",
    "- image: /images/forloop_whileloop.jpeg\n",
    "- categories: [python]\n",
    "- comments: true "
   ]
  },
  {
   "cell_type": "markdown",
   "metadata": {},
   "source": [
    "## Lists and Dictionaries \n",
    "- ordered sequence of elements \n",
    "- lists can be modified unlike tuples which cannot be changed \n",
    "Purpose/Objective: can store multiple items in a single variable "
   ]
  },
  {
   "cell_type": "code",
   "execution_count": 1,
   "metadata": {},
   "outputs": [
    {
     "name": "stdout",
     "output_type": "stream",
     "text": [
      "What is the variable name/key? value? type? primitive or collection, why?\n",
      "name Kaylee Hou <class 'str'>\n",
      "\n",
      "What is the variable name/key? value? type? primitive or collection, why?\n",
      "age 16 <class 'int'>\n",
      "\n",
      "What is the variable name/key? value? type? primitive or collection, why?\n",
      "score 8.16 <class 'float'>\n",
      "\n",
      "What is variable name/key? value? type? primitive or collection?\n",
      "What is different about the list output?\n",
      "langs ['Python', 'JavaScript', 'Java', 'C', 'R', 'Bash', 'C++'] <class 'list'> length 7\n",
      "- langs[0] Python <class 'str'>\n",
      "\n",
      "What is the variable name/key? value? type? primitive or collection, why?\n",
      "What is different about the dictionary output?\n",
      "person {'name': 'Kaylee Hou', 'age': 16, 'score': 8.16, 'langs': ['Python', 'JavaScript', 'Java', 'C', 'R', 'Bash', 'C++']} <class 'dict'> length 4\n",
      "- person[\"name\"] Kaylee Hou <class 'str'>\n"
     ]
    }
   ],
   "source": [
    "# variable of type string\n",
    "print(\"What is the variable name/key?\", \"value?\", \"type?\", \"primitive or collection, why?\")\n",
    "name = \"Kaylee Hou\"\n",
    "print(\"name\", name, type(name))\n",
    "\n",
    "print()\n",
    "\n",
    "\n",
    "# variable of type integer\n",
    "print(\"What is the variable name/key?\", \"value?\", \"type?\", \"primitive or collection, why?\")\n",
    "age = 16\n",
    "print(\"age\", age, type(age))\n",
    "\n",
    "print()\n",
    "\n",
    "# variable of type float\n",
    "print(\"What is the variable name/key?\", \"value?\", \"type?\", \"primitive or collection, why?\")\n",
    "score = 8.16\n",
    "print(\"score\", score, type(score))\n",
    "\n",
    "print()\n",
    "\n",
    "# variable of type list (many values in one variable)\n",
    "print(\"What is variable name/key?\", \"value?\", \"type?\", \"primitive or collection?\")\n",
    "print(\"What is different about the list output?\")\n",
    "langs = [\"Python\", \"JavaScript\", \"Java\", \"C\", \"R\", \"Bash\", \"C++\"]\n",
    "print(\"langs\", langs, type(langs), \"length\", len(langs))\n",
    "print(\"- langs[0]\", langs[0], type(langs[0]))\n",
    "\n",
    "print()\n",
    "\n",
    "# variable of type dictionary (a group of keys and values)\n",
    "print(\"What is the variable name/key?\", \"value?\", \"type?\", \"primitive or collection, why?\")\n",
    "print(\"What is different about the dictionary output?\")\n",
    "person = {\n",
    "    \"name\": name,\n",
    "    \"age\": age,\n",
    "    \"score\": score,\n",
    "    \"langs\": langs\n",
    "}\n",
    "print(\"person\", person, type(person), \"length\", len(person))\n",
    "print('- person[\"name\"]', person[\"name\"], type(person[\"name\"]))"
   ]
  },
  {
   "cell_type": "markdown",
   "metadata": {},
   "source": [
    "## My InfoDb (List) with Data Abstraction and Data Definition\n",
    "- I asked one of my partners Trey for his info. \n",
    "- I added new keys \"Grade,\" \"Favorite Color,\" and \"Favorite Books\" and changed the values to data that accurately represent us. \n",
    "Purpose/Objective: I used a list so that I could more efficiently collect information because lists allow you to store multiple items in a single variable, I also wanted to easily update or delete these items, and lists make this easier. "
   ]
  },
  {
   "cell_type": "code",
   "execution_count": 2,
   "metadata": {},
   "outputs": [
    {
     "name": "stdout",
     "output_type": "stream",
     "text": [
      "[{'FirstName': 'Kaylee', 'LastName': 'Hou', 'Birthday': 'October 30', 'FavoriteColor': 'Purple', 'Grade': '12', 'FavoriteBooks': ['A Streetcar Named Desire', 'Beautiful World Where Are You', 'Pride and Prejudice']}, {'FirstName': 'Trey', 'LastName': 'Blalock', 'Birthday': 'August 19', 'FavoriteColor': 'Pink', 'Grade': '12', 'FavoriteBooks': ['The Great Gatsby', 'Forgive Me Leonard Peacock']}]\n"
     ]
    }
   ],
   "source": [
    "InfoDb = []\n",
    "\n",
    "InfoDb.append({\n",
    "    \"FirstName\": \"Kaylee\",\n",
    "    \"LastName\": \"Hou\",\n",
    "    \"Birthday\": \"October 30\",\n",
    "    \"FavoriteColor\": \"Purple\",\n",
    "    \"Grade\": \"12\",\n",
    "    \"FavoriteBooks\": [\"A Streetcar Named Desire\", \"Beautiful World Where Are You\", \"Pride and Prejudice\"]\n",
    "})\n",
    "\n",
    "# Append to List with key/values that involve my partner\n",
    "InfoDb.append({\n",
    "    \"FirstName\": \"Trey\",\n",
    "    \"LastName\": \"Blalock\",\n",
    "    \"Birthday\": \"August 19\",\n",
    "    \"FavoriteColor\": \"Pink\",\n",
    "    \"Grade\": \"12\",\n",
    "    \"FavoriteBooks\": [\"The Great Gatsby\", \"Forgive Me Leonard Peacock\"]\n",
    "})\n",
    "\n",
    "# Print the data structure\n",
    "print(InfoDb)"
   ]
  },
  {
   "cell_type": "markdown",
   "metadata": {},
   "source": [
    "# For Loop with Break Statement\n",
    "- Purpose: used for iterating over a sequence (list, dictionary, string), with the break statement, I can stop the loop before it goes through all the elements in my list\n",
    "- Objective: stop the loop before it loops through all the items \n"
   ]
  },
  {
   "cell_type": "code",
   "execution_count": 3,
   "metadata": {},
   "outputs": [
    {
     "name": "stdout",
     "output_type": "stream",
     "text": [
      "Trey\n",
      "Ben\n",
      "Shaurya\n"
     ]
    }
   ],
   "source": [
    "myList_group = [\"Trey\", \"Ben\", \"Shaurya\", \"Kaylee\", \"Nicolas\"]\n",
    "for x in myList_group:\n",
    "    if x == \"Kaylee\": # exit the loop when x is \"Kaylee\" so \"Nicolas\" and \"Kaylee\" won't be printed\n",
    "        break\n",
    "    print(x)"
   ]
  },
  {
   "cell_type": "markdown",
   "metadata": {},
   "source": [
    "## For loop with Index\n",
    "- I used specific syntax so that the data would be displayed in a more organized way, as before, it was all clustered together and difficult to find certain info quickly. \n",
    "- I learned that \"\\t\" allows you to indent! \n",
    "- I added a for loop inside a for loop--> nested loop \n",
    "- I used a range function which lets me print the data as many times as I want! Range function starts with 0 and increments by 1\n",
    "- iteration: repetition of process to generate sequence of outcomes\n",
    "Purpose/Objective: I wanted the data to be displayed in an easily readable way, for loops allow you to repeat a specific block of code as many times as you want so you don't have to retype the code over and over again. The objective is more efficiency when coding. "
   ]
  },
  {
   "cell_type": "code",
   "execution_count": 4,
   "metadata": {},
   "outputs": [
    {
     "name": "stdout",
     "output_type": "stream",
     "text": [
      "For loop output\n",
      "\n",
      "Kaylee Hou\n",
      "\t Birthday: October 30\n",
      "\t Favorite Color: Purple\n",
      "\t Grade: 12\n",
      "\t FavoriteBooks: A Streetcar Named Desire, Beautiful World Where Are You, Pride and Prejudice\n",
      "\n",
      "Kaylee Hou\n",
      "\t Birthday: October 30\n",
      "\t Favorite Color: Purple\n",
      "\t Grade: 12\n",
      "\t FavoriteBooks: A Streetcar Named Desire, Beautiful World Where Are You, Pride and Prejudice\n",
      "\n",
      "Trey Blalock\n",
      "\t Birthday: August 19\n",
      "\t Favorite Color: Pink\n",
      "\t Grade: 12\n",
      "\t FavoriteBooks: The Great Gatsby, Forgive Me Leonard Peacock\n",
      "\n",
      "Trey Blalock\n",
      "\t Birthday: August 19\n",
      "\t Favorite Color: Pink\n",
      "\t Grade: 12\n",
      "\t FavoriteBooks: The Great Gatsby, Forgive Me Leonard Peacock\n",
      "\n"
     ]
    }
   ],
   "source": [
    "def print_data(d_rec): # with the information from the dictionary\n",
    "    print(d_rec[\"FirstName\"], d_rec[\"LastName\"])  \n",
    "    print(\"\\t\", \"Birthday:\", d_rec[\"Birthday\"])\n",
    "    print(\"\\t\", \"Favorite Color:\", d_rec[\"FavoriteColor\"])\n",
    "    print(\"\\t\", \"Grade:\", d_rec[\"Grade\"])\n",
    "    print(\"\\t\", \"FavoriteBooks: \", end=\"\")  \n",
    "    print(\", \".join(d_rec[\"FavoriteBooks\"]))  \n",
    "    print()\n",
    "# data abstraction hides unnecessary info from the user \n",
    "\n",
    "# for loop iterates on length of InfoDb\n",
    "def for_loop():\n",
    "    print(\"For loop output\\n\")\n",
    "    for record in InfoDb:\n",
    "        for index in range(2): #whatever the number in range() is, it will print the output that many times\n",
    "            print_data(record)\n",
    "\n",
    "for_loop()"
   ]
  },
  {
   "cell_type": "markdown",
   "metadata": {},
   "source": [
    "## While Loop\n",
    "- will keep printing when the condition is true \n",
    "- Purpose/Objective: to run code a certain amount of times until the condition is met\n",
    "- purposely aborted code manually in the second example so it wouldn't run forever because I was adding by 0\n",
    "- a repeating selection statement- execute instructions based on which condition is true \n",
    "- iteration: repetition of process to generate sequence of outcomes"
   ]
  },
  {
   "cell_type": "code",
   "execution_count": 5,
   "metadata": {},
   "outputs": [
    {
     "name": "stdout",
     "output_type": "stream",
     "text": [
      "While loop output\n",
      "\n",
      "Kaylee Hou\n",
      "\t Birthday: October 30\n",
      "\t Favorite Color: Purple\n",
      "\t Grade: 12\n",
      "\t FavoriteBooks: A Streetcar Named Desire, Beautiful World Where Are You, Pride and Prejudice\n",
      "\n",
      "Trey Blalock\n",
      "\t Birthday: August 19\n",
      "\t Favorite Color: Pink\n",
      "\t Grade: 12\n",
      "\t FavoriteBooks: The Great Gatsby, Forgive Me Leonard Peacock\n",
      "\n"
     ]
    }
   ],
   "source": [
    "# while loop contains an initial n and an index incrementing statement (n += 1)\n",
    "def while_loop():\n",
    "    print(\"While loop output\\n\")\n",
    "    i = 0 # initialization of index starts with 0, which means it starts counting the loop when i is 0, 0 is the first index which is my data, 1 is the second, which is Trey's data\n",
    "    while i < len(InfoDb): # when my index i (0), which is the first one in the list, is less than the length of my list which is 2, \n",
    "        record = InfoDb[i] # then we set the variable record equal to the first element in my list, which is Kaylee's data\n",
    "        print_data(record) # then we print the variable record, which is the first element in my list (Kaylee).\n",
    "        i += 1 #this increases by 1 increment each loop, which means the index variable i will increase by 1 in each loop. \n",
    "    return # if while condition is always true, then the loop never ends. \n",
    "\n",
    "while_loop()"
   ]
  },
  {
   "cell_type": "markdown",
   "metadata": {},
   "source": [
    "## If I ran the cell block below, it would run forever! "
   ]
  },
  {
   "cell_type": "code",
   "execution_count": null,
   "metadata": {},
   "outputs": [],
   "source": [
    "# while loop contains an initial n and an index incrementing statement (n += 1)\n",
    "def while_loop():\n",
    "    print(\"While loop output\\n\")\n",
    "    i = 0 # initialization of index (sequence index) starts with 0, which means it starts counting the loop when i is 0, 0 is the first index which is my data, 1 is the second, which is Trey's data\n",
    "    while i < len(InfoDb): # when my index i (0), which is the first one in the list, is less than the length of my list which is 2, \n",
    "        record = InfoDb[i] # then we set the variable record equal to the first element in my list, which is Kaylee's data\n",
    "        print_data(record) # then we print the variable record, which is the first element in my list (Kaylee).\n",
    "        i += 0 #this increases by 0 increment each loop, which means the index variable i will increase by 0 in each loop. \n",
    "    return # if while condition is false it will end and return. Because 0 is always less than 2, the condition is never met so the loop never ends. \n",
    "# procedural abstraction extract shared features to generalize functionality instead of duplicating code. \n",
    "while_loop()"
   ]
  },
  {
   "cell_type": "markdown",
   "metadata": {},
   "source": [
    "## Recursion\n",
    "Purpose: solution for specific problem, efficient to write code but may not be as efficient to run the code \n",
    "- Recursion means a defined function can call on itself \n",
    "- a complicated function can be split into sub-problems using recursion"
   ]
  },
  {
   "cell_type": "code",
   "execution_count": 6,
   "metadata": {},
   "outputs": [
    {
     "name": "stdout",
     "output_type": "stream",
     "text": [
      "Recursive loop output\n",
      "\n",
      "Kaylee Hou\n",
      "\t Birthday: October 30\n",
      "\t Favorite Color: Purple\n",
      "\t Grade: 12\n",
      "\t FavoriteBooks: A Streetcar Named Desire, Beautiful World Where Are You, Pride and Prejudice\n",
      "\n",
      "Trey Blalock\n",
      "\t Birthday: August 19\n",
      "\t Favorite Color: Pink\n",
      "\t Grade: 12\n",
      "\t FavoriteBooks: The Great Gatsby, Forgive Me Leonard Peacock\n",
      "\n"
     ]
    }
   ],
   "source": [
    "# recursion simulates loop incrementing on each call (n + 1) until exit condition is met\n",
    "def recursive_loop(i): # define my user function which is called recursive_loop\n",
    "    if i < len(InfoDb):\n",
    "        record = InfoDb[i]\n",
    "        print_data(record)\n",
    "        recursive_loop(i + 1) # call on myself, which is recursive_loop\n",
    "    return\n",
    "    \n",
    "print(\"Recursive loop output\\n\")\n",
    "recursive_loop(0) "
   ]
  },
  {
   "cell_type": "markdown",
   "metadata": {},
   "source": [
    "## Output Data in Reversed Order\n",
    "- I tried two different way to reverse my list \n",
    "- the first way uses a for loop with an iterator used as index of the element in the list \n",
    "- in the second way, I used the reverse() function which is a python built in function\n",
    "Purpose/Objective: return my list in a reversed order"
   ]
  },
  {
   "cell_type": "code",
   "execution_count": 7,
   "metadata": {},
   "outputs": [
    {
     "name": "stdout",
     "output_type": "stream",
     "text": [
      "Pride and Prejudice\n",
      "Beautiful World Where Are You\n",
      "A Streetcar Named Desire\n"
     ]
    }
   ],
   "source": [
    "favorite_books = [\"A Streetcar Named Desire\", \"Beautiful World Where Are You\", \"Pride and Prejudice\"]\n",
    "for i in favorite_books[::-1]: # slicing the list so that it starts at -1 and goes backward til the first position\n",
    "    print(i)"
   ]
  },
  {
   "cell_type": "code",
   "execution_count": 8,
   "metadata": {},
   "outputs": [
    {
     "name": "stdout",
     "output_type": "stream",
     "text": [
      "reversed favorite books list:  ['Pride and Prejudice', 'Beautiful World Where Are You', 'A Streetcar Named Desire']\n"
     ]
    }
   ],
   "source": [
    "# my list of favorite books \n",
    "favorite_books = [\"A Streetcar Named Desire\", \"Beautiful World Where Are You\", \"Pride and Prejudice\"]\n",
    "#reverse the order of the list elements\n",
    "favorite_books.reverse()\n",
    "\n",
    "#print the reversed list\n",
    "print('reversed favorite books list: ', favorite_books)"
   ]
  }
 ],
 "metadata": {
  "kernelspec": {
   "display_name": "Python 3.8.10 64-bit",
   "language": "python",
   "name": "python3"
  },
  "language_info": {
   "codemirror_mode": {
    "name": "ipython",
    "version": 3
   },
   "file_extension": ".py",
   "mimetype": "text/x-python",
   "name": "python",
   "nbconvert_exporter": "python",
   "pygments_lexer": "ipython3",
   "version": "3.8.10"
  },
  "varInspector": {
   "cols": {
    "lenName": 16,
    "lenType": 16,
    "lenVar": 40
   },
   "kernels_config": {
    "python": {
     "delete_cmd_postfix": "",
     "delete_cmd_prefix": "del ",
     "library": "var_list.py",
     "varRefreshCmd": "print(var_dic_list())"
    },
    "r": {
     "delete_cmd_postfix": ") ",
     "delete_cmd_prefix": "rm(",
     "library": "var_list.r",
     "varRefreshCmd": "cat(var_dic_list()) "
    }
   },
   "types_to_exclude": [
    "module",
    "function",
    "builtin_function_or_method",
    "instance",
    "_Feature"
   ],
   "window_display": false
  },
  "vscode": {
   "interpreter": {
    "hash": "916dbcbb3f70747c44a77c7bcd40155683ae19c65e1c03b4aa3499c5328201f1"
   }
  }
 },
 "nbformat": 4,
 "nbformat_minor": 4
}
