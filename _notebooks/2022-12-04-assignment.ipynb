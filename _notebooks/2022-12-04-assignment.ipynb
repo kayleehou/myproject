{
 "cells": [
  {
   "cell_type": "markdown",
   "metadata": {},
   "source": [
    "# Unit 3 Sections 5-7 Hacks\n",
    "> Hacks\n",
    "\n",
    "- toc: true\n",
    "- badges: true\n",
    "- comments: true\n",
    "- categories: [Student Teaching]"
   ]
  },
  {
   "cell_type": "markdown",
   "metadata": {},
   "source": [
    "For hacks, <mark>make a copy of this notebook and answer the questions or complete the code</mark>, as described in comments. Additionally, <mark>blog about any missed questions</mark>, or what you learned from this lesson."
   ]
  },
  {
   "cell_type": "markdown",
   "metadata": {},
   "source": [
    "# 3.5 Hacks\n",
    "\n",
    "## Binary Practice\n",
    "Using psuedocode operators determine if the statements are true or false. The number type will be indicated in parentheses.\n",
    "\n",
    "**1. 90(D) = 1000(B)**\n",
    "\n",
    "- A. True\n",
    "- B. False (answer)\n",
    "\n",
    "**2. 10(D) ≠ 0110(B)**\n",
    "\n",
    "- A. True (answer)\n",
    "- B. False\n",
    "\n",
    "**3. 56(D) ≥ 111000(B)**\n",
    "\n",
    "- A. True (answer)\n",
    "- B. False\n",
    "\n",
    "**3. 99(D) < 1110011(B)**\n",
    "\n",
    "- A. True (answer)\n",
    "- B. False"
   ]
  },
  {
   "cell_type": "markdown",
   "metadata": {},
   "source": [
    "Now, complete the binary truth tables"
   ]
  },
  {
   "cell_type": "markdown",
   "metadata": {},
   "source": [
    "<html>\n",
    "<style>\n",
    "    table, th, td { \n",
    "        border:2px solid white;\n",
    "    }\n",
    "</style>\n",
    "    <div>AND Operator</div>\n",
    "    <div>\n",
    "        <table>\n",
    "            <tr>\n",
    "                <th>Value 1</th>\n",
    "                <th>Value 2</th>\n",
    "                <th>Result</th>\n",
    "            </tr>\n",
    "            <tr>\n",
    "                <td>1</td>\n",
    "                <td>1</td>\n",
    "                <td>1</td>\n",
    "            </tr>\n",
    "            <tr>\n",
    "                <td>1</td>\n",
    "                <td>0</td>\n",
    "                <td>0</td>\n",
    "            </tr>\n",
    "            <tr>\n",
    "                <td>0</td>\n",
    "                <td>1</td>\n",
    "                <td>0</td>\n",
    "            </tr>\n",
    "            <tr>\n",
    "                <td>0</td>\n",
    "                <td>0</td>\n",
    "                <td>0</td>\n",
    "            </tr>\n",
    "        </table>\n",
    "    </div>\n",
    "    <div>OR Operator</div>\n",
    "    <div>\n",
    "        <table>\n",
    "            <tr>\n",
    "                <th>Value 1</th>\n",
    "                <th>Value 2</th>\n",
    "                <th>Result</th>\n",
    "            </tr>\n",
    "            <tr>\n",
    "                <td>1</td>\n",
    "                <td>1</td>\n",
    "                <td>1</td>\n",
    "            </tr>\n",
    "            <tr>\n",
    "                <td>1</td>\n",
    "                <td>0</td>\n",
    "                <td>1</td>\n",
    "            </tr>\n",
    "            <tr>\n",
    "                <td>0</td>\n",
    "                <td>1</td>\n",
    "                <td>1</td>\n",
    "            </tr>\n",
    "            <tr>\n",
    "                <td>0</td>\n",
    "                <td>0</td>\n",
    "                <td>0</td>\n",
    "            </tr>\n",
    "        </table>\n",
    "    </div>\n",
    "    <div>Not operator</div>\n",
    "    <div>\n",
    "        <table>\n",
    "            <tr>\n",
    "                <th>Not</th>\n",
    "                <th>Value</th>\n",
    "                <th>Result</th>\n",
    "            </tr>\n",
    "            <tr>\n",
    "                <td>Not</td>\n",
    "                <td>1</td>\n",
    "                <td>0</td>\n",
    "            </tr>\n",
    "            <tr>\n",
    "                <td>Not</td>\n",
    "                <td>0</td>\n",
    "                <td>1</td>\n",
    "            </tr>\n",
    "        </table>\n",
    "    </div>\n",
    "</html>"
   ]
  },
  {
   "cell_type": "markdown",
   "metadata": {},
   "source": [
    "## Python Practice"
   ]
  },
  {
   "cell_type": "code",
   "execution_count": 1,
   "metadata": {},
   "outputs": [
    {
     "name": "stdout",
     "output_type": "stream",
     "text": [
      "False\n",
      "True\n",
      "True\n"
     ]
    }
   ],
   "source": [
    "# Testing out relational operators\n",
    "# Practice with these statements\n",
    "\n",
    "print(20 == 30) # How can you change the operator to print a value of False? \n",
    "# Answer: by changing it to the equal sign because 20 does not equal 30, so it would return as false\n",
    "\n",
    "x = 30\n",
    "y = 20\n",
    "z = 10\n",
    "print(x >= y + z) # How can this return true by only manipulating the operator?\n",
    "# by changing it to a greater than or equal to sign, that way 30 is equal to 30, so it will return as true \n",
    "\n",
    "# Manipulate the variables x, y, and z to make the below statement return true\n",
    "# I added y to z so that 30 == 30, so it would return as true \n",
    "print(x == z + y)"
   ]
  },
  {
   "cell_type": "markdown",
   "metadata": {},
   "source": [
    "# 3.6 Hacks\n",
    "\n",
    "## AP Prep\n",
    "\n",
    "**1. What is displayed by this code?**\n",
    "- result <-- 75\n",
    "- IF result < 80 {\n",
    "    DISPLAY(\"Please schedule a retake.\")\n",
    "}\n",
    "- ELSE {\n",
    "    DISPLAY(\"Nice job!\")\n",
    "}\n",
    "\n",
    "1. Nice job!\n",
    "2. Display\n",
    "3. Please schedule a retake. (answer)\n",
    "4. 75\n",
    "\n",
    "**2. How is an if statement different from an if-else statement.**\n",
    "\n",
    "1. Extra words.\n",
    "2. An if statement will only go through a process if a condition is met. An if-else statement will go through code no matter the conditions. (answer)\n",
    "3. They are the exact same.\n",
    "4. An if statement will go through the entire code segment every single time and the if-else statement is always used in an algorithm, no matter the conditions.\n",
    "\n",
    "**3. What would be most appropriate for this situation? Ben wants to check his bank account. If his car fuel is full, he will go to the bank. Otherwise, he will go home. If he goes to the bank, he will withdraw money only if his balance is above $1000.**\n",
    "\n",
    "1. If statement\n",
    "2. If-else statement (answer)\n",
    "\n",
    "**4. What would be most appropriate for this situation? Luke wants to play basketball. If it is sunny outside he will go to the park to play basketball.**\n",
    "\n",
    "1. If statement (answer)\n",
    "2. If-else statement\n",
    "\n",
    "## Using Python"
   ]
  },
  {
   "cell_type": "code",
   "execution_count": 41,
   "metadata": {},
   "outputs": [
    {
     "name": "stdout",
     "output_type": "stream",
     "text": [
      "['lion', 'tiger', 'wildebeest', 'shark', 'jellyfish', 'blobfish', 'raven']\n",
      "lion\n",
      "tiger\n",
      "wildebeest\n",
      "Fun Fact: The smallest shark is the dwarf lantern shark, and it is small enough to hold in your hand!\n",
      "jellyfish\n",
      "blobfish\n",
      "raven\n",
      "lion(e)s do not live in the desert\n",
      "tiger(e)s do not live in the desert\n",
      "wildebeest(e)s do not live in the desert\n",
      "shark(e)s do not live in the desert\n",
      "jellyfish(e)s do not live in the desert\n",
      "blobfish(e)s do not live in the desert\n",
      "ravens live in the desert\n"
     ]
    }
   ],
   "source": [
    "animals = [\"lion\", \"tiger\", \"wildebeest\", \"shark\", \"jellyfish\", \"blobfish\", \"raven\"]\n",
    " \n",
    "print(animals)\n",
    "for i in animals:\n",
    "    if i == \"shark\": # What boolean value does this statement cause? Answer: True\n",
    "        print(\"Fun Fact: The smallest shark is the dwarf lantern shark, and it is small enough to hold in your hand!\")\n",
    "    else:\n",
    "        print(i)\n",
    "\n",
    "for i in animals:\n",
    "    if i == \"raven\": # if the item in the list animals is raven \n",
    "        print(i + \"s live in the desert\") #print \n",
    "    else:\n",
    "        print(i + \"(e)s do not live in the desert\") # if the item in the list animals is not raven, print this line \n",
    "        \n",
    "        \n",
    " \n",
    "# Practice\n",
    "# Using only one more if statement, alter the code to print out a statement saying if an animal lives in the desert, based on booleans"
   ]
  },
  {
   "cell_type": "markdown",
   "metadata": {},
   "source": [
    "# 3.7 Hacks\n",
    "\n",
    "## Exercise 1\n",
    "- Create dictionaries for multiple food items, with the listed specifications\n",
    "    - Chicken Alfredo, Meat: Chicken, Time to Prepare: 60 minutes\n",
    "    - Cheese Quesadilla, Meat: None, Time to Prepare: 10 minutes\n",
    "    - Beef Wellington, Meat: Beef, Time to Prepare: 150 minutes\n",
    "- Used nested conditionals, determine which meal you can cook, given that a) you have no meat at home, and b) you only have 30 minutes to make the meal"
   ]
  },
  {
   "cell_type": "code",
   "execution_count": 23,
   "metadata": {},
   "outputs": [
    {
     "name": "stdout",
     "output_type": "stream",
     "text": [
      "can I make chicken alfredo?\n",
      "No, you can't make this meal.\n",
      "can I make a cheese quesadilla?\n",
      "Yes, you can make this meal with what you have in the fridge!\n",
      "can I make beef wellington?\n",
      "No, you can't make this meal.\n"
     ]
    }
   ],
   "source": [
    "# Write code here\n",
    "#dictionaries defined below with all of the specifications\n",
    "chickenAlfredo =  {\n",
    "        \"isMeat\": True,\n",
    "        \"prepTime\": 60}\n",
    "\n",
    "cheeseQuesadilla = {\"isMeat\": False,\n",
    "            \"prepTime\": 10}\n",
    "\n",
    "beefWellington = {\"isMeat\": True,\n",
    "            \"prepTime\": 150} \n",
    "\n",
    "def cook(meal): #define a function cook(meal)\n",
    "    if meal[\"isMeat\"] == False: # if isMeat in my dictionary is false, then proceeds to nested iteration\n",
    "        if meal[\"prepTime\"] <= 30: #if meal \"prepTime\" from my dictionary is less than or equal to 30 \n",
    "            print(\"Yes, you can make this meal with what you have in the fridge!\") #print this statement\n",
    "        else: \n",
    "            print(\"No, you can't make this meal, you don't have enough time.\") \n",
    "#this line wont print because beef wellington and chicken parm both have meat == true, so it won't get to the next statement and will print the else statement below\n",
    "    else:\n",
    "        print(\"No, you can't make this meal, you don't have meat.\")\n",
    "        # if meat is true, this line will print \n",
    "print(\"can I make chicken alfredo?\")     \n",
    "cook(chickenAlfredo) # function will print based on defined dictionaries \n",
    "print(\"can I make a cheese quesadilla?\")\n",
    "cook(cheeseQuesadilla)\n",
    "print(\"can I make beef wellington?\")\n",
    "cook(beefWellington)"
   ]
  },
  {
   "cell_type": "markdown",
   "metadata": {},
   "source": [
    "## Exercise 2\n",
    "![](https://github.com/kayleehou/myproject/blob/master/images/hacksflowchart.PNG?raw=true)\n",
    "\n",
    "- Mr. Yeung would like to grade live reviews.   \n",
    "- He wants to see if each student has at least 2 issues on their project. If they don't they receive a score of 2.0.\n",
    "- If they have at least 2 issues, check that they have completed at least 5 of their scrumboard tasks.\n",
    "- If they have completed 5 scrumboard tasks, give the student a 2.7. If they have not completed 5 scrumboard tasks, give them a score of 2.5. If they have completed more than 5 tasks, give them a score of 3.0.\n",
    "- How much would a student with 3 issues and 1 complete scrumboard task receive?\n",
    "\n",
    "**ANSWER:** they would receive a 2.0 because they 3 issues which is more than 2, however, they wouldn't be able to get any more points because they don't have at least 5 scrumboard tasks "
   ]
  }
 ],
 "metadata": {
  "kernelspec": {
   "display_name": "Python 3.9.12 ('base')",
   "language": "python",
   "name": "python3"
  },
  "language_info": {
   "codemirror_mode": {
    "name": "ipython",
    "version": 3
   },
   "file_extension": ".py",
   "mimetype": "text/x-python",
   "name": "python",
   "nbconvert_exporter": "python",
   "pygments_lexer": "ipython3",
   "version": "3.9.12"
  },
  "orig_nbformat": 4,
  "vscode": {
   "interpreter": {
    "hash": "d1e630f086fdc2c4485cd3472dbc38e15291e251b78da1fca784a44d4839495c"
   }
  }
 },
 "nbformat": 4,
 "nbformat_minor": 2
}
